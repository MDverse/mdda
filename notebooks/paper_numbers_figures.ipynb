{
 "cells": [
  {
   "cell_type": "markdown",
   "id": "e8c316ba-206f-4a5b-8dc3-de6d2ae365f9",
   "metadata": {},
   "source": [
    "# Paper numbers & figures\n",
    "\n",
    "## Import libraries"
   ]
  },
  {
   "cell_type": "code",
   "execution_count": 1,
   "id": "ceeb9885-6af0-4e65-99be-b0f4f4b2b721",
   "metadata": {},
   "outputs": [],
   "source": [
    "from matplotlib.lines import Line2D\n",
    "import matplotlib.patches as mpatches\n",
    "import matplotlib.pyplot as plt\n",
    "import numpy as np\n",
    "import pandas as pd\n",
    "from pysankey import sankey  # https://github.com/Pierre-Sassoulas/pySankey\n",
    "from upsetplot import UpSet  # https://upsetplot.readthedocs.io/en/stable/index.html\n",
    "from upsetplot import plot as UPplot\n",
    "import yaml\n",
    "\n",
    "pd.set_option(\"display.max_colwidth\", None)"
   ]
  },
  {
   "cell_type": "markdown",
   "id": "5a501f81-e984-47b1-89e6-bda91d17e44e",
   "metadata": {},
   "source": [
    "## Load data\n",
    "\n",
    "All data files should be located in `../data/`"
   ]
  },
  {
   "cell_type": "code",
   "execution_count": 2,
   "id": "467a243a-6ff4-46e0-bf5e-038841fbe403",
   "metadata": {},
   "outputs": [
    {
     "name": "stdout",
     "output_type": "stream",
     "text": [
      "zenodo: found 996 datasets.\n",
      "zenodo: found 154375 files.\n",
      "zenodo: merged dataframe has 154375 entries.\n",
      "\n",
      "figshare: found 906 datasets.\n",
      "figshare: found 79075 files.\n",
      "figshare: merged dataframe has 79075 entries.\n",
      "\n",
      "osf: found 67 datasets.\n",
      "osf: found 6148 files.\n",
      "osf: merged dataframe has 6148 entries.\n",
      "\n",
      "Dimensions of the final dataframe: 239598 lines (files) x 18 columns\n"
     ]
    }
   ],
   "source": [
    "df = pd.DataFrame()\n",
    "for repository in [\"zenodo\", \"figshare\", \"osf\"]:\n",
    "    datasets = pd.read_csv(\n",
    "        f\"../data/{repository}_datasets.tsv\",\n",
    "        sep=\"\\t\",\n",
    "        dtype={\"dataset_id\": str}\n",
    "    )\n",
    "    print(f\"{repository}: found {datasets.shape[0]} datasets.\")\n",
    "    files = pd.read_csv(\n",
    "        f\"../data/{repository}_files.tsv\",\n",
    "        sep=\"\\t\",\n",
    "        dtype={\"dataset_id\": str, \"file_type\": str,\n",
    "               \"file_md5\": str, \"file_url\": str}\n",
    "    )\n",
    "    print(f\"{repository}: found {files.shape[0]} files.\")\n",
    "    tab = pd.merge(files, datasets, how=\"left\", on=[\"dataset_id\", \"dataset_origin\"], validate=\"many_to_one\")\n",
    "    print(f\"{repository}: merged dataframe has {tab.shape[0]} entries.\\n\")\n",
    "    df = pd.concat([df, tab], ignore_index=True)\n",
    "\n",
    "print(f\"Dimensions of the final dataframe: {len(df)} lines (files) x {df.shape[1]} columns\")"
   ]
  },
  {
   "cell_type": "markdown",
   "id": "9fd651dc-6f32-4da0-b07d-af9da62ff8ec",
   "metadata": {},
   "source": [
    "## Assign year"
   ]
  },
  {
   "cell_type": "code",
   "execution_count": 3,
   "id": "75d37f50-65ac-4867-b46d-659e88725964",
   "metadata": {},
   "outputs": [],
   "source": [
    "df[\"year\"] = df[\"date_creation\"].apply(lambda x: int(x[:4]))"
   ]
  },
  {
   "cell_type": "markdown",
   "id": "47780c1b-9f42-40c0-817e-9fd4ae59e6e6",
   "metadata": {},
   "source": [
    "## Number of datasets and files by data repository"
   ]
  },
  {
   "cell_type": "code",
   "execution_count": 4,
   "id": "ed9e8778-27c0-469b-b82c-ff0e7e5c276c",
   "metadata": {},
   "outputs": [
    {
     "data": {
      "text/html": [
       "<style type=\"text/css\">\n",
       "</style>\n",
       "<table id=\"T_39404\">\n",
       "  <thead>\n",
       "    <tr>\n",
       "      <th class=\"blank level0\" >&nbsp;</th>\n",
       "      <th id=\"T_39404_level0_col0\" class=\"col_heading level0 col0\" >number_of_datasets</th>\n",
       "      <th id=\"T_39404_level0_col1\" class=\"col_heading level0 col1\" >date_first_dataset</th>\n",
       "      <th id=\"T_39404_level0_col2\" class=\"col_heading level0 col2\" >date_last_dataset</th>\n",
       "      <th id=\"T_39404_level0_col3\" class=\"col_heading level0 col3\" >files_from_datasets</th>\n",
       "      <th id=\"T_39404_level0_col4\" class=\"col_heading level0 col4\" >total_size_in_GB</th>\n",
       "      <th id=\"T_39404_level0_col5\" class=\"col_heading level0 col5\" >zip_files</th>\n",
       "      <th id=\"T_39404_level0_col6\" class=\"col_heading level0 col6\" >files_from_zip_files</th>\n",
       "      <th id=\"T_39404_level0_col7\" class=\"col_heading level0 col7\" >total_files</th>\n",
       "    </tr>\n",
       "    <tr>\n",
       "      <th class=\"index_name level0\" >dataset_origin</th>\n",
       "      <th class=\"blank col0\" >&nbsp;</th>\n",
       "      <th class=\"blank col1\" >&nbsp;</th>\n",
       "      <th class=\"blank col2\" >&nbsp;</th>\n",
       "      <th class=\"blank col3\" >&nbsp;</th>\n",
       "      <th class=\"blank col4\" >&nbsp;</th>\n",
       "      <th class=\"blank col5\" >&nbsp;</th>\n",
       "      <th class=\"blank col6\" >&nbsp;</th>\n",
       "      <th class=\"blank col7\" >&nbsp;</th>\n",
       "    </tr>\n",
       "  </thead>\n",
       "  <tbody>\n",
       "    <tr>\n",
       "      <th id=\"T_39404_level0_row0\" class=\"row_heading level0 row0\" >figshare</th>\n",
       "      <td id=\"T_39404_row0_col0\" class=\"data row0 col0\" >906</td>\n",
       "      <td id=\"T_39404_row0_col1\" class=\"data row0 col1\" >2012-08-20</td>\n",
       "      <td id=\"T_39404_row0_col2\" class=\"data row0 col2\" >2023-02-03</td>\n",
       "      <td id=\"T_39404_row0_col3\" class=\"data row0 col3\" >3,235</td>\n",
       "      <td id=\"T_39404_row0_col4\" class=\"data row0 col4\" >745</td>\n",
       "      <td id=\"T_39404_row0_col5\" class=\"data row0 col5\" >589</td>\n",
       "      <td id=\"T_39404_row0_col6\" class=\"data row0 col6\" >75,840</td>\n",
       "      <td id=\"T_39404_row0_col7\" class=\"data row0 col7\" >79,075</td>\n",
       "    </tr>\n",
       "    <tr>\n",
       "      <th id=\"T_39404_level0_row1\" class=\"row_heading level0 row1\" >osf</th>\n",
       "      <td id=\"T_39404_row1_col0\" class=\"data row1 col0\" >60</td>\n",
       "      <td id=\"T_39404_row1_col1\" class=\"data row1 col1\" >2017-05-24</td>\n",
       "      <td id=\"T_39404_row1_col2\" class=\"data row1 col2\" >2023-01-17</td>\n",
       "      <td id=\"T_39404_row1_col3\" class=\"data row1 col3\" >6,148</td>\n",
       "      <td id=\"T_39404_row1_col4\" class=\"data row1 col4\" >489</td>\n",
       "      <td id=\"T_39404_row1_col5\" class=\"data row1 col5\" >14</td>\n",
       "      <td id=\"T_39404_row1_col6\" class=\"data row1 col6\" >0</td>\n",
       "      <td id=\"T_39404_row1_col7\" class=\"data row1 col7\" >6,148</td>\n",
       "    </tr>\n",
       "    <tr>\n",
       "      <th id=\"T_39404_level0_row2\" class=\"row_heading level0 row2\" >zenodo</th>\n",
       "      <td id=\"T_39404_row2_col0\" class=\"data row2 col0\" >996</td>\n",
       "      <td id=\"T_39404_row2_col1\" class=\"data row2 col1\" >2014-11-19</td>\n",
       "      <td id=\"T_39404_row2_col2\" class=\"data row2 col2\" >2023-02-03</td>\n",
       "      <td id=\"T_39404_row2_col3\" class=\"data row2 col3\" >19,697</td>\n",
       "      <td id=\"T_39404_row2_col4\" class=\"data row2 col4\" >12,562</td>\n",
       "      <td id=\"T_39404_row2_col5\" class=\"data row2 col5\" >1,598</td>\n",
       "      <td id=\"T_39404_row2_col6\" class=\"data row2 col6\" >134,678</td>\n",
       "      <td id=\"T_39404_row2_col7\" class=\"data row2 col7\" >154,375</td>\n",
       "    </tr>\n",
       "    <tr>\n",
       "      <th id=\"T_39404_level0_row3\" class=\"row_heading level0 row3\" >total</th>\n",
       "      <td id=\"T_39404_row3_col0\" class=\"data row3 col0\" >1,962</td>\n",
       "      <td id=\"T_39404_row3_col1\" class=\"data row3 col1\" >nan</td>\n",
       "      <td id=\"T_39404_row3_col2\" class=\"data row3 col2\" >nan</td>\n",
       "      <td id=\"T_39404_row3_col3\" class=\"data row3 col3\" >29,080</td>\n",
       "      <td id=\"T_39404_row3_col4\" class=\"data row3 col4\" >13,796</td>\n",
       "      <td id=\"T_39404_row3_col5\" class=\"data row3 col5\" >2,201</td>\n",
       "      <td id=\"T_39404_row3_col6\" class=\"data row3 col6\" >210,518</td>\n",
       "      <td id=\"T_39404_row3_col7\" class=\"data row3 col7\" >239,598</td>\n",
       "    </tr>\n",
       "  </tbody>\n",
       "</table>\n"
      ],
      "text/plain": [
       "<pandas.io.formats.style.Styler at 0x7f7534fc1fa0>"
      ]
     },
     "execution_count": 4,
     "metadata": {},
     "output_type": "execute_result"
    }
   ],
   "source": [
    "# Add columns for easier aggregation\n",
    "df[\"_is_zip_file\"] = np.where((df[\"file_type\"] == \"zip\"), True, False)\n",
    "df[\"_is_not_from_zip_file\"] = ~ df[\"from_zip_file\"]\n",
    "df[\"_size_not_from_zip_file\"] = np.where((df[\"from_zip_file\"] == False), df[\"file_size\"]/1E9, 0.0)\n",
    "dataset_agg = (df\n",
    " .groupby(\"dataset_origin\")\n",
    " .agg(\n",
    "     number_of_datasets=(\"dataset_id\", \"nunique\"),\n",
    "     date_first_dataset=(\"date_creation\", \"min\"),\n",
    "     date_last_dataset=(\"date_creation\", \"max\"),\n",
    "     files_from_datasets=(\"_is_not_from_zip_file\", \"sum\"),\n",
    "     total_size_in_GB=(\"_size_not_from_zip_file\", \"sum\"),\n",
    "     zip_files=(\"_is_zip_file\", \"sum\"),\n",
    "     files_from_zip_files=(\"from_zip_file\", \"sum\"),\n",
    "     total_files=(\"dataset_id\", \"count\")\n",
    " )\n",
    ")\n",
    "dataset_agg.loc[\"total\"] = dataset_agg.sum(numeric_only=True)\n",
    "dataset_agg.style.format(thousands=\",\", precision=0)"
   ]
  },
  {
   "cell_type": "markdown",
   "id": "70981cdc-2a18-4944-aa39-69f6941fd837",
   "metadata": {},
   "source": [
    "<div class=\"alert alert-info\">\n",
    "Files found in zip files are almost 8 times more numerous than files found directly in datasets.\n",
    "\n",
    "In the following, we will considere all files (found directly in datasets and extracted from zip files).\n",
    "</div>"
   ]
  },
  {
   "cell_type": "markdown",
   "id": "964d8aac-92c6-4be3-b289-a591118a448f",
   "metadata": {},
   "source": [
    "### Assign MD engine"
   ]
  },
  {
   "cell_type": "code",
   "execution_count": 5,
   "id": "e8bc44ea-d57b-4fa6-a996-1268f257fc5d",
   "metadata": {},
   "outputs": [],
   "source": [
    "file_types_list = []\n",
    "with open(\"../params/file_types.yml\", \"r\") as param_file:\n",
    "    data_loaded = yaml.safe_load(param_file)\n",
    "    file_types_list = data_loaded[\"file_types\"]\n",
    "\n",
    "    ext_gromacs = []\n",
    "ext_namd = []\n",
    "ext_amber = []\n",
    "ext_charmm = []\n",
    "ext_desmond = []\n",
    "\n",
    "list_coordinate = []\n",
    "list_trajectory = []\n",
    "list_topology = []\n",
    "\n",
    "for type_dict in file_types_list:\n",
    "    # assign MD engine\n",
    "    if type_dict[\"engine\"] == \"gromacs\":\n",
    "        ext_gromacs.append(type_dict[\"type\"])\n",
    "    elif type_dict[\"engine\"] == \"namd\":\n",
    "        ext_namd.append(type_dict[\"type\"])\n",
    "    elif type_dict[\"engine\"] == \"amber\":\n",
    "        ext_amber.append(type_dict[\"type\"])\n",
    "    elif type_dict[\"engine\"] == \"charmm\":\n",
    "        ext_charmm.append(type_dict[\"type\"])\n",
    "    elif type_dict[\"engine\"] == \"desmond\":\n",
    "        ext_desmond.append(type_dict[\"type\"])\n",
    "    # assign file category\n",
    "    if type_dict[\"category\"] == \"coordinate\":\n",
    "        list_coordinate.append(type_dict[\"type\"])\n",
    "    elif type_dict[\"category\"] == \"topology\":\n",
    "        list_topology.append(type_dict[\"type\"])\n",
    "    elif type_dict[\"category\"] == \"trajectory\":\n",
    "        list_trajectory.append(type_dict[\"type\"])\n",
    "\n",
    "ext_all = ext_gromacs + ext_namd + ext_amber + ext_charmm\n",
    "        \n",
    "# The filetype \"top\" is included in both Gromacs and Amber. \n",
    "# And, the filetype \"prm\" is included in Namd and Amber.\n",
    "# But, to simplify the analyses, I consider that \"top\" is only a filetype of Gromacs and prm a filetype of Namd.\n",
    "\n",
    "def assign_md_engine(file_type):\n",
    "    \"\"\"Assign MD engine based on file type.\n",
    "    \n",
    "    Parameters\n",
    "    ----------\n",
    "    file_type : str\n",
    "        File extension.\n",
    "    \n",
    "    Returns\n",
    "    -------\n",
    "    str\n",
    "        Name of MD engine.\n",
    "    \"\"\"\n",
    "    if file_type in ext_gromacs:\n",
    "        return \"GROMACS\"\n",
    "    elif file_type in (ext_namd + ext_charmm):\n",
    "        return \"NAMD/CHARMM\"\n",
    "    elif file_type in ext_amber:\n",
    "        return \"AMBER\"\n",
    "    elif file_type in ext_desmond:\n",
    "        return \"DESMOND\"\n",
    "    else:\n",
    "        return \"Unknown\"\n",
    "\n",
    "df[\"MD_engine\"] = df[\"file_type\"].apply(assign_md_engine)"
   ]
  },
  {
   "cell_type": "markdown",
   "id": "6c399da1-9b75-45ab-9a90-8cfe26ca02c8",
   "metadata": {},
   "source": [
    "### Number of datasets and files per MD engine"
   ]
  },
  {
   "cell_type": "code",
   "execution_count": 6,
   "id": "5ca41d39-b55b-44e5-8ba4-63a5c97c5f77",
   "metadata": {},
   "outputs": [
    {
     "data": {
      "text/html": [
       "<style type=\"text/css\">\n",
       "</style>\n",
       "<table id=\"T_340cf\">\n",
       "  <thead>\n",
       "    <tr>\n",
       "      <th class=\"blank level0\" >&nbsp;</th>\n",
       "      <th id=\"T_340cf_level0_col0\" class=\"col_heading level0 col0\" >datasets</th>\n",
       "      <th id=\"T_340cf_level0_col1\" class=\"col_heading level0 col1\" >files</th>\n",
       "    </tr>\n",
       "    <tr>\n",
       "      <th class=\"index_name level0\" >MD_engine</th>\n",
       "      <th class=\"blank col0\" >&nbsp;</th>\n",
       "      <th class=\"blank col1\" >&nbsp;</th>\n",
       "    </tr>\n",
       "  </thead>\n",
       "  <tbody>\n",
       "    <tr>\n",
       "      <th id=\"T_340cf_level0_row0\" class=\"row_heading level0 row0\" >AMBER</th>\n",
       "      <td id=\"T_340cf_row0_col0\" class=\"data row0 col0\" >229</td>\n",
       "      <td id=\"T_340cf_row0_col1\" class=\"data row0 col1\" >9,826</td>\n",
       "    </tr>\n",
       "    <tr>\n",
       "      <th id=\"T_340cf_level0_row1\" class=\"row_heading level0 row1\" >DESMOND</th>\n",
       "      <td id=\"T_340cf_row1_col0\" class=\"data row1 col0\" >48</td>\n",
       "      <td id=\"T_340cf_row1_col1\" class=\"data row1 col1\" >1,855</td>\n",
       "    </tr>\n",
       "    <tr>\n",
       "      <th id=\"T_340cf_level0_row2\" class=\"row_heading level0 row2\" >GROMACS</th>\n",
       "      <td id=\"T_340cf_row2_col0\" class=\"data row2 col0\" >1,242</td>\n",
       "      <td id=\"T_340cf_row2_col1\" class=\"data row2 col1\" >83,731</td>\n",
       "    </tr>\n",
       "    <tr>\n",
       "      <th id=\"T_340cf_level0_row3\" class=\"row_heading level0 row3\" >NAMD/CHARMM</th>\n",
       "      <td id=\"T_340cf_row3_col0\" class=\"data row3 col0\" >664</td>\n",
       "      <td id=\"T_340cf_row3_col1\" class=\"data row3 col1\" >12,312</td>\n",
       "    </tr>\n",
       "    <tr>\n",
       "      <th id=\"T_340cf_level0_row4\" class=\"row_heading level0 row4\" >Unknown</th>\n",
       "      <td id=\"T_340cf_row4_col0\" class=\"data row4 col0\" >1,151</td>\n",
       "      <td id=\"T_340cf_row4_col1\" class=\"data row4 col1\" >131,874</td>\n",
       "    </tr>\n",
       "  </tbody>\n",
       "</table>\n"
      ],
      "text/plain": [
       "<pandas.io.formats.style.Styler at 0x7f75338ef040>"
      ]
     },
     "execution_count": 6,
     "metadata": {},
     "output_type": "execute_result"
    }
   ],
   "source": [
    "(df\n",
    " .groupby(\"MD_engine\")\n",
    " .agg(\n",
    "     datasets=(\"dataset_id\", \"nunique\"),\n",
    "     files=(\"dataset_id\", \"count\")\n",
    " ).style.format(thousands=\",\", precision=0)\n",
    ")"
   ]
  },
  {
   "cell_type": "markdown",
   "id": "12bc8a8d-61b3-4543-b776-d34d99751610",
   "metadata": {},
   "source": [
    "### Assign category"
   ]
  },
  {
   "cell_type": "code",
   "execution_count": 7,
   "id": "93da40a9-bc82-4f7b-9be7-a6063b1c5ba9",
   "metadata": {},
   "outputs": [
    {
     "data": {
      "text/plain": [
       "none          167966\n",
       "trajectory     35355\n",
       "topology       29553\n",
       "coordinate      6724\n",
       "Name: category, dtype: int64"
      ]
     },
     "execution_count": 7,
     "metadata": {},
     "output_type": "execute_result"
    }
   ],
   "source": [
    "def assign_file_category(file_type):\n",
    "    \"\"\"Assign file category based on file type.\n",
    "    \n",
    "    Parameters\n",
    "    ----------\n",
    "    file_type : str\n",
    "        File extension.\n",
    "    \n",
    "    Returns\n",
    "    -------\n",
    "    str\n",
    "        Category.\n",
    "    \"\"\"\n",
    "    if file_type in list_coordinate:\n",
    "        return \"coordinate\"\n",
    "    elif file_type in list_topology:\n",
    "        return \"topology\"\n",
    "    elif file_type in list_trajectory:\n",
    "        return \"trajectory\"\n",
    "    else:\n",
    "        return \"none\"\n",
    "\n",
    "df[\"category\"] = df[\"file_type\"].apply(assign_file_category)\n",
    "df[\"category\"].value_counts()"
   ]
  },
  {
   "cell_type": "markdown",
   "id": "1356561e-fcee-4ef8-9146-178b901a0840",
   "metadata": {},
   "source": [
    "## Figure 1\n",
    "\n",
    "Evolution of number of “molecular dynamics” papers in PubMed vs time\n",
    "\n",
    "See notebook `search_MD_in_pubmed.ipynb`."
   ]
  },
  {
   "cell_type": "markdown",
   "id": "47d9a199-d394-40ef-bc7f-a5815cb41afd",
   "metadata": {},
   "source": [
    "## Figure 2\n",
    "\n",
    "### 2.B. Evolution of the number MD files deposited in data repositories"
   ]
  },
  {
   "cell_type": "code",
   "execution_count": 8,
   "id": "5eb8e167-98a8-47c7-a9dd-9c7c252f4325",
   "metadata": {},
   "outputs": [
    {
     "data": {
      "image/png": "[encoded data removed]",
      "text/plain": [
       "<Figure size 1200x700 with 1 Axes>"
      ]
     },
     "metadata": {},
     "output_type": "display_data"
    }
   ],
   "source": [
    "plt.rcParams.update({\"font.size\": 16})\n",
    "(df\n",
    " .query(\"year != 2023\")\n",
    " .groupby([\"year\", \"dataset_origin\"])\n",
    " .size().unstack()\n",
    " .plot(kind=\"bar\", stacked=True, figsize=(12,7))\n",
    ")\n",
    "plt.xlabel(\"Years\")\n",
    "plt.xticks(rotation=0)\n",
    "plt.ylabel(\"Number of files\")\n",
    "plt.legend(title=\"Data repositories\")\n",
    "filename = \"fig/number_of_files_per_years_per_data_repositories\"\n",
    "plt.savefig(f\"{filename}.png\", dpi=300, bbox_inches=\"tight\")\n",
    "plt.savefig(f\"{filename}.svg\", bbox_inches=\"tight\")"
   ]
  },
  {
   "cell_type": "markdown",
   "id": "12712e8b-abd9-4a66-8281-49cb18e9890c",
   "metadata": {},
   "source": [
    "### 2.B. MD engines distribution"
   ]
  },
  {
   "cell_type": "code",
   "execution_count": 9,
   "id": "3faba910-d405-4227-8d38-e8e7ed4fd079",
   "metadata": {},
   "outputs": [
    {
     "data": {
      "image/png": "[encoded data removed]",
      "text/plain": [
       "<Figure size 1200x700 with 1 Axes>"
      ]
     },
     "metadata": {},
     "output_type": "display_data"
    }
   ],
   "source": [
    "plt.rcParams.update({'font.size': 16})\n",
    "(df\n",
    " .loc[:, \"MD_engine\"]\n",
    " .value_counts()\n",
    " .sort_index()\n",
    " .plot(kind=\"bar\", color=[\"tab:blue\", \"tab:orange\", \"tab:green\", \"tab:purple\", \"lightgrey\"], figsize=(12,7))\n",
    ")\n",
    "plt.xlabel(\"MD engine\")\n",
    "plt.xticks(rotation=0)\n",
    "plt.ylabel(\"Number of files\")\n",
    "filename = \"fig/number_of_files_per_MD_engine\"\n",
    "plt.savefig(f\"{filename}.png\", dpi=300, bbox_inches=\"tight\")\n",
    "plt.savefig(f\"{filename}.svg\", bbox_inches=\"tight\")"
   ]
  },
  {
   "cell_type": "markdown",
   "id": "2301fbea-c9e4-458b-aff9-a1275b721115",
   "metadata": {},
   "source": [
    "### 2.C. Type of files not associated to any MD engine"
   ]
  },
  {
   "cell_type": "code",
   "execution_count": 10,
   "id": "65445844-8799-46c4-b08b-61391ee65711",
   "metadata": {},
   "outputs": [
    {
     "data": {
      "image/png": "[encoded data removed]",
      "text/plain": [
       "<Figure size 1200x700 with 1 Axes>"
      ]
     },
     "metadata": {},
     "output_type": "display_data"
    }
   ],
   "source": [
    "plt.rcParams.update({\"font.size\": 16})\n",
    "(df\n",
    " .query(\"MD_engine == 'Unknown'\")\n",
    " .loc[:, \"file_type\"]\n",
    " .value_counts()\n",
    " .head(n=10)\n",
    " .plot(kind=\"bar\", color=\"lightgrey\", figsize=(12,7))\n",
    ")\n",
    "plt.xlabel(\"File types\")\n",
    "plt.xticks(rotation=0)\n",
    "plt.ylabel(\"Number of files\")\n",
    "filename = \"fig/number_of_files_per_filetype_no_MD_engine\"\n",
    "plt.savefig(f\"{filename}.png\", dpi=300, bbox_inches=\"tight\")\n",
    "plt.savefig(f\"{filename}.svg\", bbox_inches=\"tight\")"
   ]
  },
  {
   "cell_type": "markdown",
   "id": "b3412192-1309-4e90-a811-5328265829cb",
   "metadata": {},
   "source": [
    "Most files with no file type are simulation snapshots, log or README files."
   ]
  },
  {
   "cell_type": "markdown",
   "id": "bdddf576-d1c1-4dc2-a33a-8defe4f89d1d",
   "metadata": {},
   "source": [
    "## Figure 3\n",
    "\n",
    "### 3.A. Gromacs file types by categories\n",
    "\n",
    "10 most frequent Gromacs file types"
   ]
  },
  {
   "cell_type": "code",
   "execution_count": 11,
   "id": "99aa48bf-2b81-44a2-b070-3a87eceb36f4",
   "metadata": {},
   "outputs": [
    {
     "data": {
      "image/png": "[encoded data removed]",
      "text/plain": [
       "<Figure size 1200x700 with 1 Axes>"
      ]
     },
     "metadata": {},
     "output_type": "display_data"
    }
   ],
   "source": [
    "colors={\n",
    "    \"trajectory\":\"red\",\n",
    "    \"topology\":\"green\",\n",
    "    \"none\":\"grey\"\n",
    "}\n",
    "gromacs_file_types = (df\n",
    " .query(\"MD_engine == 'GROMACS'\")\n",
    " .groupby(\"file_type\").agg({\"category\": \"first\", \"file_name\": \"count\"})\n",
    " .sort_values(by=\"file_name\", ascending=False)\n",
    ")\n",
    "plt.rcParams.update({'font.size': 16})\n",
    "gromacs_file_types[\"color\"] = gromacs_file_types[\"category\"].map(colors)\n",
    "gromacs_file_types.plot(kind=\"bar\", y=\"file_name\", figsize=(12,7), color=gromacs_file_types[\"color\"])\n",
    "plt.xlabel(\"File type\")\n",
    "plt.ylabel(\"Number of files\")\n",
    "# Custom legend.\n",
    "traj_patch = mpatches.Patch(color=\"red\", label=\"Trajectory\")\n",
    "topol_patch = mpatches.Patch(color=\"green\", label=\"Topology\")\n",
    "misc_patch = mpatches.Patch(color=\"grey\", label=\"Misc.\")\n",
    "plt.legend(handles=[traj_patch, topol_patch, misc_patch])\n",
    "filename = \"fig/number_of_files_by_Gromacs_filetype\"\n",
    "plt.savefig(f\"{filename}.png\", dpi=300, bbox_inches=\"tight\")\n",
    "plt.savefig(f\"{filename}.svg\", bbox_inches=\"tight\")"
   ]
  },
  {
   "cell_type": "code",
   "execution_count": 12,
   "id": "d5a79c7e-eb0d-42de-b560-ee4a49aff4d1",
   "metadata": {},
   "outputs": [
    {
     "name": "stdout",
     "output_type": "stream",
     "text": [
      "Total of 83731 Gromacs files from 1242 datasets.\n"
     ]
    }
   ],
   "source": [
    "gromacs_files = df.query(\"MD_engine == 'GROMACS'\")\n",
    "print(\n",
    "    f\"Total of {gromacs_files.shape[0]} Gromacs files \"\n",
    "    f\"from {gromacs_files['dataset_id'].nunique()} datasets.\"\n",
    ")"
   ]
  },
  {
   "cell_type": "markdown",
   "id": "45e0c150-5c64-4413-9846-d71550ae7b79",
   "metadata": {},
   "source": [
    "### 3.B. Cumulated distribution of gro files"
   ]
  },
  {
   "cell_type": "code",
   "execution_count": 13,
   "id": "7a2805b1-543a-4043-a16b-d46066ebf931",
   "metadata": {},
   "outputs": [
    {
     "name": "stdout",
     "output_type": "stream",
     "text": [
      "Dataset has 8671 gro files\n"
     ]
    },
    {
     "data": {
      "text/html": [
       "<div>\n",
       "<style scoped>\n",
       "    .dataframe tbody tr th:only-of-type {\n",
       "        vertical-align: middle;\n",
       "    }\n",
       "\n",
       "    .dataframe tbody tr th {\n",
       "        vertical-align: top;\n",
       "    }\n",
       "\n",
       "    .dataframe thead th {\n",
       "        text-align: right;\n",
       "    }\n",
       "</style>\n",
       "<table border=\"1\" class=\"dataframe\">\n",
       "  <thead>\n",
       "    <tr style=\"text-align: right;\">\n",
       "      <th></th>\n",
       "      <th>dataset_origin</th>\n",
       "      <th>dataset_id</th>\n",
       "      <th>file_name</th>\n",
       "      <th>atom_number</th>\n",
       "      <th>has_protein</th>\n",
       "      <th>has_nucleic</th>\n",
       "      <th>has_lipid</th>\n",
       "      <th>has_glucid</th>\n",
       "      <th>has_water_ion</th>\n",
       "      <th>dataset_url</th>\n",
       "    </tr>\n",
       "  </thead>\n",
       "  <tbody>\n",
       "    <tr>\n",
       "      <th>0</th>\n",
       "      <td>zenodo</td>\n",
       "      <td>1043926</td>\n",
       "      <td>DPPC-298K-42-CA.gro</td>\n",
       "      <td>229788.0</td>\n",
       "      <td>False</td>\n",
       "      <td>False</td>\n",
       "      <td>True</td>\n",
       "      <td>False</td>\n",
       "      <td>True</td>\n",
       "      <td>https://zenodo.org/record/1043926</td>\n",
       "    </tr>\n",
       "    <tr>\n",
       "      <th>1</th>\n",
       "      <td>zenodo</td>\n",
       "      <td>1043926</td>\n",
       "      <td>DPPC-298K-48-CA.gro</td>\n",
       "      <td>229788.0</td>\n",
       "      <td>False</td>\n",
       "      <td>False</td>\n",
       "      <td>True</td>\n",
       "      <td>False</td>\n",
       "      <td>True</td>\n",
       "      <td>https://zenodo.org/record/1043926</td>\n",
       "    </tr>\n",
       "    <tr>\n",
       "      <th>2</th>\n",
       "      <td>zenodo</td>\n",
       "      <td>1043926</td>\n",
       "      <td>DPPC-298K-54-CA.gro</td>\n",
       "      <td>229788.0</td>\n",
       "      <td>False</td>\n",
       "      <td>False</td>\n",
       "      <td>True</td>\n",
       "      <td>False</td>\n",
       "      <td>True</td>\n",
       "      <td>https://zenodo.org/record/1043926</td>\n",
       "    </tr>\n",
       "    <tr>\n",
       "      <th>3</th>\n",
       "      <td>zenodo</td>\n",
       "      <td>1043926</td>\n",
       "      <td>DPPC-298K-60-CA.gro</td>\n",
       "      <td>229788.0</td>\n",
       "      <td>False</td>\n",
       "      <td>False</td>\n",
       "      <td>True</td>\n",
       "      <td>False</td>\n",
       "      <td>True</td>\n",
       "      <td>https://zenodo.org/record/1043926</td>\n",
       "    </tr>\n",
       "    <tr>\n",
       "      <th>4</th>\n",
       "      <td>zenodo</td>\n",
       "      <td>1043926</td>\n",
       "      <td>DPPC-298K-66-CA.gro</td>\n",
       "      <td>229788.0</td>\n",
       "      <td>False</td>\n",
       "      <td>False</td>\n",
       "      <td>True</td>\n",
       "      <td>False</td>\n",
       "      <td>True</td>\n",
       "      <td>https://zenodo.org/record/1043926</td>\n",
       "    </tr>\n",
       "  </tbody>\n",
       "</table>\n",
       "</div>"
      ],
      "text/plain": [
       "  dataset_origin dataset_id            file_name  atom_number  has_protein  \\\n",
       "0         zenodo    1043926  DPPC-298K-42-CA.gro     229788.0        False   \n",
       "1         zenodo    1043926  DPPC-298K-48-CA.gro     229788.0        False   \n",
       "2         zenodo    1043926  DPPC-298K-54-CA.gro     229788.0        False   \n",
       "3         zenodo    1043926  DPPC-298K-60-CA.gro     229788.0        False   \n",
       "4         zenodo    1043926  DPPC-298K-66-CA.gro     229788.0        False   \n",
       "\n",
       "   has_nucleic  has_lipid  has_glucid  has_water_ion  \\\n",
       "0        False       True       False           True   \n",
       "1        False       True       False           True   \n",
       "2        False       True       False           True   \n",
       "3        False       True       False           True   \n",
       "4        False       True       False           True   \n",
       "\n",
       "                         dataset_url  \n",
       "0  https://zenodo.org/record/1043926  \n",
       "1  https://zenodo.org/record/1043926  \n",
       "2  https://zenodo.org/record/1043926  \n",
       "3  https://zenodo.org/record/1043926  \n",
       "4  https://zenodo.org/record/1043926  "
      ]
     },
     "execution_count": 13,
     "metadata": {},
     "output_type": "execute_result"
    }
   ],
   "source": [
    "gro_df = pd.read_csv(\"../data/gromacs_gro_files_info.tsv\", sep=\"\\t\")\n",
    "gro_df = pd.merge(\n",
    "    gro_df,\n",
    "    df[[\"dataset_origin\", \"dataset_id\", \"dataset_url\"]].drop_duplicates(),\n",
    "    on=[\"dataset_origin\", \"dataset_id\"],\n",
    "    how=\"left\"\n",
    ")\n",
    "print(f\"Dataset has {len(gro_df)} gro files\")\n",
    "gro_df.head()"
   ]
  },
  {
   "cell_type": "code",
   "execution_count": 14,
   "id": "a7a29173-f637-4045-ac16-81156154e07d",
   "metadata": {},
   "outputs": [
    {
     "data": {
      "image/png": "[encoded data removed]",
      "text/plain": [
       "<Figure size 1000x700 with 1 Axes>"
      ]
     },
     "metadata": {},
     "output_type": "display_data"
    }
   ],
   "source": [
    "def plot_system_size_distribution(df):\n",
    "    \"\"\"Plot system size distribution\"\"\"\n",
    "    # Convert system size to k-particules (1000) \n",
    "    df[\"k_particles\"] = gro_df[\"atom_number\"] / 1000\n",
    "\n",
    "    logbins = np.geomspace(df[\"k_particles\"].min()+1, df[\"k_particles\"].max(), 1_000)\n",
    "\n",
    "    plt.rcParams.update({\"font.size\": 16})\n",
    "    fig, ax = plt.subplots(figsize=(10,7))\n",
    "    values, bins, _ = ax.hist(\n",
    "        df[\"k_particles\"], \n",
    "        bins=logbins,\n",
    "        color=\"tab:orange\", linewidth=3,\n",
    "        histtype=\"step\", cumulative=True, density=True\n",
    "    )\n",
    "    ax.set_xlabel(r\"System size ($\\times$ 1000 particles)\")\n",
    "    ax.set_ylabel(\"Cumulated distribution of files (%)\")\n",
    "    ax.set_yticks(np.arange(0, 1.1, 0.2), [f\"{value:.0f}\" for value in np.arange(0, 1.1, 0.2)*100])\n",
    "    ax.set_xscale(\"log\")\n",
    "    ax.set_xlim(1, df[\"k_particles\"].max() - df[\"k_particles\"].max()*0.1)\n",
    "    filename = \"fig/gromacs_gro_system_size_cumulated_distribution\"\n",
    "    plt.savefig(f\"{filename}.png\", dpi=300, bbox_inches=\"tight\")\n",
    "    plt.savefig(f\"{filename}.svg\", bbox_inches=\"tight\")\n",
    "\n",
    "plot_system_size_distribution(gro_df)"
   ]
  },
  {
   "cell_type": "markdown",
   "id": "00f14551-a8d0-4235-b7a5-38d96e6ae708",
   "metadata": {},
   "source": [
    "Smallest systems:"
   ]
  },
  {
   "cell_type": "code",
   "execution_count": 15,
   "id": "d9750dbe-a955-4641-8bd5-d24453ffa516",
   "metadata": {},
   "outputs": [
    {
     "data": {
      "text/html": [
       "<div>\n",
       "<style scoped>\n",
       "    .dataframe tbody tr th:only-of-type {\n",
       "        vertical-align: middle;\n",
       "    }\n",
       "\n",
       "    .dataframe tbody tr th {\n",
       "        vertical-align: top;\n",
       "    }\n",
       "\n",
       "    .dataframe thead th {\n",
       "        text-align: right;\n",
       "    }\n",
       "</style>\n",
       "<table border=\"1\" class=\"dataframe\">\n",
       "  <thead>\n",
       "    <tr style=\"text-align: right;\">\n",
       "      <th></th>\n",
       "      <th>dataset_origin</th>\n",
       "      <th>dataset_id</th>\n",
       "      <th>file_name</th>\n",
       "      <th>atom_number</th>\n",
       "      <th>has_protein</th>\n",
       "      <th>has_nucleic</th>\n",
       "      <th>has_lipid</th>\n",
       "      <th>has_glucid</th>\n",
       "      <th>has_water_ion</th>\n",
       "      <th>dataset_url</th>\n",
       "      <th>k_particles</th>\n",
       "    </tr>\n",
       "  </thead>\n",
       "  <tbody>\n",
       "    <tr>\n",
       "      <th>8115</th>\n",
       "      <td>figshare</td>\n",
       "      <td>8846045</td>\n",
       "      <td>Tutorial/gro/cell.gro</td>\n",
       "      <td>2.0</td>\n",
       "      <td>False</td>\n",
       "      <td>False</td>\n",
       "      <td>False</td>\n",
       "      <td>False</td>\n",
       "      <td>False</td>\n",
       "      <td>https://acs.figshare.com/articles/dataset/Nucleation_Mechanisms_of_Self-Assembled_Physisorbed_Monolayers_on_Graphite/8846045</td>\n",
       "      <td>0.002</td>\n",
       "    </tr>\n",
       "    <tr>\n",
       "      <th>6841</th>\n",
       "      <td>figshare</td>\n",
       "      <td>5190502</td>\n",
       "      <td>H2O_v2.gro</td>\n",
       "      <td>3.0</td>\n",
       "      <td>False</td>\n",
       "      <td>False</td>\n",
       "      <td>False</td>\n",
       "      <td>False</td>\n",
       "      <td>False</td>\n",
       "      <td>https://tandf.figshare.com/articles/dataset/Organic_and_Third_Phase_in_HNO_sub_3_sub_TBP_i_n_i_-Dodecane_System_No_Reverse_Micelles/5190502</td>\n",
       "      <td>0.003</td>\n",
       "    </tr>\n",
       "    <tr>\n",
       "      <th>6860</th>\n",
       "      <td>figshare</td>\n",
       "      <td>12517490</td>\n",
       "      <td>topolpgy_backmapping_files/topologies/Benzene/benzene_cg.gro</td>\n",
       "      <td>3.0</td>\n",
       "      <td>False</td>\n",
       "      <td>False</td>\n",
       "      <td>False</td>\n",
       "      <td>False</td>\n",
       "      <td>False</td>\n",
       "      <td>https://acs.figshare.com/articles/dataset/Capturing_Protein_Ligand_Recognition_Pathways_in_Coarse-Grained_Simulation/12517490</td>\n",
       "      <td>0.003</td>\n",
       "    </tr>\n",
       "    <tr>\n",
       "      <th>7920</th>\n",
       "      <td>figshare</td>\n",
       "      <td>19534516</td>\n",
       "      <td>setup_files/2_packmol/CO2.gro</td>\n",
       "      <td>3.0</td>\n",
       "      <td>False</td>\n",
       "      <td>False</td>\n",
       "      <td>False</td>\n",
       "      <td>False</td>\n",
       "      <td>False</td>\n",
       "      <td>https://figshare.com/articles/dataset/All-atom_molecular_simulation_study_of_cellulose_acetate_amorphous_structure_and_the_dissolution_of_small_molecule/19534516</td>\n",
       "      <td>0.003</td>\n",
       "    </tr>\n",
       "    <tr>\n",
       "      <th>7921</th>\n",
       "      <td>figshare</td>\n",
       "      <td>19534516</td>\n",
       "      <td>setup_files/2_packmol/H2O.gro</td>\n",
       "      <td>3.0</td>\n",
       "      <td>False</td>\n",
       "      <td>False</td>\n",
       "      <td>False</td>\n",
       "      <td>False</td>\n",
       "      <td>True</td>\n",
       "      <td>https://figshare.com/articles/dataset/All-atom_molecular_simulation_study_of_cellulose_acetate_amorphous_structure_and_the_dissolution_of_small_molecule/19534516</td>\n",
       "      <td>0.003</td>\n",
       "    </tr>\n",
       "    <tr>\n",
       "      <th>7845</th>\n",
       "      <td>figshare</td>\n",
       "      <td>11702442</td>\n",
       "      <td>ct9b01139_si_001/Topology_Files/AMMONIA/AMMONIA_GMX.gro</td>\n",
       "      <td>4.0</td>\n",
       "      <td>False</td>\n",
       "      <td>False</td>\n",
       "      <td>False</td>\n",
       "      <td>False</td>\n",
       "      <td>False</td>\n",
       "      <td>https://acs.figshare.com/articles/dataset/Alchemical_Hydration_Free-Energy_Calculations_Using_Molecular_Dynamics_with_Explicit_Polarization_and_Induced_Polarity_Decoupling_An_On_the_Fly_Polarization_Approach/11702442</td>\n",
       "      <td>0.004</td>\n",
       "    </tr>\n",
       "  </tbody>\n",
       "</table>\n",
       "</div>"
      ],
      "text/plain": [
       "     dataset_origin dataset_id  \\\n",
       "8115       figshare    8846045   \n",
       "6841       figshare    5190502   \n",
       "6860       figshare   12517490   \n",
       "7920       figshare   19534516   \n",
       "7921       figshare   19534516   \n",
       "7845       figshare   11702442   \n",
       "\n",
       "                                                         file_name  \\\n",
       "8115                                         Tutorial/gro/cell.gro   \n",
       "6841                                                    H2O_v2.gro   \n",
       "6860  topolpgy_backmapping_files/topologies/Benzene/benzene_cg.gro   \n",
       "7920                                 setup_files/2_packmol/CO2.gro   \n",
       "7921                                 setup_files/2_packmol/H2O.gro   \n",
       "7845       ct9b01139_si_001/Topology_Files/AMMONIA/AMMONIA_GMX.gro   \n",
       "\n",
       "      atom_number  has_protein  has_nucleic  has_lipid  has_glucid  \\\n",
       "8115          2.0        False        False      False       False   \n",
       "6841          3.0        False        False      False       False   \n",
       "6860          3.0        False        False      False       False   \n",
       "7920          3.0        False        False      False       False   \n",
       "7921          3.0        False        False      False       False   \n",
       "7845          4.0        False        False      False       False   \n",
       "\n",
       "      has_water_ion  \\\n",
       "8115          False   \n",
       "6841          False   \n",
       "6860          False   \n",
       "7920          False   \n",
       "7921           True   \n",
       "7845          False   \n",
       "\n",
       "                                                                                                                                                                                                                   dataset_url  \\\n",
       "8115                                                                                              https://acs.figshare.com/articles/dataset/Nucleation_Mechanisms_of_Self-Assembled_Physisorbed_Monolayers_on_Graphite/8846045   \n",
       "6841                                                                               https://tandf.figshare.com/articles/dataset/Organic_and_Third_Phase_in_HNO_sub_3_sub_TBP_i_n_i_-Dodecane_System_No_Reverse_Micelles/5190502   \n",
       "6860                                                                                             https://acs.figshare.com/articles/dataset/Capturing_Protein_Ligand_Recognition_Pathways_in_Coarse-Grained_Simulation/12517490   \n",
       "7920                                                         https://figshare.com/articles/dataset/All-atom_molecular_simulation_study_of_cellulose_acetate_amorphous_structure_and_the_dissolution_of_small_molecule/19534516   \n",
       "7921                                                         https://figshare.com/articles/dataset/All-atom_molecular_simulation_study_of_cellulose_acetate_amorphous_structure_and_the_dissolution_of_small_molecule/19534516   \n",
       "7845  https://acs.figshare.com/articles/dataset/Alchemical_Hydration_Free-Energy_Calculations_Using_Molecular_Dynamics_with_Explicit_Polarization_and_Induced_Polarity_Decoupling_An_On_the_Fly_Polarization_Approach/11702442   \n",
       "\n",
       "      k_particles  \n",
       "8115        0.002  \n",
       "6841        0.003  \n",
       "6860        0.003  \n",
       "7920        0.003  \n",
       "7921        0.003  \n",
       "7845        0.004  "
      ]
     },
     "execution_count": 15,
     "metadata": {},
     "output_type": "execute_result"
    }
   ],
   "source": [
    "(gro_df\n",
    " .query(\"atom_number < 5\")\n",
    " .sort_values(by=\"atom_number\", ascending=True)\n",
    " #.to_csv(\"system_size_below_5_particles.tsv\", sep=\"\\t\", index=False)\n",
    ")"
   ]
  },
  {
   "cell_type": "markdown",
   "id": "1588cf01-4fb0-48bf-b29a-24a5b61b19b9",
   "metadata": {},
   "source": [
    "Systems with about 1 k particles:"
   ]
  },
  {
   "cell_type": "code",
   "execution_count": 16,
   "id": "8f7e2992-4510-485c-9e59-6152ce5cefd7",
   "metadata": {},
   "outputs": [
    {
     "data": {
      "text/html": [
       "<div>\n",
       "<style scoped>\n",
       "    .dataframe tbody tr th:only-of-type {\n",
       "        vertical-align: middle;\n",
       "    }\n",
       "\n",
       "    .dataframe tbody tr th {\n",
       "        vertical-align: top;\n",
       "    }\n",
       "\n",
       "    .dataframe thead th {\n",
       "        text-align: right;\n",
       "    }\n",
       "</style>\n",
       "<table border=\"1\" class=\"dataframe\">\n",
       "  <thead>\n",
       "    <tr style=\"text-align: right;\">\n",
       "      <th></th>\n",
       "      <th>dataset_origin</th>\n",
       "      <th>dataset_id</th>\n",
       "      <th>file_name</th>\n",
       "      <th>atom_number</th>\n",
       "      <th>has_protein</th>\n",
       "      <th>has_nucleic</th>\n",
       "      <th>has_lipid</th>\n",
       "      <th>has_glucid</th>\n",
       "      <th>has_water_ion</th>\n",
       "      <th>dataset_url</th>\n",
       "      <th>k_particles</th>\n",
       "    </tr>\n",
       "  </thead>\n",
       "  <tbody>\n",
       "    <tr>\n",
       "      <th>4294</th>\n",
       "      <td>zenodo</td>\n",
       "      <td>4371296</td>\n",
       "      <td>input_files/metad/SC-ANGLE/cterm/e0/equi.gro</td>\n",
       "      <td>8443.0</td>\n",
       "      <td>True</td>\n",
       "      <td>False</td>\n",
       "      <td>True</td>\n",
       "      <td>False</td>\n",
       "      <td>True</td>\n",
       "      <td>https://zenodo.org/record/4371296</td>\n",
       "      <td>8.443</td>\n",
       "    </tr>\n",
       "    <tr>\n",
       "      <th>4295</th>\n",
       "      <td>zenodo</td>\n",
       "      <td>4371296</td>\n",
       "      <td>input_files/metad/SC-ANGLE/cterm/n3/equi.gro</td>\n",
       "      <td>8443.0</td>\n",
       "      <td>True</td>\n",
       "      <td>False</td>\n",
       "      <td>True</td>\n",
       "      <td>False</td>\n",
       "      <td>True</td>\n",
       "      <td>https://zenodo.org/record/4371296</td>\n",
       "      <td>8.443</td>\n",
       "    </tr>\n",
       "    <tr>\n",
       "      <th>4296</th>\n",
       "      <td>zenodo</td>\n",
       "      <td>4371296</td>\n",
       "      <td>input_files/metad/SC-ANGLE/cterm/p3/equi.gro</td>\n",
       "      <td>8443.0</td>\n",
       "      <td>True</td>\n",
       "      <td>False</td>\n",
       "      <td>True</td>\n",
       "      <td>False</td>\n",
       "      <td>True</td>\n",
       "      <td>https://zenodo.org/record/4371296</td>\n",
       "      <td>8.443</td>\n",
       "    </tr>\n",
       "    <tr>\n",
       "      <th>4297</th>\n",
       "      <td>zenodo</td>\n",
       "      <td>4371296</td>\n",
       "      <td>input_files/metad/SC-ANGLE/nterm/e0/equi.gro</td>\n",
       "      <td>8443.0</td>\n",
       "      <td>True</td>\n",
       "      <td>False</td>\n",
       "      <td>True</td>\n",
       "      <td>False</td>\n",
       "      <td>True</td>\n",
       "      <td>https://zenodo.org/record/4371296</td>\n",
       "      <td>8.443</td>\n",
       "    </tr>\n",
       "    <tr>\n",
       "      <th>4298</th>\n",
       "      <td>zenodo</td>\n",
       "      <td>4371296</td>\n",
       "      <td>input_files/metad/SC-ANGLE/nterm/n3/equi.gro</td>\n",
       "      <td>8443.0</td>\n",
       "      <td>True</td>\n",
       "      <td>False</td>\n",
       "      <td>True</td>\n",
       "      <td>False</td>\n",
       "      <td>True</td>\n",
       "      <td>https://zenodo.org/record/4371296</td>\n",
       "      <td>8.443</td>\n",
       "    </tr>\n",
       "    <tr>\n",
       "      <th>...</th>\n",
       "      <td>...</td>\n",
       "      <td>...</td>\n",
       "      <td>...</td>\n",
       "      <td>...</td>\n",
       "      <td>...</td>\n",
       "      <td>...</td>\n",
       "      <td>...</td>\n",
       "      <td>...</td>\n",
       "      <td>...</td>\n",
       "      <td>...</td>\n",
       "      <td>...</td>\n",
       "    </tr>\n",
       "    <tr>\n",
       "      <th>4407</th>\n",
       "      <td>zenodo</td>\n",
       "      <td>4371296</td>\n",
       "      <td>input_files/umbrella/mag2/local/ads_ins/nterm+charge/25.gro</td>\n",
       "      <td>8428.0</td>\n",
       "      <td>True</td>\n",
       "      <td>False</td>\n",
       "      <td>True</td>\n",
       "      <td>False</td>\n",
       "      <td>True</td>\n",
       "      <td>https://zenodo.org/record/4371296</td>\n",
       "      <td>8.428</td>\n",
       "    </tr>\n",
       "    <tr>\n",
       "      <th>2304</th>\n",
       "      <td>zenodo</td>\n",
       "      <td>7061501</td>\n",
       "      <td>Martini3_scaling/GpA/POPC/scaling_09/bilayer_assembly46.gro</td>\n",
       "      <td>8415.0</td>\n",
       "      <td>True</td>\n",
       "      <td>False</td>\n",
       "      <td>True</td>\n",
       "      <td>False</td>\n",
       "      <td>True</td>\n",
       "      <td>https://zenodo.org/record/7061501</td>\n",
       "      <td>8.415</td>\n",
       "    </tr>\n",
       "    <tr>\n",
       "      <th>2494</th>\n",
       "      <td>zenodo</td>\n",
       "      <td>7061501</td>\n",
       "      <td>Martini3_scaling/GpA/POPC/scaling_95/bilayer_assembly46.gro</td>\n",
       "      <td>8415.0</td>\n",
       "      <td>True</td>\n",
       "      <td>False</td>\n",
       "      <td>True</td>\n",
       "      <td>False</td>\n",
       "      <td>True</td>\n",
       "      <td>https://zenodo.org/record/7061501</td>\n",
       "      <td>8.415</td>\n",
       "    </tr>\n",
       "    <tr>\n",
       "      <th>2404</th>\n",
       "      <td>zenodo</td>\n",
       "      <td>7061501</td>\n",
       "      <td>Martini3_scaling/GpA/POPC/scaling_92/bilayer_assembly46.gro</td>\n",
       "      <td>8415.0</td>\n",
       "      <td>True</td>\n",
       "      <td>False</td>\n",
       "      <td>True</td>\n",
       "      <td>False</td>\n",
       "      <td>True</td>\n",
       "      <td>https://zenodo.org/record/7061501</td>\n",
       "      <td>8.415</td>\n",
       "    </tr>\n",
       "    <tr>\n",
       "      <th>2214</th>\n",
       "      <td>zenodo</td>\n",
       "      <td>7061501</td>\n",
       "      <td>Martini3_scaling/GpA/POPC/noscaling/bilayer_assembly46.gro</td>\n",
       "      <td>8415.0</td>\n",
       "      <td>True</td>\n",
       "      <td>False</td>\n",
       "      <td>True</td>\n",
       "      <td>False</td>\n",
       "      <td>True</td>\n",
       "      <td>https://zenodo.org/record/7061501</td>\n",
       "      <td>8.415</td>\n",
       "    </tr>\n",
       "  </tbody>\n",
       "</table>\n",
       "<p>345 rows × 11 columns</p>\n",
       "</div>"
      ],
      "text/plain": [
       "     dataset_origin dataset_id  \\\n",
       "4294         zenodo    4371296   \n",
       "4295         zenodo    4371296   \n",
       "4296         zenodo    4371296   \n",
       "4297         zenodo    4371296   \n",
       "4298         zenodo    4371296   \n",
       "...             ...        ...   \n",
       "4407         zenodo    4371296   \n",
       "2304         zenodo    7061501   \n",
       "2494         zenodo    7061501   \n",
       "2404         zenodo    7061501   \n",
       "2214         zenodo    7061501   \n",
       "\n",
       "                                                        file_name  \\\n",
       "4294                 input_files/metad/SC-ANGLE/cterm/e0/equi.gro   \n",
       "4295                 input_files/metad/SC-ANGLE/cterm/n3/equi.gro   \n",
       "4296                 input_files/metad/SC-ANGLE/cterm/p3/equi.gro   \n",
       "4297                 input_files/metad/SC-ANGLE/nterm/e0/equi.gro   \n",
       "4298                 input_files/metad/SC-ANGLE/nterm/n3/equi.gro   \n",
       "...                                                           ...   \n",
       "4407  input_files/umbrella/mag2/local/ads_ins/nterm+charge/25.gro   \n",
       "2304  Martini3_scaling/GpA/POPC/scaling_09/bilayer_assembly46.gro   \n",
       "2494  Martini3_scaling/GpA/POPC/scaling_95/bilayer_assembly46.gro   \n",
       "2404  Martini3_scaling/GpA/POPC/scaling_92/bilayer_assembly46.gro   \n",
       "2214   Martini3_scaling/GpA/POPC/noscaling/bilayer_assembly46.gro   \n",
       "\n",
       "      atom_number  has_protein  has_nucleic  has_lipid  has_glucid  \\\n",
       "4294       8443.0         True        False       True       False   \n",
       "4295       8443.0         True        False       True       False   \n",
       "4296       8443.0         True        False       True       False   \n",
       "4297       8443.0         True        False       True       False   \n",
       "4298       8443.0         True        False       True       False   \n",
       "...           ...          ...          ...        ...         ...   \n",
       "4407       8428.0         True        False       True       False   \n",
       "2304       8415.0         True        False       True       False   \n",
       "2494       8415.0         True        False       True       False   \n",
       "2404       8415.0         True        False       True       False   \n",
       "2214       8415.0         True        False       True       False   \n",
       "\n",
       "      has_water_ion                        dataset_url  k_particles  \n",
       "4294           True  https://zenodo.org/record/4371296        8.443  \n",
       "4295           True  https://zenodo.org/record/4371296        8.443  \n",
       "4296           True  https://zenodo.org/record/4371296        8.443  \n",
       "4297           True  https://zenodo.org/record/4371296        8.443  \n",
       "4298           True  https://zenodo.org/record/4371296        8.443  \n",
       "...             ...                                ...          ...  \n",
       "4407           True  https://zenodo.org/record/4371296        8.428  \n",
       "2304           True  https://zenodo.org/record/7061501        8.415  \n",
       "2494           True  https://zenodo.org/record/7061501        8.415  \n",
       "2404           True  https://zenodo.org/record/7061501        8.415  \n",
       "2214           True  https://zenodo.org/record/7061501        8.415  \n",
       "\n",
       "[345 rows x 11 columns]"
      ]
     },
     "execution_count": 16,
     "metadata": {},
     "output_type": "execute_result"
    }
   ],
   "source": [
    "(gro_df\n",
    " .query(\"atom_number > 8_400\")\n",
    " .query(\"atom_number < 8_500\")\n",
    " .sort_values(by=\"atom_number\", ascending=False)\n",
    " #.to_csv(\"system_size_between_8400_and_8500_particles.tsv\", sep=\"\\t\", index=False)\n",
    ")"
   ]
  },
  {
   "cell_type": "markdown",
   "id": "59f6ce21-30c8-4fff-b0e5-b529d50ee2f0",
   "metadata": {},
   "source": [
    "Largest systems:"
   ]
  },
  {
   "cell_type": "code",
   "execution_count": 17,
   "id": "9f54aad3-d906-4b0e-be36-9e4c97a44ab3",
   "metadata": {},
   "outputs": [
    {
     "data": {
      "text/html": [
       "<div>\n",
       "<style scoped>\n",
       "    .dataframe tbody tr th:only-of-type {\n",
       "        vertical-align: middle;\n",
       "    }\n",
       "\n",
       "    .dataframe tbody tr th {\n",
       "        vertical-align: top;\n",
       "    }\n",
       "\n",
       "    .dataframe thead th {\n",
       "        text-align: right;\n",
       "    }\n",
       "</style>\n",
       "<table border=\"1\" class=\"dataframe\">\n",
       "  <thead>\n",
       "    <tr style=\"text-align: right;\">\n",
       "      <th></th>\n",
       "      <th>dataset_origin</th>\n",
       "      <th>dataset_id</th>\n",
       "      <th>file_name</th>\n",
       "      <th>atom_number</th>\n",
       "      <th>has_protein</th>\n",
       "      <th>has_nucleic</th>\n",
       "      <th>has_lipid</th>\n",
       "      <th>has_glucid</th>\n",
       "      <th>has_water_ion</th>\n",
       "      <th>dataset_url</th>\n",
       "      <th>k_particles</th>\n",
       "    </tr>\n",
       "  </thead>\n",
       "  <tbody>\n",
       "    <tr>\n",
       "      <th>7186</th>\n",
       "      <td>figshare</td>\n",
       "      <td>1238172</td>\n",
       "      <td>water01.gro</td>\n",
       "      <td>5184000.0</td>\n",
       "      <td>False</td>\n",
       "      <td>False</td>\n",
       "      <td>False</td>\n",
       "      <td>False</td>\n",
       "      <td>True</td>\n",
       "      <td>https://figshare.com/articles/dataset/water01_gro_Water_coordinate_file_for_cryo_EM_image_simulation/1238172</td>\n",
       "      <td>5184.000</td>\n",
       "    </tr>\n",
       "    <tr>\n",
       "      <th>1734</th>\n",
       "      <td>zenodo</td>\n",
       "      <td>3634884</td>\n",
       "      <td>PM_large_lastframe.noW.gro</td>\n",
       "      <td>3522816.0</td>\n",
       "      <td>True</td>\n",
       "      <td>False</td>\n",
       "      <td>True</td>\n",
       "      <td>False</td>\n",
       "      <td>True</td>\n",
       "      <td>https://zenodo.org/record/3634884</td>\n",
       "      <td>3522.816</td>\n",
       "    </tr>\n",
       "    <tr>\n",
       "      <th>3305</th>\n",
       "      <td>zenodo</td>\n",
       "      <td>6797842</td>\n",
       "      <td>simulations/protein_simulations/prepore/33mer_largemembrane/prepore_33mer_largemembrane_2200ns.gro</td>\n",
       "      <td>3113594.0</td>\n",
       "      <td>True</td>\n",
       "      <td>False</td>\n",
       "      <td>True</td>\n",
       "      <td>False</td>\n",
       "      <td>True</td>\n",
       "      <td>https://zenodo.org/record/6797842</td>\n",
       "      <td>3113.594</td>\n",
       "    </tr>\n",
       "    <tr>\n",
       "      <th>3306</th>\n",
       "      <td>zenodo</td>\n",
       "      <td>6797842</td>\n",
       "      <td>simulations/protein_simulations/prepore/33mer_largemembrane/prepore_33mer_largemembrane_equilibrated.gro</td>\n",
       "      <td>3113594.0</td>\n",
       "      <td>True</td>\n",
       "      <td>False</td>\n",
       "      <td>True</td>\n",
       "      <td>False</td>\n",
       "      <td>True</td>\n",
       "      <td>https://zenodo.org/record/6797842</td>\n",
       "      <td>3113.594</td>\n",
       "    </tr>\n",
       "    <tr>\n",
       "      <th>7536</th>\n",
       "      <td>figshare</td>\n",
       "      <td>14919822</td>\n",
       "      <td>Data_share/SMD_data/SMD_structure_data/OUTPUT/Spike_CR3022-4A8/Spike-4A8_1_pull_005.gro</td>\n",
       "      <td>2621751.0</td>\n",
       "      <td>True</td>\n",
       "      <td>False</td>\n",
       "      <td>False</td>\n",
       "      <td>False</td>\n",
       "      <td>True</td>\n",
       "      <td>https://acs.figshare.com/articles/dataset/Electrostatic_Interactions_Explain_the_Higher_Binding_Affinity_of_the_CR3022_Antibody_for_SARS-CoV_2_than_the_4A8_Antibody/14919822</td>\n",
       "      <td>2621.751</td>\n",
       "    </tr>\n",
       "    <tr>\n",
       "      <th>3286</th>\n",
       "      <td>zenodo</td>\n",
       "      <td>6797842</td>\n",
       "      <td>simulations/protein_simulations/pore/27mer/27mer_4100ns.gro</td>\n",
       "      <td>2125422.0</td>\n",
       "      <td>True</td>\n",
       "      <td>False</td>\n",
       "      <td>True</td>\n",
       "      <td>False</td>\n",
       "      <td>True</td>\n",
       "      <td>https://zenodo.org/record/6797842</td>\n",
       "      <td>2125.422</td>\n",
       "    </tr>\n",
       "    <tr>\n",
       "      <th>3287</th>\n",
       "      <td>zenodo</td>\n",
       "      <td>6797842</td>\n",
       "      <td>simulations/protein_simulations/pore/27mer/27mer_equilibrated.gro</td>\n",
       "      <td>2125422.0</td>\n",
       "      <td>True</td>\n",
       "      <td>False</td>\n",
       "      <td>True</td>\n",
       "      <td>False</td>\n",
       "      <td>True</td>\n",
       "      <td>https://zenodo.org/record/6797842</td>\n",
       "      <td>2125.422</td>\n",
       "    </tr>\n",
       "    <tr>\n",
       "      <th>3290</th>\n",
       "      <td>zenodo</td>\n",
       "      <td>6797842</td>\n",
       "      <td>simulations/protein_simulations/pore/33mer/33mer_5000ns.gro</td>\n",
       "      <td>2119785.0</td>\n",
       "      <td>True</td>\n",
       "      <td>False</td>\n",
       "      <td>True</td>\n",
       "      <td>False</td>\n",
       "      <td>True</td>\n",
       "      <td>https://zenodo.org/record/6797842</td>\n",
       "      <td>2119.785</td>\n",
       "    </tr>\n",
       "    <tr>\n",
       "      <th>3291</th>\n",
       "      <td>zenodo</td>\n",
       "      <td>6797842</td>\n",
       "      <td>simulations/protein_simulations/pore/33mer/33mer_70C_1500ns.gro</td>\n",
       "      <td>2119785.0</td>\n",
       "      <td>True</td>\n",
       "      <td>False</td>\n",
       "      <td>True</td>\n",
       "      <td>False</td>\n",
       "      <td>True</td>\n",
       "      <td>https://zenodo.org/record/6797842</td>\n",
       "      <td>2119.785</td>\n",
       "    </tr>\n",
       "    <tr>\n",
       "      <th>3292</th>\n",
       "      <td>zenodo</td>\n",
       "      <td>6797842</td>\n",
       "      <td>simulations/protein_simulations/pore/33mer/33mer_equilibrated.gro</td>\n",
       "      <td>2119785.0</td>\n",
       "      <td>True</td>\n",
       "      <td>False</td>\n",
       "      <td>True</td>\n",
       "      <td>False</td>\n",
       "      <td>True</td>\n",
       "      <td>https://zenodo.org/record/6797842</td>\n",
       "      <td>2119.785</td>\n",
       "    </tr>\n",
       "  </tbody>\n",
       "</table>\n",
       "</div>"
      ],
      "text/plain": [
       "     dataset_origin dataset_id  \\\n",
       "7186       figshare    1238172   \n",
       "1734         zenodo    3634884   \n",
       "3305         zenodo    6797842   \n",
       "3306         zenodo    6797842   \n",
       "7536       figshare   14919822   \n",
       "3286         zenodo    6797842   \n",
       "3287         zenodo    6797842   \n",
       "3290         zenodo    6797842   \n",
       "3291         zenodo    6797842   \n",
       "3292         zenodo    6797842   \n",
       "\n",
       "                                                                                                     file_name  \\\n",
       "7186                                                                                               water01.gro   \n",
       "1734                                                                                PM_large_lastframe.noW.gro   \n",
       "3305        simulations/protein_simulations/prepore/33mer_largemembrane/prepore_33mer_largemembrane_2200ns.gro   \n",
       "3306  simulations/protein_simulations/prepore/33mer_largemembrane/prepore_33mer_largemembrane_equilibrated.gro   \n",
       "7536                   Data_share/SMD_data/SMD_structure_data/OUTPUT/Spike_CR3022-4A8/Spike-4A8_1_pull_005.gro   \n",
       "3286                                               simulations/protein_simulations/pore/27mer/27mer_4100ns.gro   \n",
       "3287                                         simulations/protein_simulations/pore/27mer/27mer_equilibrated.gro   \n",
       "3290                                               simulations/protein_simulations/pore/33mer/33mer_5000ns.gro   \n",
       "3291                                           simulations/protein_simulations/pore/33mer/33mer_70C_1500ns.gro   \n",
       "3292                                         simulations/protein_simulations/pore/33mer/33mer_equilibrated.gro   \n",
       "\n",
       "      atom_number  has_protein  has_nucleic  has_lipid  has_glucid  \\\n",
       "7186    5184000.0        False        False      False       False   \n",
       "1734    3522816.0         True        False       True       False   \n",
       "3305    3113594.0         True        False       True       False   \n",
       "3306    3113594.0         True        False       True       False   \n",
       "7536    2621751.0         True        False      False       False   \n",
       "3286    2125422.0         True        False       True       False   \n",
       "3287    2125422.0         True        False       True       False   \n",
       "3290    2119785.0         True        False       True       False   \n",
       "3291    2119785.0         True        False       True       False   \n",
       "3292    2119785.0         True        False       True       False   \n",
       "\n",
       "      has_water_ion  \\\n",
       "7186           True   \n",
       "1734           True   \n",
       "3305           True   \n",
       "3306           True   \n",
       "7536           True   \n",
       "3286           True   \n",
       "3287           True   \n",
       "3290           True   \n",
       "3291           True   \n",
       "3292           True   \n",
       "\n",
       "                                                                                                                                                                        dataset_url  \\\n",
       "7186                                                                   https://figshare.com/articles/dataset/water01_gro_Water_coordinate_file_for_cryo_EM_image_simulation/1238172   \n",
       "1734                                                                                                                                              https://zenodo.org/record/3634884   \n",
       "3305                                                                                                                                              https://zenodo.org/record/6797842   \n",
       "3306                                                                                                                                              https://zenodo.org/record/6797842   \n",
       "7536  https://acs.figshare.com/articles/dataset/Electrostatic_Interactions_Explain_the_Higher_Binding_Affinity_of_the_CR3022_Antibody_for_SARS-CoV_2_than_the_4A8_Antibody/14919822   \n",
       "3286                                                                                                                                              https://zenodo.org/record/6797842   \n",
       "3287                                                                                                                                              https://zenodo.org/record/6797842   \n",
       "3290                                                                                                                                              https://zenodo.org/record/6797842   \n",
       "3291                                                                                                                                              https://zenodo.org/record/6797842   \n",
       "3292                                                                                                                                              https://zenodo.org/record/6797842   \n",
       "\n",
       "      k_particles  \n",
       "7186     5184.000  \n",
       "1734     3522.816  \n",
       "3305     3113.594  \n",
       "3306     3113.594  \n",
       "7536     2621.751  \n",
       "3286     2125.422  \n",
       "3287     2125.422  \n",
       "3290     2119.785  \n",
       "3291     2119.785  \n",
       "3292     2119.785  "
      ]
     },
     "execution_count": 17,
     "metadata": {},
     "output_type": "execute_result"
    }
   ],
   "source": [
    "(gro_df\n",
    " .query(\"atom_number > 2_000_000\")\n",
    " .sort_values(by=\"atom_number\", ascending=False)\n",
    " #.to_csv(\"system_size_above_5_000_000_particles.tsv\", sep=\"\\t\", index=False)\n",
    ")"
   ]
  },
  {
   "cell_type": "markdown",
   "id": "70ef1c6a-9777-49ef-8f52-324f24a00d95",
   "metadata": {},
   "source": [
    "### 3.C. System composition"
   ]
  },
  {
   "cell_type": "code",
   "execution_count": 18,
   "id": "c06a3b22-a217-412f-8d13-789c4dd58737",
   "metadata": {},
   "outputs": [
    {
     "data": {
      "image/png": "[encoded data removed]",
      "text/plain": [
       "<Figure size 1400x800 with 4 Axes>"
      ]
     },
     "metadata": {},
     "output_type": "display_data"
    }
   ],
   "source": [
    "# Create pivot dataframe\n",
    "df_upset = pd.pivot_table(\n",
    "    gro_df, \n",
    "    index=[\"has_protein\", \"has_lipid\", \"has_nucleic\", \"has_water_ion\", \"has_glucid\"], \n",
    "    values=[\"file_name\"], \n",
    "    aggfunc=len\n",
    ")\n",
    "# Convert pivot dataframe to Pandas Series with multi-index\n",
    "sr_upset = pd.Series(index=df_upset.index, data=df_upset.values.flatten(), name=\"value\")\n",
    "plt.rcParams.update({\"font.size\": 12})\n",
    "fig = plt.figure(figsize=(14, 8))\n",
    "UPplot(sr_upset, fig=fig, show_counts=True, element_size=None, sort_by=\"cardinality\")\n",
    "filename = \"fig/gromacs_system_composition\"\n",
    "plt.savefig(f\"{filename}.png\", dpi=300, bbox_inches=\"tight\")\n",
    "plt.savefig(f\"{filename}.svg\", bbox_inches=\"tight\")"
   ]
  },
  {
   "cell_type": "markdown",
   "id": "47023754-0908-40a4-ae65-77af054963e2",
   "metadata": {},
   "source": [
    "Systems without protein, lipid, nucleic acid, water, ion nor glucid:"
   ]
  },
  {
   "cell_type": "code",
   "execution_count": 19,
   "id": "70f4335c-8740-4e3b-b38d-543833911da5",
   "metadata": {},
   "outputs": [
    {
     "data": {
      "text/html": [
       "<div>\n",
       "<style scoped>\n",
       "    .dataframe tbody tr th:only-of-type {\n",
       "        vertical-align: middle;\n",
       "    }\n",
       "\n",
       "    .dataframe tbody tr th {\n",
       "        vertical-align: top;\n",
       "    }\n",
       "\n",
       "    .dataframe thead th {\n",
       "        text-align: right;\n",
       "    }\n",
       "</style>\n",
       "<table border=\"1\" class=\"dataframe\">\n",
       "  <thead>\n",
       "    <tr style=\"text-align: right;\">\n",
       "      <th></th>\n",
       "      <th>dataset_origin</th>\n",
       "      <th>dataset_id</th>\n",
       "      <th>file_name</th>\n",
       "      <th>atom_number</th>\n",
       "      <th>has_protein</th>\n",
       "      <th>has_nucleic</th>\n",
       "      <th>has_lipid</th>\n",
       "      <th>has_glucid</th>\n",
       "      <th>has_water_ion</th>\n",
       "      <th>dataset_url</th>\n",
       "      <th>k_particles</th>\n",
       "    </tr>\n",
       "  </thead>\n",
       "  <tbody>\n",
       "    <tr>\n",
       "      <th>1706</th>\n",
       "      <td>zenodo</td>\n",
       "      <td>7125315</td>\n",
       "      <td>3b_START.gro</td>\n",
       "      <td>5583.0</td>\n",
       "      <td>False</td>\n",
       "      <td>False</td>\n",
       "      <td>False</td>\n",
       "      <td>False</td>\n",
       "      <td>False</td>\n",
       "      <td>https://zenodo.org/record/7125315</td>\n",
       "      <td>5.583</td>\n",
       "    </tr>\n",
       "    <tr>\n",
       "      <th>1707</th>\n",
       "      <td>zenodo</td>\n",
       "      <td>7125315</td>\n",
       "      <td>3c_START.gro</td>\n",
       "      <td>5844.0</td>\n",
       "      <td>False</td>\n",
       "      <td>False</td>\n",
       "      <td>False</td>\n",
       "      <td>False</td>\n",
       "      <td>False</td>\n",
       "      <td>https://zenodo.org/record/7125315</td>\n",
       "      <td>5.844</td>\n",
       "    </tr>\n",
       "    <tr>\n",
       "      <th>1708</th>\n",
       "      <td>zenodo</td>\n",
       "      <td>7125315</td>\n",
       "      <td>4a_START.gro</td>\n",
       "      <td>4374.0</td>\n",
       "      <td>False</td>\n",
       "      <td>False</td>\n",
       "      <td>False</td>\n",
       "      <td>False</td>\n",
       "      <td>False</td>\n",
       "      <td>https://zenodo.org/record/7125315</td>\n",
       "      <td>4.374</td>\n",
       "    </tr>\n",
       "    <tr>\n",
       "      <th>1709</th>\n",
       "      <td>zenodo</td>\n",
       "      <td>7125315</td>\n",
       "      <td>4b_START.gro</td>\n",
       "      <td>4410.0</td>\n",
       "      <td>False</td>\n",
       "      <td>False</td>\n",
       "      <td>False</td>\n",
       "      <td>False</td>\n",
       "      <td>False</td>\n",
       "      <td>https://zenodo.org/record/7125315</td>\n",
       "      <td>4.410</td>\n",
       "    </tr>\n",
       "    <tr>\n",
       "      <th>1710</th>\n",
       "      <td>zenodo</td>\n",
       "      <td>7125315</td>\n",
       "      <td>DMF.gro</td>\n",
       "      <td>12.0</td>\n",
       "      <td>False</td>\n",
       "      <td>False</td>\n",
       "      <td>False</td>\n",
       "      <td>False</td>\n",
       "      <td>False</td>\n",
       "      <td>https://zenodo.org/record/7125315</td>\n",
       "      <td>0.012</td>\n",
       "    </tr>\n",
       "    <tr>\n",
       "      <th>...</th>\n",
       "      <td>...</td>\n",
       "      <td>...</td>\n",
       "      <td>...</td>\n",
       "      <td>...</td>\n",
       "      <td>...</td>\n",
       "      <td>...</td>\n",
       "      <td>...</td>\n",
       "      <td>...</td>\n",
       "      <td>...</td>\n",
       "      <td>...</td>\n",
       "      <td>...</td>\n",
       "    </tr>\n",
       "    <tr>\n",
       "      <th>8666</th>\n",
       "      <td>osf</td>\n",
       "      <td>4aghb</td>\n",
       "      <td>PtB-b-force field/em4_nojump.gro</td>\n",
       "      <td>18432.0</td>\n",
       "      <td>False</td>\n",
       "      <td>False</td>\n",
       "      <td>False</td>\n",
       "      <td>False</td>\n",
       "      <td>False</td>\n",
       "      <td>https://osf.io/4aghb/</td>\n",
       "      <td>18.432</td>\n",
       "    </tr>\n",
       "    <tr>\n",
       "      <th>8667</th>\n",
       "      <td>osf</td>\n",
       "      <td>4aghb</td>\n",
       "      <td>PtB-b-force field/pr_nvt.gro</td>\n",
       "      <td>18432.0</td>\n",
       "      <td>False</td>\n",
       "      <td>False</td>\n",
       "      <td>False</td>\n",
       "      <td>False</td>\n",
       "      <td>False</td>\n",
       "      <td>https://osf.io/4aghb/</td>\n",
       "      <td>18.432</td>\n",
       "    </tr>\n",
       "    <tr>\n",
       "      <th>8668</th>\n",
       "      <td>osf</td>\n",
       "      <td>4aghb</td>\n",
       "      <td>PtB-b-force field/pr_nvt_nojump.gro</td>\n",
       "      <td>18432.0</td>\n",
       "      <td>False</td>\n",
       "      <td>False</td>\n",
       "      <td>False</td>\n",
       "      <td>False</td>\n",
       "      <td>False</td>\n",
       "      <td>https://osf.io/4aghb/</td>\n",
       "      <td>18.432</td>\n",
       "    </tr>\n",
       "    <tr>\n",
       "      <th>8669</th>\n",
       "      <td>osf</td>\n",
       "      <td>4aghb</td>\n",
       "      <td>PtB-b-force field/Production_10ns_PTI_noVs.gro</td>\n",
       "      <td>18432.0</td>\n",
       "      <td>False</td>\n",
       "      <td>False</td>\n",
       "      <td>False</td>\n",
       "      <td>False</td>\n",
       "      <td>False</td>\n",
       "      <td>https://osf.io/4aghb/</td>\n",
       "      <td>18.432</td>\n",
       "    </tr>\n",
       "    <tr>\n",
       "      <th>8670</th>\n",
       "      <td>osf</td>\n",
       "      <td>4aghb</td>\n",
       "      <td>Pt-free-force field/MOL_GMX.gro</td>\n",
       "      <td>61.0</td>\n",
       "      <td>False</td>\n",
       "      <td>False</td>\n",
       "      <td>False</td>\n",
       "      <td>False</td>\n",
       "      <td>False</td>\n",
       "      <td>https://osf.io/4aghb/</td>\n",
       "      <td>0.061</td>\n",
       "    </tr>\n",
       "  </tbody>\n",
       "</table>\n",
       "<p>1127 rows × 11 columns</p>\n",
       "</div>"
      ],
      "text/plain": [
       "     dataset_origin dataset_id  \\\n",
       "1706         zenodo    7125315   \n",
       "1707         zenodo    7125315   \n",
       "1708         zenodo    7125315   \n",
       "1709         zenodo    7125315   \n",
       "1710         zenodo    7125315   \n",
       "...             ...        ...   \n",
       "8666            osf      4aghb   \n",
       "8667            osf      4aghb   \n",
       "8668            osf      4aghb   \n",
       "8669            osf      4aghb   \n",
       "8670            osf      4aghb   \n",
       "\n",
       "                                           file_name  atom_number  \\\n",
       "1706                                    3b_START.gro       5583.0   \n",
       "1707                                    3c_START.gro       5844.0   \n",
       "1708                                    4a_START.gro       4374.0   \n",
       "1709                                    4b_START.gro       4410.0   \n",
       "1710                                         DMF.gro         12.0   \n",
       "...                                              ...          ...   \n",
       "8666                PtB-b-force field/em4_nojump.gro      18432.0   \n",
       "8667                    PtB-b-force field/pr_nvt.gro      18432.0   \n",
       "8668             PtB-b-force field/pr_nvt_nojump.gro      18432.0   \n",
       "8669  PtB-b-force field/Production_10ns_PTI_noVs.gro      18432.0   \n",
       "8670                 Pt-free-force field/MOL_GMX.gro         61.0   \n",
       "\n",
       "      has_protein  has_nucleic  has_lipid  has_glucid  has_water_ion  \\\n",
       "1706        False        False      False       False          False   \n",
       "1707        False        False      False       False          False   \n",
       "1708        False        False      False       False          False   \n",
       "1709        False        False      False       False          False   \n",
       "1710        False        False      False       False          False   \n",
       "...           ...          ...        ...         ...            ...   \n",
       "8666        False        False      False       False          False   \n",
       "8667        False        False      False       False          False   \n",
       "8668        False        False      False       False          False   \n",
       "8669        False        False      False       False          False   \n",
       "8670        False        False      False       False          False   \n",
       "\n",
       "                            dataset_url  k_particles  \n",
       "1706  https://zenodo.org/record/7125315        5.583  \n",
       "1707  https://zenodo.org/record/7125315        5.844  \n",
       "1708  https://zenodo.org/record/7125315        4.374  \n",
       "1709  https://zenodo.org/record/7125315        4.410  \n",
       "1710  https://zenodo.org/record/7125315        0.012  \n",
       "...                                 ...          ...  \n",
       "8666              https://osf.io/4aghb/       18.432  \n",
       "8667              https://osf.io/4aghb/       18.432  \n",
       "8668              https://osf.io/4aghb/       18.432  \n",
       "8669              https://osf.io/4aghb/       18.432  \n",
       "8670              https://osf.io/4aghb/        0.061  \n",
       "\n",
       "[1127 rows x 11 columns]"
      ]
     },
     "execution_count": 19,
     "metadata": {},
     "output_type": "execute_result"
    }
   ],
   "source": [
    "(gro_df\n",
    " .query(\"has_protein == False\")\n",
    " .query(\"has_water_ion == False\")\n",
    " .query(\"has_lipid == False\")\n",
    " .query(\"has_nucleic == False\")\n",
    " .query(\"has_glucid == False\")\n",
    " #.to_csv(\"systems_without_protein_water_ion_lipid_nucleic_acid_glucid.tsv\", sep=\"\\t\", index=False)\n",
    ")"
   ]
  },
  {
   "cell_type": "markdown",
   "id": "96931c40-60a9-4d63-9ac9-c92e981e536b",
   "metadata": {},
   "source": [
    "## Figure 4\n",
    "\n",
    "### 4.A. Simulation temperature"
   ]
  },
  {
   "cell_type": "code",
   "execution_count": 171,
   "id": "8918dec6-334e-4d81-af43-6d440a086d83",
   "metadata": {},
   "outputs": [
    {
     "name": "stdout",
     "output_type": "stream",
     "text": [
      "Dataset has 9496 mdp files\n"
     ]
    },
    {
     "data": {
      "text/html": [
       "<div>\n",
       "<style scoped>\n",
       "    .dataframe tbody tr th:only-of-type {\n",
       "        vertical-align: middle;\n",
       "    }\n",
       "\n",
       "    .dataframe tbody tr th {\n",
       "        vertical-align: top;\n",
       "    }\n",
       "\n",
       "    .dataframe thead th {\n",
       "        text-align: right;\n",
       "    }\n",
       "</style>\n",
       "<table border=\"1\" class=\"dataframe\">\n",
       "  <thead>\n",
       "    <tr style=\"text-align: right;\">\n",
       "      <th></th>\n",
       "      <th>dataset_origin</th>\n",
       "      <th>dataset_id</th>\n",
       "      <th>file_name</th>\n",
       "      <th>dt</th>\n",
       "      <th>nsteps</th>\n",
       "      <th>temperature</th>\n",
       "      <th>thermostat</th>\n",
       "      <th>barostat</th>\n",
       "      <th>dataset_url</th>\n",
       "    </tr>\n",
       "  </thead>\n",
       "  <tbody>\n",
       "    <tr>\n",
       "      <th>0</th>\n",
       "      <td>zenodo</td>\n",
       "      <td>1043926</td>\n",
       "      <td>mono.mdp</td>\n",
       "      <td>0.002</td>\n",
       "      <td>100000000.0</td>\n",
       "      <td>298.0</td>\n",
       "      <td>v-rescale</td>\n",
       "      <td>no</td>\n",
       "      <td>https://zenodo.org/record/1043926</td>\n",
       "    </tr>\n",
       "    <tr>\n",
       "      <th>1</th>\n",
       "      <td>zenodo</td>\n",
       "      <td>1043946</td>\n",
       "      <td>mono.mdp</td>\n",
       "      <td>0.002</td>\n",
       "      <td>100000000.0</td>\n",
       "      <td>298.0</td>\n",
       "      <td>v-rescale</td>\n",
       "      <td>no</td>\n",
       "      <td>https://zenodo.org/record/1043946</td>\n",
       "    </tr>\n",
       "    <tr>\n",
       "      <th>2</th>\n",
       "      <td>zenodo</td>\n",
       "      <td>3463130</td>\n",
       "      <td>md.mdp</td>\n",
       "      <td>0.020</td>\n",
       "      <td>2500000.0</td>\n",
       "      <td>310.0</td>\n",
       "      <td>v-rescale</td>\n",
       "      <td>parrinello-rahman</td>\n",
       "      <td>https://zenodo.org/record/3463130</td>\n",
       "    </tr>\n",
       "    <tr>\n",
       "      <th>3</th>\n",
       "      <td>zenodo</td>\n",
       "      <td>1167532</td>\n",
       "      <td>md.mdp</td>\n",
       "      <td>0.002</td>\n",
       "      <td>100000000.0</td>\n",
       "      <td>298.0</td>\n",
       "      <td>nose-hoover</td>\n",
       "      <td>parrinello-rahman</td>\n",
       "      <td>https://zenodo.org/record/1167532</td>\n",
       "    </tr>\n",
       "    <tr>\n",
       "      <th>4</th>\n",
       "      <td>zenodo</td>\n",
       "      <td>3434100</td>\n",
       "      <td>1-POPC512_ECC-lipid14-CaCL_978mM_md_mdout.mdp</td>\n",
       "      <td>0.002</td>\n",
       "      <td>NaN</td>\n",
       "      <td>313.0</td>\n",
       "      <td>v-rescale</td>\n",
       "      <td>parrinello-rahman</td>\n",
       "      <td>https://zenodo.org/record/3434100</td>\n",
       "    </tr>\n",
       "  </tbody>\n",
       "</table>\n",
       "</div>"
      ],
      "text/plain": [
       "  dataset_origin dataset_id                                      file_name  \\\n",
       "0         zenodo    1043926                                       mono.mdp   \n",
       "1         zenodo    1043946                                       mono.mdp   \n",
       "2         zenodo    3463130                                         md.mdp   \n",
       "3         zenodo    1167532                                         md.mdp   \n",
       "4         zenodo    3434100  1-POPC512_ECC-lipid14-CaCL_978mM_md_mdout.mdp   \n",
       "\n",
       "      dt       nsteps  temperature   thermostat           barostat  \\\n",
       "0  0.002  100000000.0        298.0    v-rescale                 no   \n",
       "1  0.002  100000000.0        298.0    v-rescale                 no   \n",
       "2  0.020    2500000.0        310.0    v-rescale  parrinello-rahman   \n",
       "3  0.002  100000000.0        298.0  nose-hoover  parrinello-rahman   \n",
       "4  0.002          NaN        313.0    v-rescale  parrinello-rahman   \n",
       "\n",
       "                         dataset_url  \n",
       "0  https://zenodo.org/record/1043926  \n",
       "1  https://zenodo.org/record/1043946  \n",
       "2  https://zenodo.org/record/3463130  \n",
       "3  https://zenodo.org/record/1167532  \n",
       "4  https://zenodo.org/record/3434100  "
      ]
     },
     "execution_count": 171,
     "metadata": {},
     "output_type": "execute_result"
    }
   ],
   "source": [
    "mdp_df = pd.read_csv(\"../data/gromacs_mdp_files_info.tsv\", sep=\"\\t\")\n",
    "mdp_df = pd.merge(\n",
    "    mdp_df,\n",
    "    df[[\"dataset_origin\", \"dataset_id\", \"dataset_url\"]].drop_duplicates(),\n",
    "    on=[\"dataset_origin\", \"dataset_id\"],\n",
    "    how=\"left\"\n",
    ")\n",
    "print(f\"Dataset has {len(mdp_df)} mdp files\")\n",
    "mdp_df.head()"
   ]
  },
  {
   "cell_type": "code",
   "execution_count": 21,
   "id": "cb357266-8bff-4456-a6ba-ea42d2c2d956",
   "metadata": {},
   "outputs": [
    {
     "data": {
      "image/png": "[encoded data removed]",
      "text/plain": [
       "<Figure size 1000x700 with 2 Axes>"
      ]
     },
     "metadata": {},
     "output_type": "display_data"
    }
   ],
   "source": [
    "def plot_temperature_histogram(df):\n",
    "    \"\"\"Create plot for temperature distribution\"\"\"\n",
    "    bins=200\n",
    "    plt.rcParams.update({\"font.size\": 16})\n",
    "    fig, ax = plt.subplots(2, sharex=True, figsize=(10,7))\n",
    "    ax[0].hist(df[\"temperature\"], bins=bins, color=\"tab:orange\")\n",
    "    ax[0].set_ylabel(\"Number of files\")\n",
    "    ax[0].set_xlim(0, 810)\n",
    "    ax[0].annotate(\"310 K\\n37 °C\", xy=(310, 2400), xytext=(450, 2750), color=\"gray\",\n",
    "                 arrowprops={\"arrowstyle\":\"-|>\", \"lw\":2, \"color\":\"gray\", \"connectionstyle\":\"arc3\"}, \n",
    "                 horizontalalignment=\"left\", verticalalignment=\"top\")\n",
    "    ax[0].annotate(\"298 K\\n25 °C\", xy=(298, 800), xytext=(190, 1200), color=\"gray\",\n",
    "                 arrowprops={\"arrowstyle\":\"-|>\", \"lw\":2, \"color\":\"gray\"}, \n",
    "                 horizontalalignment=\"right\", verticalalignment=\"bottom\")\n",
    "\n",
    "    ax[1].hist(df[\"temperature\"], bins=bins, color=\"tab:orange\")\n",
    "    ax[1].set_ylabel(\"Number of files\")\n",
    "    ax[1].set_ylim(0, 300)\n",
    "    ax[1].set_xlabel(\"Temperature (K)\")\n",
    "    filename = \"fig/gromacs_temperature_histogram\"\n",
    "    plt.savefig(f\"{filename}.png\", dpi=300, bbox_inches=\"tight\")\n",
    "    plt.savefig(f\"{filename}.svg\", bbox_inches=\"tight\")\n",
    "\n",
    "plot_temperature_histogram(mdp_df)"
   ]
  },
  {
   "cell_type": "markdown",
   "id": "11ae8e2e-5693-4788-bb4c-82ed1ec53928",
   "metadata": {},
   "source": [
    "### Systems with lowest temperatures"
   ]
  },
  {
   "cell_type": "code",
   "execution_count": 22,
   "id": "657c4d44-7012-442f-91e3-ce0cf3526a77",
   "metadata": {},
   "outputs": [
    {
     "data": {
      "text/html": [
       "<div>\n",
       "<style scoped>\n",
       "    .dataframe tbody tr th:only-of-type {\n",
       "        vertical-align: middle;\n",
       "    }\n",
       "\n",
       "    .dataframe tbody tr th {\n",
       "        vertical-align: top;\n",
       "    }\n",
       "\n",
       "    .dataframe thead th {\n",
       "        text-align: right;\n",
       "    }\n",
       "</style>\n",
       "<table border=\"1\" class=\"dataframe\">\n",
       "  <thead>\n",
       "    <tr style=\"text-align: right;\">\n",
       "      <th></th>\n",
       "      <th>dataset_origin</th>\n",
       "      <th>dataset_id</th>\n",
       "      <th>file_name</th>\n",
       "      <th>dt</th>\n",
       "      <th>nsteps</th>\n",
       "      <th>temperature</th>\n",
       "      <th>thermostat</th>\n",
       "      <th>barostat</th>\n",
       "      <th>dataset_url</th>\n",
       "    </tr>\n",
       "  </thead>\n",
       "  <tbody>\n",
       "    <tr>\n",
       "      <th>9127</th>\n",
       "      <td>figshare</td>\n",
       "      <td>8846045</td>\n",
       "      <td>Tutorial/mdp/3_run.mdp</td>\n",
       "      <td>0.0300</td>\n",
       "      <td>1000000.0</td>\n",
       "      <td>0.0</td>\n",
       "      <td>Berendsen</td>\n",
       "      <td>berendsen</td>\n",
       "      <td>https://acs.figshare.com/articles/dataset/Nucleation_Mechanisms_of_Self-Assembled_Physisorbed_Monolayers_on_Graphite/8846045</td>\n",
       "    </tr>\n",
       "    <tr>\n",
       "      <th>9059</th>\n",
       "      <td>figshare</td>\n",
       "      <td>7370684</td>\n",
       "      <td>md_files/2-MD-runs/mdp/1_grompp_minimisation.mdp</td>\n",
       "      <td>0.0020</td>\n",
       "      <td>5000.0</td>\n",
       "      <td>0.0</td>\n",
       "      <td>v-rescale</td>\n",
       "      <td>no</td>\n",
       "      <td>https://acs.figshare.com/articles/dataset/Stereospecific_1_3_H_Transfer_of_Indenols_Proceeds_via_Persistent_Ion-Pairs_Anchored_by_NH__Interactions/7370684</td>\n",
       "    </tr>\n",
       "    <tr>\n",
       "      <th>9126</th>\n",
       "      <td>figshare</td>\n",
       "      <td>8846045</td>\n",
       "      <td>Tutorial/mdp/2_nvt.mdp</td>\n",
       "      <td>0.0300</td>\n",
       "      <td>5000.0</td>\n",
       "      <td>0.0</td>\n",
       "      <td>Berendsen</td>\n",
       "      <td>no</td>\n",
       "      <td>https://acs.figshare.com/articles/dataset/Nucleation_Mechanisms_of_Self-Assembled_Physisorbed_Monolayers_on_Graphite/8846045</td>\n",
       "    </tr>\n",
       "    <tr>\n",
       "      <th>9125</th>\n",
       "      <td>figshare</td>\n",
       "      <td>8846045</td>\n",
       "      <td>Tutorial/mdp/2_npt.mdp</td>\n",
       "      <td>0.0300</td>\n",
       "      <td>10000.0</td>\n",
       "      <td>0.0</td>\n",
       "      <td>Berendsen</td>\n",
       "      <td>berendsen</td>\n",
       "      <td>https://acs.figshare.com/articles/dataset/Nucleation_Mechanisms_of_Self-Assembled_Physisorbed_Monolayers_on_Graphite/8846045</td>\n",
       "    </tr>\n",
       "    <tr>\n",
       "      <th>9026</th>\n",
       "      <td>figshare</td>\n",
       "      <td>10269416</td>\n",
       "      <td>input_files/MD/production_REMD.mdp</td>\n",
       "      <td>0.0005</td>\n",
       "      <td>60000000.0</td>\n",
       "      <td>3.0</td>\n",
       "      <td>nose-hoover</td>\n",
       "      <td>Parrinello-Rahman</td>\n",
       "      <td>https://acs.figshare.com/articles/dataset/Adding_Anisotropy_to_the_Standard_Quasi-Harmonic_Approximation_Still_Fails_in_Several_Ways_to_Capture_Organic_Crystal_Thermodynamics/10269416</td>\n",
       "    </tr>\n",
       "    <tr>\n",
       "      <th>9025</th>\n",
       "      <td>figshare</td>\n",
       "      <td>10269416</td>\n",
       "      <td>input_files/MD/production.mdp</td>\n",
       "      <td>0.0005</td>\n",
       "      <td>10000000.0</td>\n",
       "      <td>10.0</td>\n",
       "      <td>nose-hoover</td>\n",
       "      <td>Parrinello-Rahman</td>\n",
       "      <td>https://acs.figshare.com/articles/dataset/Adding_Anisotropy_to_the_Standard_Quasi-Harmonic_Approximation_Still_Fails_in_Several_Ways_to_Capture_Organic_Crystal_Thermodynamics/10269416</td>\n",
       "    </tr>\n",
       "    <tr>\n",
       "      <th>7216</th>\n",
       "      <td>figshare</td>\n",
       "      <td>21644393</td>\n",
       "      <td>SI/Carbamazepine/GAFFTIP3P/Carbamazepine/Freeze_10/equilibration.mdp</td>\n",
       "      <td>0.0010</td>\n",
       "      <td>5000000.0</td>\n",
       "      <td>10.0</td>\n",
       "      <td>berendsen</td>\n",
       "      <td>no</td>\n",
       "      <td>https://acs.figshare.com/articles/dataset/A_Comparison_of_Methods_for_Computing_Relative_Anhydrous_Hydrate_Stability_with_Molecular_Simulation/21644393</td>\n",
       "    </tr>\n",
       "    <tr>\n",
       "      <th>7215</th>\n",
       "      <td>figshare</td>\n",
       "      <td>21644393</td>\n",
       "      <td>SI/Carbamazepine/GAFFTIP3P/Carbamazepine/Freeze_10/production.mdp</td>\n",
       "      <td>0.0010</td>\n",
       "      <td>0.0</td>\n",
       "      <td>10.0</td>\n",
       "      <td>berendsen</td>\n",
       "      <td>no</td>\n",
       "      <td>https://acs.figshare.com/articles/dataset/A_Comparison_of_Methods_for_Computing_Relative_Anhydrous_Hydrate_Stability_with_Molecular_Simulation/21644393</td>\n",
       "    </tr>\n",
       "    <tr>\n",
       "      <th>7081</th>\n",
       "      <td>figshare</td>\n",
       "      <td>21644393</td>\n",
       "      <td>SI/Carbamazepine/GAFFTIP3P/CarbamazepineLiq48/Freeze_10/equilibration.mdp</td>\n",
       "      <td>0.0010</td>\n",
       "      <td>5000000.0</td>\n",
       "      <td>10.0</td>\n",
       "      <td>berendsen</td>\n",
       "      <td>berendsen</td>\n",
       "      <td>https://acs.figshare.com/articles/dataset/A_Comparison_of_Methods_for_Computing_Relative_Anhydrous_Hydrate_Stability_with_Molecular_Simulation/21644393</td>\n",
       "    </tr>\n",
       "    <tr>\n",
       "      <th>5479</th>\n",
       "      <td>figshare</td>\n",
       "      <td>21644393</td>\n",
       "      <td>SI/Gandotinib/GAFFTIP3P/Gandotinib/Freeze_10/equilibration.mdp</td>\n",
       "      <td>0.0010</td>\n",
       "      <td>5000000.0</td>\n",
       "      <td>10.0</td>\n",
       "      <td>berendsen</td>\n",
       "      <td>no</td>\n",
       "      <td>https://acs.figshare.com/articles/dataset/A_Comparison_of_Methods_for_Computing_Relative_Anhydrous_Hydrate_Stability_with_Molecular_Simulation/21644393</td>\n",
       "    </tr>\n",
       "  </tbody>\n",
       "</table>\n",
       "</div>"
      ],
      "text/plain": [
       "     dataset_origin dataset_id  \\\n",
       "9127       figshare    8846045   \n",
       "9059       figshare    7370684   \n",
       "9126       figshare    8846045   \n",
       "9125       figshare    8846045   \n",
       "9026       figshare   10269416   \n",
       "9025       figshare   10269416   \n",
       "7216       figshare   21644393   \n",
       "7215       figshare   21644393   \n",
       "7081       figshare   21644393   \n",
       "5479       figshare   21644393   \n",
       "\n",
       "                                                                      file_name  \\\n",
       "9127                                                     Tutorial/mdp/3_run.mdp   \n",
       "9059                           md_files/2-MD-runs/mdp/1_grompp_minimisation.mdp   \n",
       "9126                                                     Tutorial/mdp/2_nvt.mdp   \n",
       "9125                                                     Tutorial/mdp/2_npt.mdp   \n",
       "9026                                         input_files/MD/production_REMD.mdp   \n",
       "9025                                              input_files/MD/production.mdp   \n",
       "7216       SI/Carbamazepine/GAFFTIP3P/Carbamazepine/Freeze_10/equilibration.mdp   \n",
       "7215          SI/Carbamazepine/GAFFTIP3P/Carbamazepine/Freeze_10/production.mdp   \n",
       "7081  SI/Carbamazepine/GAFFTIP3P/CarbamazepineLiq48/Freeze_10/equilibration.mdp   \n",
       "5479             SI/Gandotinib/GAFFTIP3P/Gandotinib/Freeze_10/equilibration.mdp   \n",
       "\n",
       "          dt      nsteps  temperature   thermostat           barostat  \\\n",
       "9127  0.0300   1000000.0          0.0    Berendsen          berendsen   \n",
       "9059  0.0020      5000.0          0.0    v-rescale                 no   \n",
       "9126  0.0300      5000.0          0.0    Berendsen                 no   \n",
       "9125  0.0300     10000.0          0.0    Berendsen          berendsen   \n",
       "9026  0.0005  60000000.0          3.0  nose-hoover  Parrinello-Rahman   \n",
       "9025  0.0005  10000000.0         10.0  nose-hoover  Parrinello-Rahman   \n",
       "7216  0.0010   5000000.0         10.0    berendsen                 no   \n",
       "7215  0.0010         0.0         10.0    berendsen                 no   \n",
       "7081  0.0010   5000000.0         10.0    berendsen          berendsen   \n",
       "5479  0.0010   5000000.0         10.0    berendsen                 no   \n",
       "\n",
       "                                                                                                                                                                                  dataset_url  \n",
       "9127                                                             https://acs.figshare.com/articles/dataset/Nucleation_Mechanisms_of_Self-Assembled_Physisorbed_Monolayers_on_Graphite/8846045  \n",
       "9059                               https://acs.figshare.com/articles/dataset/Stereospecific_1_3_H_Transfer_of_Indenols_Proceeds_via_Persistent_Ion-Pairs_Anchored_by_NH__Interactions/7370684  \n",
       "9126                                                             https://acs.figshare.com/articles/dataset/Nucleation_Mechanisms_of_Self-Assembled_Physisorbed_Monolayers_on_Graphite/8846045  \n",
       "9125                                                             https://acs.figshare.com/articles/dataset/Nucleation_Mechanisms_of_Self-Assembled_Physisorbed_Monolayers_on_Graphite/8846045  \n",
       "9026  https://acs.figshare.com/articles/dataset/Adding_Anisotropy_to_the_Standard_Quasi-Harmonic_Approximation_Still_Fails_in_Several_Ways_to_Capture_Organic_Crystal_Thermodynamics/10269416  \n",
       "9025  https://acs.figshare.com/articles/dataset/Adding_Anisotropy_to_the_Standard_Quasi-Harmonic_Approximation_Still_Fails_in_Several_Ways_to_Capture_Organic_Crystal_Thermodynamics/10269416  \n",
       "7216                                  https://acs.figshare.com/articles/dataset/A_Comparison_of_Methods_for_Computing_Relative_Anhydrous_Hydrate_Stability_with_Molecular_Simulation/21644393  \n",
       "7215                                  https://acs.figshare.com/articles/dataset/A_Comparison_of_Methods_for_Computing_Relative_Anhydrous_Hydrate_Stability_with_Molecular_Simulation/21644393  \n",
       "7081                                  https://acs.figshare.com/articles/dataset/A_Comparison_of_Methods_for_Computing_Relative_Anhydrous_Hydrate_Stability_with_Molecular_Simulation/21644393  \n",
       "5479                                  https://acs.figshare.com/articles/dataset/A_Comparison_of_Methods_for_Computing_Relative_Anhydrous_Hydrate_Stability_with_Molecular_Simulation/21644393  "
      ]
     },
     "execution_count": 22,
     "metadata": {},
     "output_type": "execute_result"
    }
   ],
   "source": [
    "(mdp_df\n",
    " .query(\"temperature < 15\")\n",
    " .sort_values(by=\"temperature\", ascending=True)\n",
    " .head(10)\n",
    ")"
   ]
  },
  {
   "cell_type": "markdown",
   "id": "e19abe41-01b1-4cb7-81e3-74ebce691ae9",
   "metadata": {},
   "source": [
    "### Focus on spikes at 400, 600 & 800 K"
   ]
  },
  {
   "cell_type": "code",
   "execution_count": 48,
   "id": "8e389f33-9738-4d40-826a-d0ee75e295e2",
   "metadata": {},
   "outputs": [
    {
     "data": {
      "text/plain": [
       "dataset_origin  dataset_id\n",
       "figshare        21644393      2160\n",
       "                4040661          1\n",
       "                6384443          2\n",
       "zenodo          20544            3\n",
       "dtype: int64"
      ]
     },
     "execution_count": 48,
     "metadata": {},
     "output_type": "execute_result"
    }
   ],
   "source": [
    "(mdp_df\n",
    " .query(\"temperature == 400 | temperature == 600 | temperature == 800\")\n",
    " .groupby([\"dataset_origin\", \"dataset_id\"])\n",
    " .size()\n",
    ")"
   ]
  },
  {
   "cell_type": "markdown",
   "id": "1e936895-68cd-475a-996f-6a9eb9cee714",
   "metadata": {},
   "source": [
    "We dig more with dataset 21644393:"
   ]
  },
  {
   "cell_type": "code",
   "execution_count": 24,
   "id": "57e02c4b-cc54-45a2-ada6-636130112805",
   "metadata": {},
   "outputs": [
    {
     "data": {
      "text/plain": [
       "temperature\n",
       "400.0    1924\n",
       "300.0     256\n",
       "600.0     128\n",
       "800.0     108\n",
       "250.0      96\n",
       "dtype: int64"
      ]
     },
     "execution_count": 24,
     "metadata": {},
     "output_type": "execute_result"
    }
   ],
   "source": [
    "(mdp_df\n",
    " .query(\"dataset_id == '21644393'\")\n",
    " .value_counts(subset=\"temperature\")\n",
    " .head()\n",
    ")"
   ]
  },
  {
   "cell_type": "markdown",
   "id": "988a17b0-7eae-4023-9020-be1082cec3ca",
   "metadata": {},
   "source": [
    "Dataset [21644393](https://acs.figshare.com/articles/dataset/A_Comparison_of_Methods_for_Computing_Relative_Anhydrous_Hydrate_Stability_with_Molecular_Simulation/21644393) in Figshare:\n",
    "> A Comparison of Methods for Computing Relative Anhydrous–Hydrate Stability with Molecular Simulation\n",
    "\n",
    "This dataset has actually far more mdp files:"
   ]
  },
  {
   "cell_type": "code",
   "execution_count": 25,
   "id": "67fde0cb-28d6-420e-8a48-417a9baf6898",
   "metadata": {},
   "outputs": [
    {
     "data": {
      "text/plain": [
       "5256"
      ]
     },
     "execution_count": 25,
     "metadata": {},
     "output_type": "execute_result"
    }
   ],
   "source": [
    "(mdp_df\n",
    " .query(\"dataset_id == '21644393'\")\n",
    " .shape[0]\n",
    ")"
   ]
  },
  {
   "cell_type": "markdown",
   "id": "500e472b-febe-41cd-91f2-cc197c233523",
   "metadata": {},
   "source": [
    "5256 mdp files for a single dataset!"
   ]
  },
  {
   "cell_type": "markdown",
   "id": "5daeeeda-e70f-489a-85fc-928d8a031e55",
   "metadata": {},
   "source": [
    "### Hightest temperatures"
   ]
  },
  {
   "cell_type": "code",
   "execution_count": 26,
   "id": "d44a4517-346c-4f6a-ba1f-344b701f9d68",
   "metadata": {},
   "outputs": [
    {
     "data": {
      "text/html": [
       "<div>\n",
       "<style scoped>\n",
       "    .dataframe tbody tr th:only-of-type {\n",
       "        vertical-align: middle;\n",
       "    }\n",
       "\n",
       "    .dataframe tbody tr th {\n",
       "        vertical-align: top;\n",
       "    }\n",
       "\n",
       "    .dataframe thead th {\n",
       "        text-align: right;\n",
       "    }\n",
       "</style>\n",
       "<table border=\"1\" class=\"dataframe\">\n",
       "  <thead>\n",
       "    <tr style=\"text-align: right;\">\n",
       "      <th></th>\n",
       "      <th>dataset_origin</th>\n",
       "      <th>dataset_id</th>\n",
       "      <th>file_name</th>\n",
       "      <th>dt</th>\n",
       "      <th>nsteps</th>\n",
       "      <th>temperature</th>\n",
       "      <th>thermostat</th>\n",
       "      <th>barostat</th>\n",
       "      <th>dataset_url</th>\n",
       "    </tr>\n",
       "  </thead>\n",
       "  <tbody>\n",
       "    <tr>\n",
       "      <th>9120</th>\n",
       "      <td>figshare</td>\n",
       "      <td>2267512</td>\n",
       "      <td>6P_crystal_reproduction_files/reproduction_files/NVT/nvt_annealing.mdp</td>\n",
       "      <td>0.001</td>\n",
       "      <td>6000000.0</td>\n",
       "      <td>1500.0</td>\n",
       "      <td>V-rescale</td>\n",
       "      <td>no</td>\n",
       "      <td>https://acs.figshare.com/articles/dataset/Growth_and_Characterization_of_Molecular_Crystals_of_i_para_i_Sexiphenyl_by_All_Atom_Computer_Simulations/2267512</td>\n",
       "    </tr>\n",
       "  </tbody>\n",
       "</table>\n",
       "</div>"
      ],
      "text/plain": [
       "     dataset_origin dataset_id  \\\n",
       "9120       figshare    2267512   \n",
       "\n",
       "                                                                   file_name  \\\n",
       "9120  6P_crystal_reproduction_files/reproduction_files/NVT/nvt_annealing.mdp   \n",
       "\n",
       "         dt     nsteps  temperature thermostat barostat  \\\n",
       "9120  0.001  6000000.0       1500.0  V-rescale       no   \n",
       "\n",
       "                                                                                                                                                      dataset_url  \n",
       "9120  https://acs.figshare.com/articles/dataset/Growth_and_Characterization_of_Molecular_Crystals_of_i_para_i_Sexiphenyl_by_All_Atom_Computer_Simulations/2267512  "
      ]
     },
     "execution_count": 26,
     "metadata": {},
     "output_type": "execute_result"
    }
   ],
   "source": [
    "mdp_df.query(\"temperature > 800\")"
   ]
  },
  {
   "cell_type": "markdown",
   "id": "4cac7bdd-da46-4cb5-991a-227e12866ed1",
   "metadata": {},
   "source": [
    "Dataset [2267512](https://figshare.com/articles/dataset/Growth_and_Characterization_of_Molecular_Crystals_of_i_para_i_Sexiphenyl_by_All_Atom_Computer_Simulations/2267512) at 1500 K:\n",
    "\n",
    "> Growth and Characterization of Molecular Crystals of para-Sexiphenyl by All-Atom Computer Simulations"
   ]
  },
  {
   "cell_type": "markdown",
   "id": "872a189e-1e15-44f6-ba77-c2b725d07632",
   "metadata": {},
   "source": [
    "## 4.B. Cumulated distribution of simulation time"
   ]
  },
  {
   "cell_type": "code",
   "execution_count": 27,
   "id": "f44c7b76-2095-4089-bf57-c73fa3c7e14d",
   "metadata": {},
   "outputs": [],
   "source": [
    "# Compute simulation time:\n",
    "# dt is in ps\n",
    "# https://manual.gromacs.org/documentation/current/user-guide/mdp-options.html#mdp-dt\n",
    "mdp_df[\"time\"] = mdp_df[\"dt\"] * mdp_df[\"nsteps\"] / 1000\n",
    "# in ns\n",
    "# 1 µs = 1 000 ns\n",
    "\n",
    "# Attribute all-atom (AA) or corase-grain (CG) simulation type\n",
    "mdp_df[\"simulation_type\"] = np.where(mdp_df[\"dt\"] <= 0.01, \"AA\", \"GG\")"
   ]
  },
  {
   "cell_type": "code",
   "execution_count": 28,
   "id": "4652869e-f608-4367-a7ad-f0fe0c960378",
   "metadata": {},
   "outputs": [
    {
     "data": {
      "image/png": "[encoded data removed]",
      "text/plain": [
       "<Figure size 1000x700 with 1 Axes>"
      ]
     },
     "metadata": {},
     "output_type": "display_data"
    }
   ],
   "source": [
    "def plot_simulation_time_distribution(df):\n",
    "    logbins = np.geomspace(df[\"time\"].min()+1, df[\"time\"].max(), 1_000)\n",
    "\n",
    "    plt.rcParams.update({\"font.size\": 16})\n",
    "    fig, ax = plt.subplots(figsize=(10,7))\n",
    "    values, bins, _ = ax.hist(\n",
    "        df[\"time\"], \n",
    "        bins=logbins,\n",
    "        color=\"tab:orange\", linewidth=3,\n",
    "        histtype=\"step\", cumulative=True,\n",
    "        label = \"all simulations\"\n",
    "    )\n",
    "    values, bins, _ = ax.hist(\n",
    "        df[ df[\"simulation_type\"] == \"AA\" ][\"time\"], \n",
    "        bins=logbins,\n",
    "        color=\"tab:green\", linewidth=3,\n",
    "        histtype=\"step\", cumulative=True,\n",
    "        label = \"all-atom simulations\"\n",
    "    )\n",
    "    values, bins, _ = ax.hist(\n",
    "        df[ df[\"simulation_type\"] == \"GG\" ][\"time\"], \n",
    "        bins=logbins,\n",
    "        color=\"tab:red\", linewidth=3,\n",
    "        histtype=\"step\", cumulative=True,\n",
    "        label = \"coarse-grain simulations\"\n",
    "    )\n",
    "    ax.set_xlabel(\"Simulation time (ns)\")\n",
    "    ax.set_ylabel(\"Cumulated distribution of files\")\n",
    "    ax.set_xscale(\"log\")\n",
    "    ax.set_xlim(1, df[\"time\"].max() - df[\"time\"].max() * 0.1)\n",
    "    text_y_position = 5600\n",
    "    ax.annotate(\"10 ns\", xy=(10, 0), xytext=(10, text_y_position), color=\"gray\",\n",
    "                 arrowprops={\"arrowstyle\":\"-\", \"linestyle\":\"--\", \"lw\":1, \"color\":\"gray\"}, \n",
    "                 horizontalalignment=\"center\", verticalalignment=\"bottom\", fontsize=15)\n",
    "    ax.annotate(\"50 ns\", xy=(50, 0), xytext=(50, text_y_position), color=\"gray\",\n",
    "                 arrowprops={\"arrowstyle\":\"-\", \"linestyle\":\"--\", \"lw\":1, \"color\":\"gray\"}, \n",
    "                 horizontalalignment=\"center\", verticalalignment=\"bottom\", fontsize=15)\n",
    "    ax.annotate(\"200 ns\", xy=(200, 0), xytext=(200, text_y_position), color=\"gray\",\n",
    "                 arrowprops={\"arrowstyle\":\"-\", \"linestyle\":\"--\", \"lw\":1, \"color\":\"gray\"}, \n",
    "                 horizontalalignment=\"center\", verticalalignment=\"bottom\", fontsize=15)\n",
    "    ax.annotate(\"1 µs\", xy=(1000, 0), xytext=(1000, text_y_position), color=\"gray\",\n",
    "                 arrowprops={\"arrowstyle\":\"-\", \"linestyle\":\"--\", \"lw\":1, \"color\":\"gray\"}, \n",
    "                 horizontalalignment=\"center\", verticalalignment=\"bottom\", fontsize=15)\n",
    "    legend_elements = [\n",
    "        Line2D([0], [0], color=\"tab:orange\", lw=3, label=\"all simulations\"),\n",
    "        Line2D([0], [0], color=\"tab:green\", lw=3, label=\"all-atom simulations\"),\n",
    "        Line2D([0], [0], color=\"tab:red\", lw=3, label=\"coarse-grain simulations\")\n",
    "    ]                   \n",
    "    fig.legend(handles=legend_elements, loc=(0.61, 0.30), prop={\"size\":14})\n",
    "    filename = \"fig/gromacs_simulation_time\"\n",
    "    plt.savefig(f\"{filename}.png\", dpi=300, bbox_inches=\"tight\")\n",
    "    plt.savefig(f\"{filename}.svg\", bbox_inches=\"tight\")\n",
    "\n",
    "plot_simulation_time_distribution(mdp_df)"
   ]
  },
  {
   "cell_type": "markdown",
   "id": "b621f780-eff2-4eb7-888e-95aa9036aa7c",
   "metadata": {},
   "source": [
    "### Simulations above 50 µs"
   ]
  },
  {
   "cell_type": "code",
   "execution_count": 29,
   "id": "5c360e16-9d0f-4bfd-8ad6-7c60be490dbd",
   "metadata": {},
   "outputs": [
    {
     "data": {
      "text/html": [
       "<div>\n",
       "<style scoped>\n",
       "    .dataframe tbody tr th:only-of-type {\n",
       "        vertical-align: middle;\n",
       "    }\n",
       "\n",
       "    .dataframe tbody tr th {\n",
       "        vertical-align: top;\n",
       "    }\n",
       "\n",
       "    .dataframe thead th {\n",
       "        text-align: right;\n",
       "    }\n",
       "</style>\n",
       "<table border=\"1\" class=\"dataframe\">\n",
       "  <thead>\n",
       "    <tr style=\"text-align: right;\">\n",
       "      <th></th>\n",
       "      <th>dataset_origin</th>\n",
       "      <th>dataset_id</th>\n",
       "      <th>file_name</th>\n",
       "      <th>dt</th>\n",
       "      <th>nsteps</th>\n",
       "      <th>temperature</th>\n",
       "      <th>thermostat</th>\n",
       "      <th>barostat</th>\n",
       "      <th>dataset_url</th>\n",
       "      <th>time</th>\n",
       "      <th>simulation_type</th>\n",
       "    </tr>\n",
       "  </thead>\n",
       "  <tbody>\n",
       "    <tr>\n",
       "      <th>925</th>\n",
       "      <td>zenodo</td>\n",
       "      <td>7017263</td>\n",
       "      <td>degrader-ternary-complex-prediction-paper-final/hremd/scripts/config/md.mdp</td>\n",
       "      <td>0.002</td>\n",
       "      <td>5.000000e+11</td>\n",
       "      <td>300.0</td>\n",
       "      <td>V-rescale</td>\n",
       "      <td>Parrinello-Rahman</td>\n",
       "      <td>https://zenodo.org/record/7017263</td>\n",
       "      <td>1000000.0</td>\n",
       "      <td>AA</td>\n",
       "    </tr>\n",
       "    <tr>\n",
       "      <th>654</th>\n",
       "      <td>zenodo</td>\n",
       "      <td>846428</td>\n",
       "      <td>md.mdp</td>\n",
       "      <td>0.020</td>\n",
       "      <td>5.000000e+09</td>\n",
       "      <td>315.0</td>\n",
       "      <td>v-rescale</td>\n",
       "      <td>Parrinello-rahman</td>\n",
       "      <td>https://zenodo.org/record/846428</td>\n",
       "      <td>100000.0</td>\n",
       "      <td>GG</td>\n",
       "    </tr>\n",
       "    <tr>\n",
       "      <th>2066</th>\n",
       "      <td>zenodo</td>\n",
       "      <td>4451274</td>\n",
       "      <td>SARS-COV2_spike_simulations_Dform_Gform/md.mdp</td>\n",
       "      <td>0.002</td>\n",
       "      <td>5.000000e+10</td>\n",
       "      <td>310.0</td>\n",
       "      <td>No</td>\n",
       "      <td>Berendsen</td>\n",
       "      <td>https://zenodo.org/record/4451274</td>\n",
       "      <td>100000.0</td>\n",
       "      <td>AA</td>\n",
       "    </tr>\n",
       "    <tr>\n",
       "      <th>9287</th>\n",
       "      <td>osf</td>\n",
       "      <td>a43z2</td>\n",
       "      <td>hGBP1 dimer Martini-MD/cg_md_dimer_traj.mdp</td>\n",
       "      <td>0.030</td>\n",
       "      <td>2.500000e+09</td>\n",
       "      <td>310.0</td>\n",
       "      <td>v-rescale</td>\n",
       "      <td>parrinello-rahman</td>\n",
       "      <td>https://osf.io/a43z2/</td>\n",
       "      <td>75000.0</td>\n",
       "      <td>GG</td>\n",
       "    </tr>\n",
       "    <tr>\n",
       "      <th>286</th>\n",
       "      <td>zenodo</td>\n",
       "      <td>4115972</td>\n",
       "      <td>md.mdp</td>\n",
       "      <td>0.020</td>\n",
       "      <td>2.500000e+09</td>\n",
       "      <td>310.0</td>\n",
       "      <td>V-rescale</td>\n",
       "      <td>Parrinello-Rahman</td>\n",
       "      <td>https://zenodo.org/record/4115972</td>\n",
       "      <td>50000.0</td>\n",
       "      <td>GG</td>\n",
       "    </tr>\n",
       "    <tr>\n",
       "      <th>317</th>\n",
       "      <td>zenodo</td>\n",
       "      <td>4116245</td>\n",
       "      <td>md.mdp</td>\n",
       "      <td>0.020</td>\n",
       "      <td>2.500000e+09</td>\n",
       "      <td>310.0</td>\n",
       "      <td>V-rescale</td>\n",
       "      <td>Parrinello-Rahman</td>\n",
       "      <td>https://zenodo.org/record/4116245</td>\n",
       "      <td>50000.0</td>\n",
       "      <td>GG</td>\n",
       "    </tr>\n",
       "    <tr>\n",
       "      <th>346</th>\n",
       "      <td>zenodo</td>\n",
       "      <td>4293255</td>\n",
       "      <td>md_300.mdp</td>\n",
       "      <td>0.002</td>\n",
       "      <td>2.500000e+10</td>\n",
       "      <td>300.0</td>\n",
       "      <td>Nose-Hoover</td>\n",
       "      <td>Parrinello-Rahman</td>\n",
       "      <td>https://zenodo.org/record/4293255</td>\n",
       "      <td>50000.0</td>\n",
       "      <td>AA</td>\n",
       "    </tr>\n",
       "    <tr>\n",
       "      <th>379</th>\n",
       "      <td>zenodo</td>\n",
       "      <td>2653859</td>\n",
       "      <td>md.mdp</td>\n",
       "      <td>0.025</td>\n",
       "      <td>2.000000e+09</td>\n",
       "      <td>298.0</td>\n",
       "      <td>v-rescale</td>\n",
       "      <td>parrinello-rahman</td>\n",
       "      <td>https://zenodo.org/record/2653859</td>\n",
       "      <td>50000.0</td>\n",
       "      <td>GG</td>\n",
       "    </tr>\n",
       "    <tr>\n",
       "      <th>394</th>\n",
       "      <td>zenodo</td>\n",
       "      <td>4115152</td>\n",
       "      <td>md.mdp</td>\n",
       "      <td>0.020</td>\n",
       "      <td>2.500000e+09</td>\n",
       "      <td>310.0</td>\n",
       "      <td>V-rescale</td>\n",
       "      <td>Parrinello-Rahman</td>\n",
       "      <td>https://zenodo.org/record/4115152</td>\n",
       "      <td>50000.0</td>\n",
       "      <td>GG</td>\n",
       "    </tr>\n",
       "    <tr>\n",
       "      <th>565</th>\n",
       "      <td>zenodo</td>\n",
       "      <td>4196842</td>\n",
       "      <td>md.mdp</td>\n",
       "      <td>0.020</td>\n",
       "      <td>2.500000e+09</td>\n",
       "      <td>310.0</td>\n",
       "      <td>V-rescale</td>\n",
       "      <td>Parrinello-Rahman</td>\n",
       "      <td>https://zenodo.org/record/4196842</td>\n",
       "      <td>50000.0</td>\n",
       "      <td>GG</td>\n",
       "    </tr>\n",
       "    <tr>\n",
       "      <th>649</th>\n",
       "      <td>zenodo</td>\n",
       "      <td>4445375</td>\n",
       "      <td>md.mdp</td>\n",
       "      <td>0.025</td>\n",
       "      <td>2.000000e+09</td>\n",
       "      <td>310.0</td>\n",
       "      <td>V-rescale</td>\n",
       "      <td>berendsen</td>\n",
       "      <td>https://zenodo.org/record/4445375</td>\n",
       "      <td>50000.0</td>\n",
       "      <td>GG</td>\n",
       "    </tr>\n",
       "    <tr>\n",
       "      <th>1355</th>\n",
       "      <td>zenodo</td>\n",
       "      <td>7457014</td>\n",
       "      <td>parameter_files/20fs_prod.mdp</td>\n",
       "      <td>0.020</td>\n",
       "      <td>2.500000e+09</td>\n",
       "      <td>310.0</td>\n",
       "      <td>v-rescale</td>\n",
       "      <td>parrinello-rahman</td>\n",
       "      <td>https://zenodo.org/record/7457014</td>\n",
       "      <td>50000.0</td>\n",
       "      <td>GG</td>\n",
       "    </tr>\n",
       "    <tr>\n",
       "      <th>1356</th>\n",
       "      <td>zenodo</td>\n",
       "      <td>7457014</td>\n",
       "      <td>parameter_files/20fs_prod_nopull.mdp</td>\n",
       "      <td>0.020</td>\n",
       "      <td>2.500000e+09</td>\n",
       "      <td>310.0</td>\n",
       "      <td>v-rescale</td>\n",
       "      <td>parrinello-rahman</td>\n",
       "      <td>https://zenodo.org/record/7457014</td>\n",
       "      <td>50000.0</td>\n",
       "      <td>GG</td>\n",
       "    </tr>\n",
       "  </tbody>\n",
       "</table>\n",
       "</div>"
      ],
      "text/plain": [
       "     dataset_origin dataset_id  \\\n",
       "925          zenodo    7017263   \n",
       "654          zenodo     846428   \n",
       "2066         zenodo    4451274   \n",
       "9287            osf      a43z2   \n",
       "286          zenodo    4115972   \n",
       "317          zenodo    4116245   \n",
       "346          zenodo    4293255   \n",
       "379          zenodo    2653859   \n",
       "394          zenodo    4115152   \n",
       "565          zenodo    4196842   \n",
       "649          zenodo    4445375   \n",
       "1355         zenodo    7457014   \n",
       "1356         zenodo    7457014   \n",
       "\n",
       "                                                                        file_name  \\\n",
       "925   degrader-ternary-complex-prediction-paper-final/hremd/scripts/config/md.mdp   \n",
       "654                                                                        md.mdp   \n",
       "2066                               SARS-COV2_spike_simulations_Dform_Gform/md.mdp   \n",
       "9287                                  hGBP1 dimer Martini-MD/cg_md_dimer_traj.mdp   \n",
       "286                                                                        md.mdp   \n",
       "317                                                                        md.mdp   \n",
       "346                                                                    md_300.mdp   \n",
       "379                                                                        md.mdp   \n",
       "394                                                                        md.mdp   \n",
       "565                                                                        md.mdp   \n",
       "649                                                                        md.mdp   \n",
       "1355                                                parameter_files/20fs_prod.mdp   \n",
       "1356                                         parameter_files/20fs_prod_nopull.mdp   \n",
       "\n",
       "         dt        nsteps  temperature   thermostat           barostat  \\\n",
       "925   0.002  5.000000e+11        300.0    V-rescale  Parrinello-Rahman   \n",
       "654   0.020  5.000000e+09        315.0    v-rescale  Parrinello-rahman   \n",
       "2066  0.002  5.000000e+10        310.0           No          Berendsen   \n",
       "9287  0.030  2.500000e+09        310.0    v-rescale  parrinello-rahman   \n",
       "286   0.020  2.500000e+09        310.0    V-rescale  Parrinello-Rahman   \n",
       "317   0.020  2.500000e+09        310.0    V-rescale  Parrinello-Rahman   \n",
       "346   0.002  2.500000e+10        300.0  Nose-Hoover  Parrinello-Rahman   \n",
       "379   0.025  2.000000e+09        298.0    v-rescale  parrinello-rahman   \n",
       "394   0.020  2.500000e+09        310.0    V-rescale  Parrinello-Rahman   \n",
       "565   0.020  2.500000e+09        310.0    V-rescale  Parrinello-Rahman   \n",
       "649   0.025  2.000000e+09        310.0    V-rescale          berendsen   \n",
       "1355  0.020  2.500000e+09        310.0    v-rescale  parrinello-rahman   \n",
       "1356  0.020  2.500000e+09        310.0    v-rescale  parrinello-rahman   \n",
       "\n",
       "                            dataset_url       time simulation_type  \n",
       "925   https://zenodo.org/record/7017263  1000000.0              AA  \n",
       "654    https://zenodo.org/record/846428   100000.0              GG  \n",
       "2066  https://zenodo.org/record/4451274   100000.0              AA  \n",
       "9287              https://osf.io/a43z2/    75000.0              GG  \n",
       "286   https://zenodo.org/record/4115972    50000.0              GG  \n",
       "317   https://zenodo.org/record/4116245    50000.0              GG  \n",
       "346   https://zenodo.org/record/4293255    50000.0              AA  \n",
       "379   https://zenodo.org/record/2653859    50000.0              GG  \n",
       "394   https://zenodo.org/record/4115152    50000.0              GG  \n",
       "565   https://zenodo.org/record/4196842    50000.0              GG  \n",
       "649   https://zenodo.org/record/4445375    50000.0              GG  \n",
       "1355  https://zenodo.org/record/7457014    50000.0              GG  \n",
       "1356  https://zenodo.org/record/7457014    50000.0              GG  "
      ]
     },
     "execution_count": 29,
     "metadata": {},
     "output_type": "execute_result"
    }
   ],
   "source": [
    "mdp_df.query(\"time >= 50_000\").sort_values(by=\"time\", ascending=False)"
   ]
  },
  {
   "cell_type": "markdown",
   "id": "0e244a01-29cf-4a34-8f71-a41d0d482719",
   "metadata": {},
   "source": [
    "### Proportions of AT/CG simulations"
   ]
  },
  {
   "cell_type": "code",
   "execution_count": 30,
   "id": "b33f96d3-2154-4c5a-b41e-7d5fdd81718d",
   "metadata": {},
   "outputs": [
    {
     "data": {
      "text/plain": [
       "simulation_type\n",
       "AA    0.918109\n",
       "GG    0.081891\n",
       "dtype: float64"
      ]
     },
     "execution_count": 30,
     "metadata": {},
     "output_type": "execute_result"
    }
   ],
   "source": [
    "# Below 1 µs\n",
    "(mdp_df\n",
    " .query(\"time < 1_000\")\n",
    " .value_counts(subset=\"simulation_type\", normalize=True)\n",
    ")"
   ]
  },
  {
   "cell_type": "code",
   "execution_count": 31,
   "id": "09f84f2c-527c-46c2-98e1-ebb5766dd8cf",
   "metadata": {},
   "outputs": [
    {
     "data": {
      "text/plain": [
       "simulation_type\n",
       "GG    0.667614\n",
       "AA    0.332386\n",
       "dtype: float64"
      ]
     },
     "execution_count": 31,
     "metadata": {},
     "output_type": "execute_result"
    }
   ],
   "source": [
    "# Above 1 µs\n",
    "(mdp_df\n",
    " .query(\"time >= 1_000\")\n",
    " .value_counts(subset=\"simulation_type\", normalize=True)\n",
    ")"
   ]
  },
  {
   "cell_type": "code",
   "execution_count": 32,
   "id": "220ba060-0c22-42e7-b657-629ee65d81b6",
   "metadata": {},
   "outputs": [
    {
     "data": {
      "text/plain": [
       "simulation_type\n",
       "GG    0.878378\n",
       "AA    0.121622\n",
       "dtype: float64"
      ]
     },
     "execution_count": 32,
     "metadata": {},
     "output_type": "execute_result"
    }
   ],
   "source": [
    "# Above 10 µs\n",
    "(mdp_df\n",
    " .query(\"time >= 10_000\")\n",
    " .value_counts(subset=\"simulation_type\", normalize=True)\n",
    ")"
   ]
  },
  {
   "cell_type": "markdown",
   "id": "8cc283af-7bc5-4d16-b86c-a9be37ce89c2",
   "metadata": {},
   "source": [
    "## 4.C. Thermostat and barostat combinaison"
   ]
  },
  {
   "cell_type": "code",
   "execution_count": 172,
   "id": "f6c3519c-f21a-41ba-b2d3-95f970559419",
   "metadata": {},
   "outputs": [
    {
     "name": "stdout",
     "output_type": "stream",
     "text": [
      "633\n"
     ]
    },
    {
     "data": {
      "text/html": [
       "<div>\n",
       "<style scoped>\n",
       "    .dataframe tbody tr th:only-of-type {\n",
       "        vertical-align: middle;\n",
       "    }\n",
       "\n",
       "    .dataframe tbody tr th {\n",
       "        vertical-align: top;\n",
       "    }\n",
       "\n",
       "    .dataframe thead th {\n",
       "        text-align: right;\n",
       "    }\n",
       "</style>\n",
       "<table border=\"1\" class=\"dataframe\">\n",
       "  <thead>\n",
       "    <tr style=\"text-align: right;\">\n",
       "      <th></th>\n",
       "      <th>dataset_origin</th>\n",
       "      <th>dataset_id</th>\n",
       "      <th>file_name</th>\n",
       "      <th>dt</th>\n",
       "      <th>nsteps</th>\n",
       "      <th>temperature</th>\n",
       "      <th>thermostat</th>\n",
       "      <th>barostat</th>\n",
       "      <th>dataset_url</th>\n",
       "    </tr>\n",
       "  </thead>\n",
       "  <tbody>\n",
       "    <tr>\n",
       "      <th>39</th>\n",
       "      <td>zenodo</td>\n",
       "      <td>13853</td>\n",
       "      <td>mdrun.mdp</td>\n",
       "      <td>0.002</td>\n",
       "      <td>25000000.0</td>\n",
       "      <td>303.0</td>\n",
       "      <td>NaN</td>\n",
       "      <td>berendsen</td>\n",
       "      <td>https://zenodo.org/record/13853</td>\n",
       "    </tr>\n",
       "    <tr>\n",
       "      <th>79</th>\n",
       "      <td>zenodo</td>\n",
       "      <td>15550</td>\n",
       "      <td>mdrun.mdp</td>\n",
       "      <td>0.002</td>\n",
       "      <td>25000000.0</td>\n",
       "      <td>323.0</td>\n",
       "      <td>NaN</td>\n",
       "      <td>berendsen</td>\n",
       "      <td>https://zenodo.org/record/15550</td>\n",
       "    </tr>\n",
       "    <tr>\n",
       "      <th>333</th>\n",
       "      <td>zenodo</td>\n",
       "      <td>3899875</td>\n",
       "      <td>minimization.mdp</td>\n",
       "      <td>NaN</td>\n",
       "      <td>10000.0</td>\n",
       "      <td>NaN</td>\n",
       "      <td>NaN</td>\n",
       "      <td>NaN</td>\n",
       "      <td>https://zenodo.org/record/3899875</td>\n",
       "    </tr>\n",
       "    <tr>\n",
       "      <th>337</th>\n",
       "      <td>zenodo</td>\n",
       "      <td>4034250</td>\n",
       "      <td>minimization.mdp</td>\n",
       "      <td>NaN</td>\n",
       "      <td>10000.0</td>\n",
       "      <td>NaN</td>\n",
       "      <td>NaN</td>\n",
       "      <td>NaN</td>\n",
       "      <td>https://zenodo.org/record/4034250</td>\n",
       "    </tr>\n",
       "    <tr>\n",
       "      <th>341</th>\n",
       "      <td>zenodo</td>\n",
       "      <td>3898344</td>\n",
       "      <td>minimization.mdp</td>\n",
       "      <td>NaN</td>\n",
       "      <td>10000.0</td>\n",
       "      <td>NaN</td>\n",
       "      <td>NaN</td>\n",
       "      <td>NaN</td>\n",
       "      <td>https://zenodo.org/record/3898344</td>\n",
       "    </tr>\n",
       "  </tbody>\n",
       "</table>\n",
       "</div>"
      ],
      "text/plain": [
       "    dataset_origin dataset_id         file_name     dt      nsteps  \\\n",
       "39          zenodo      13853         mdrun.mdp  0.002  25000000.0   \n",
       "79          zenodo      15550         mdrun.mdp  0.002  25000000.0   \n",
       "333         zenodo    3899875  minimization.mdp    NaN     10000.0   \n",
       "337         zenodo    4034250  minimization.mdp    NaN     10000.0   \n",
       "341         zenodo    3898344  minimization.mdp    NaN     10000.0   \n",
       "\n",
       "     temperature thermostat   barostat                        dataset_url  \n",
       "39         303.0        NaN  berendsen    https://zenodo.org/record/13853  \n",
       "79         323.0        NaN  berendsen    https://zenodo.org/record/15550  \n",
       "333          NaN        NaN        NaN  https://zenodo.org/record/3899875  \n",
       "337          NaN        NaN        NaN  https://zenodo.org/record/4034250  \n",
       "341          NaN        NaN        NaN  https://zenodo.org/record/3898344  "
      ]
     },
     "execution_count": 172,
     "metadata": {},
     "output_type": "execute_result"
    }
   ],
   "source": [
    "# Mdp files without thermostat\n",
    "print(mdp_df[ mdp_df[\"thermostat\"].isna() ].shape[0])\n",
    "mdp_df[ mdp_df[\"thermostat\"].isna() ].head()"
   ]
  },
  {
   "cell_type": "code",
   "execution_count": 173,
   "id": "5d98b407-0c58-4aa9-93be-da52e63c06cc",
   "metadata": {},
   "outputs": [
    {
     "name": "stdout",
     "output_type": "stream",
     "text": [
      "Remaining files: 8780\n"
     ]
    }
   ],
   "source": [
    "# Clean barostat and thermostat names\n",
    "thermostats = {\n",
    "    \"berendsen\": \"Berendsen_t\",\n",
    "    \"nosehoover\": \"Nose-Hoover\",\n",
    "    \"vrescale\": \"V-rescale\",\n",
    "    \"no\": \"No temperature\"\n",
    "}\n",
    "# Add a space after Berendsen to differentiate from Berendsen's thermostat.\n",
    "barostats = {\n",
    "    \"berendsen\": \"Berendsen_p\",\n",
    "    \"parrinellorahman\": \"Parrinello-Rahman\",\n",
    "    \"no\": \"No pressure\"\n",
    "}\n",
    "def clean_thermostat_barostat(value, conversion_dict):\n",
    "    if not type(value) is str:\n",
    "        return None\n",
    "    raw_str = value.lower().lower().replace(\"-\", \"\").replace(\"_\", \"\")\n",
    "    return conversion_dict.get(raw_str, None)\n",
    "\n",
    "mdp_df[\"thermostat\"] = mdp_df[\"thermostat\"].apply(lambda x: clean_thermostat_barostat(x, thermostats))\n",
    "mdp_df[\"barostat\"] = mdp_df[\"barostat\"].apply(lambda x: clean_thermostat_barostat(x, barostats))\n",
    "mdp_df = mdp_df.dropna(subset=[\"thermostat\", \"barostat\"])\n",
    "\n",
    "print(f\"Remaining files: {mdp_df.shape[0]}\")"
   ]
  },
  {
   "cell_type": "code",
   "execution_count": 174,
   "id": "6de0b996-d5ed-4ad8-a0c5-a5e09b3a9dfb",
   "metadata": {},
   "outputs": [
    {
     "data": {
      "image/png": "[encoded data removed]",
      "text/plain": [
       "<Figure size 1000x700 with 1 Axes>"
      ]
     },
     "metadata": {},
     "output_type": "display_data"
    }
   ],
   "source": [
    "def plot_thermostat_barostat_sankey_graph(df):\n",
    "    \"\"\"Plot sankey graph with thermostats and barostats.\"\"\"\n",
    "    colorDict = {\n",
    "        \"Berendsen_t\": \"#e66101\",\n",
    "        \"Nose-Hoover\": \"#fdb863\",\n",
    "        \"V-rescale\": \"#b2abd2\",\n",
    "        \"No temperature\": \"#5e3c99\",\n",
    "        \"Parrinello-Rahman\": \"#b3b3b3\",\n",
    "        \"No pressure\": \"#b3b3b3\",\n",
    "        \"Berendsen_p\": \"#b3b3b3\",\n",
    "    }\n",
    "    plt.rcParams.update({\"font.family\": \"sans-serif\"})\n",
    "    fig, ax = plt.subplots(figsize=(10,7))\n",
    "    ax = sankey(\n",
    "        df[\"thermostat\"], df[\"barostat\"], aspect=10, colorDict=colorDict,\n",
    "        leftLabels=[\"Berendsen_t\", \"Nose-Hoover\", \"V-rescale\", \"No temperature\"],\n",
    "        rightLabels=[\"Berendsen_p\",\"Parrinello-Rahman\",\"No pressure\"],\n",
    "        fontsize=14\n",
    "    )\n",
    "    plt.figtext(0.00, 0.88, \"Thermostat\", fontsize=16, fontweight=\"bold\", fontfamily=\"sans-serif\")\n",
    "    plt.figtext(0.88, 0.88, \"Barostat\", fontsize=16, fontweight=\"bold\", fontfamily=\"sans-serif\")\n",
    "    filename = \"fig/gromacs_thermostat_barostat\"\n",
    "    plt.savefig(f\"{filename}.png\", dpi=300, bbox_inches=\"tight\")\n",
    "    plt.savefig(f\"{filename}.svg\", bbox_inches=\"tight\")\n",
    "\n",
    "\n",
    "plot_thermostat_barostat_sankey_graph(mdp_df)"
   ]
  },
  {
   "cell_type": "code",
   "execution_count": 175,
   "id": "776a87e7-243a-48e3-989c-7d87d9b9e8dc",
   "metadata": {},
   "outputs": [
    {
     "data": {
      "text/html": [
       "<div>\n",
       "<style scoped>\n",
       "    .dataframe tbody tr th:only-of-type {\n",
       "        vertical-align: middle;\n",
       "    }\n",
       "\n",
       "    .dataframe tbody tr th {\n",
       "        vertical-align: top;\n",
       "    }\n",
       "\n",
       "    .dataframe thead th {\n",
       "        text-align: right;\n",
       "    }\n",
       "</style>\n",
       "<table border=\"1\" class=\"dataframe\">\n",
       "  <thead>\n",
       "    <tr style=\"text-align: right;\">\n",
       "      <th>barostat</th>\n",
       "      <th>Berendsen_p</th>\n",
       "      <th>No pressure</th>\n",
       "      <th>Parrinello-Rahman</th>\n",
       "      <th>Total</th>\n",
       "    </tr>\n",
       "    <tr>\n",
       "      <th>thermostat</th>\n",
       "      <th></th>\n",
       "      <th></th>\n",
       "      <th></th>\n",
       "      <th></th>\n",
       "    </tr>\n",
       "  </thead>\n",
       "  <tbody>\n",
       "    <tr>\n",
       "      <th>Berendsen_t</th>\n",
       "      <td>305</td>\n",
       "      <td>127</td>\n",
       "      <td>0</td>\n",
       "      <td>432</td>\n",
       "    </tr>\n",
       "    <tr>\n",
       "      <th>No temperature</th>\n",
       "      <td>1</td>\n",
       "      <td>1931</td>\n",
       "      <td>98</td>\n",
       "      <td>2030</td>\n",
       "    </tr>\n",
       "    <tr>\n",
       "      <th>Nose-Hoover</th>\n",
       "      <td>10</td>\n",
       "      <td>139</td>\n",
       "      <td>416</td>\n",
       "      <td>565</td>\n",
       "    </tr>\n",
       "    <tr>\n",
       "      <th>V-rescale</th>\n",
       "      <td>1581</td>\n",
       "      <td>1931</td>\n",
       "      <td>2241</td>\n",
       "      <td>5753</td>\n",
       "    </tr>\n",
       "    <tr>\n",
       "      <th>Total</th>\n",
       "      <td>1897</td>\n",
       "      <td>4128</td>\n",
       "      <td>2755</td>\n",
       "      <td>8780</td>\n",
       "    </tr>\n",
       "  </tbody>\n",
       "</table>\n",
       "</div>"
      ],
      "text/plain": [
       "barostat        Berendsen_p  No pressure  Parrinello-Rahman  Total\n",
       "thermostat                                                        \n",
       "Berendsen_t             305          127                  0    432\n",
       "No temperature            1         1931                 98   2030\n",
       "Nose-Hoover              10          139                416    565\n",
       "V-rescale              1581         1931               2241   5753\n",
       "Total                  1897         4128               2755   8780"
      ]
     },
     "execution_count": 175,
     "metadata": {},
     "output_type": "execute_result"
    }
   ],
   "source": [
    "pd.crosstab(index=mdp_df[\"thermostat\"], columns=mdp_df[\"barostat\"], margins=True, margins_name=\"Total\")"
   ]
  },
  {
   "cell_type": "code",
   "execution_count": 176,
   "id": "742127cc-0d0f-48eb-b567-f3322200b1a4",
   "metadata": {},
   "outputs": [
    {
     "data": {
      "text/html": [
       "<div>\n",
       "<style scoped>\n",
       "    .dataframe tbody tr th:only-of-type {\n",
       "        vertical-align: middle;\n",
       "    }\n",
       "\n",
       "    .dataframe tbody tr th {\n",
       "        vertical-align: top;\n",
       "    }\n",
       "\n",
       "    .dataframe thead th {\n",
       "        text-align: right;\n",
       "    }\n",
       "</style>\n",
       "<table border=\"1\" class=\"dataframe\">\n",
       "  <thead>\n",
       "    <tr style=\"text-align: right;\">\n",
       "      <th></th>\n",
       "      <th>thermostat</th>\n",
       "      <th>barostat</th>\n",
       "      <th>value</th>\n",
       "    </tr>\n",
       "  </thead>\n",
       "  <tbody>\n",
       "    <tr>\n",
       "      <th>0</th>\n",
       "      <td>Berendsen_t</td>\n",
       "      <td>Berendsen_p</td>\n",
       "      <td>305</td>\n",
       "    </tr>\n",
       "    <tr>\n",
       "      <th>1</th>\n",
       "      <td>Berendsen_t</td>\n",
       "      <td>No pressure</td>\n",
       "      <td>127</td>\n",
       "    </tr>\n",
       "    <tr>\n",
       "      <th>2</th>\n",
       "      <td>Berendsen_t</td>\n",
       "      <td>Parrinello-Rahman</td>\n",
       "      <td>0</td>\n",
       "    </tr>\n",
       "    <tr>\n",
       "      <th>3</th>\n",
       "      <td>No temperature</td>\n",
       "      <td>Berendsen_p</td>\n",
       "      <td>1</td>\n",
       "    </tr>\n",
       "    <tr>\n",
       "      <th>4</th>\n",
       "      <td>No temperature</td>\n",
       "      <td>No pressure</td>\n",
       "      <td>1931</td>\n",
       "    </tr>\n",
       "    <tr>\n",
       "      <th>5</th>\n",
       "      <td>No temperature</td>\n",
       "      <td>Parrinello-Rahman</td>\n",
       "      <td>98</td>\n",
       "    </tr>\n",
       "    <tr>\n",
       "      <th>6</th>\n",
       "      <td>Nose-Hoover</td>\n",
       "      <td>Berendsen_p</td>\n",
       "      <td>10</td>\n",
       "    </tr>\n",
       "    <tr>\n",
       "      <th>7</th>\n",
       "      <td>Nose-Hoover</td>\n",
       "      <td>No pressure</td>\n",
       "      <td>139</td>\n",
       "    </tr>\n",
       "    <tr>\n",
       "      <th>8</th>\n",
       "      <td>Nose-Hoover</td>\n",
       "      <td>Parrinello-Rahman</td>\n",
       "      <td>416</td>\n",
       "    </tr>\n",
       "    <tr>\n",
       "      <th>9</th>\n",
       "      <td>V-rescale</td>\n",
       "      <td>Berendsen_p</td>\n",
       "      <td>1581</td>\n",
       "    </tr>\n",
       "    <tr>\n",
       "      <th>10</th>\n",
       "      <td>V-rescale</td>\n",
       "      <td>No pressure</td>\n",
       "      <td>1931</td>\n",
       "    </tr>\n",
       "    <tr>\n",
       "      <th>11</th>\n",
       "      <td>V-rescale</td>\n",
       "      <td>Parrinello-Rahman</td>\n",
       "      <td>2241</td>\n",
       "    </tr>\n",
       "  </tbody>\n",
       "</table>\n",
       "</div>"
      ],
      "text/plain": [
       "        thermostat           barostat  value\n",
       "0      Berendsen_t        Berendsen_p    305\n",
       "1      Berendsen_t        No pressure    127\n",
       "2      Berendsen_t  Parrinello-Rahman      0\n",
       "3   No temperature        Berendsen_p      1\n",
       "4   No temperature        No pressure   1931\n",
       "5   No temperature  Parrinello-Rahman     98\n",
       "6      Nose-Hoover        Berendsen_p     10\n",
       "7      Nose-Hoover        No pressure    139\n",
       "8      Nose-Hoover  Parrinello-Rahman    416\n",
       "9        V-rescale        Berendsen_p   1581\n",
       "10       V-rescale        No pressure   1931\n",
       "11       V-rescale  Parrinello-Rahman   2241"
      ]
     },
     "execution_count": 176,
     "metadata": {},
     "output_type": "execute_result"
    }
   ],
   "source": [
    "pairs = pd.crosstab(index=mdp_df[\"thermostat\"], columns=mdp_df[\"barostat\"]).stack().reset_index()\n",
    "pairs.columns = [\"thermostat\", \"barostat\", \"value\"]\n",
    "pairs"
   ]
  },
  {
   "cell_type": "code",
   "execution_count": 181,
   "id": "15ed07bd-5a7b-4596-ae4a-407d7993533c",
   "metadata": {},
   "outputs": [
    {
     "data": {
      "text/plain": [
       "{'Berendsen_t': 0,\n",
       " 'No temperature': 1,\n",
       " 'Nose-Hoover': 2,\n",
       " 'V-rescale': 3,\n",
       " 'Berendsen_p': 4,\n",
       " 'No pressure': 5,\n",
       " 'Parrinello-Rahman': 6}"
      ]
     },
     "execution_count": 181,
     "metadata": {},
     "output_type": "execute_result"
    }
   ],
   "source": [
    "labels = pd.concat([pairs[\"thermostat\"], pairs[\"barostat\"]]).drop_duplicates().reset_index(drop=True)\n",
    "labels_dict = dict(zip(labels.values, labels.index))\n",
    "labels_dict"
   ]
  },
  {
   "cell_type": "code",
   "execution_count": 182,
   "id": "beb48bc9-3bc9-4c4a-926e-582b280ccf32",
   "metadata": {},
   "outputs": [],
   "source": [
    "pairs[\"thermostat_index\"] = pairs[\"thermostat\"].apply(lambda x: labels_dict[x])\n",
    "pairs[\"barostat_index\"] = pairs[\"barostat\"].apply(lambda x: labels_dict[x])"
   ]
  },
  {
   "cell_type": "code",
   "execution_count": 183,
   "id": "35c3fb07-0f20-439a-b025-68e2f72223dd",
   "metadata": {},
   "outputs": [],
   "source": [
    "import plotly.graph_objects as go"
   ]
  },
  {
   "cell_type": "code",
   "execution_count": 184,
   "id": "a3289308-e5c1-4d99-ad4d-fbbe0ccca046",
   "metadata": {},
   "outputs": [
    {
     "data": {
      "application/vnd.plotly.v1+json": {
       "config": {
        "plotlyServerURL": "https://plot.ly"
       },
       "data": [
        {
         "link": {
          "source": [
           0,
           0,
           0,
           1,
           1,
           1,
           2,
           2,
           2,
           3,
           3,
           3
          ],
          "target": [
           4,
           5,
           6,
           4,
           5,
           6,
           4,
           5,
           6,
           4,
           5,
           6
          ],
          "value": [
           305,
           127,
           0,
           1,
           1931,
           98,
           10,
           139,
           416,
           1581,
           1931,
           2241
          ]
         },
         "node": {
          "label": [
           "Berendsen",
           "No temperature",
           "Nose-Hoover",
           "V-rescale",
           "Berendsen",
           "No pressure",
           "Parrinello-Rahman"
          ],
          "pad": 20,
          "thickness": 15
         },
         "type": "sankey"
        }
       ],
       "layout": {
        "autosize": false,
        "font": {
         "size": 15
        },
        "height": 450,
        "template": {
         "data": {
          "bar": [
           {
            "error_x": {
             "color": "#2a3f5f"
            },
            "error_y": {
             "color": "#2a3f5f"
            },
            "marker": {
             "line": {
              "color": "#E5ECF6",
              "width": 0.5
             },
             "pattern": {
              "fillmode": "overlay",
              "size": 10,
              "solidity": 0.2
             }
            },
            "type": "bar"
           }
          ],
          "barpolar": [
           {
            "marker": {
             "line": {
              "color": "#E5ECF6",
              "width": 0.5
             },
             "pattern": {
              "fillmode": "overlay",
              "size": 10,
              "solidity": 0.2
             }
            },
            "type": "barpolar"
           }
          ],
          "carpet": [
           {
            "aaxis": {
             "endlinecolor": "#2a3f5f",
             "gridcolor": "white",
             "linecolor": "white",
             "minorgridcolor": "white",
             "startlinecolor": "#2a3f5f"
            },
            "baxis": {
             "endlinecolor": "#2a3f5f",
             "gridcolor": "white",
             "linecolor": "white",
             "minorgridcolor": "white",
             "startlinecolor": "#2a3f5f"
            },
            "type": "carpet"
           }
          ],
          "choropleth": [
           {
            "colorbar": {
             "outlinewidth": 0,
             "ticks": ""
            },
            "type": "choropleth"
           }
          ],
          "contour": [
           {
            "colorbar": {
             "outlinewidth": 0,
             "ticks": ""
            },
            "colorscale": [
             [
              0,
              "#0d0887"
             ],
             [
              0.1111111111111111,
              "#46039f"
             ],
             [
              0.2222222222222222,
              "#7201a8"
             ],
             [
              0.3333333333333333,
              "#9c179e"
             ],
             [
              0.4444444444444444,
              "#bd3786"
             ],
             [
              0.5555555555555556,
              "#d8576b"
             ],
             [
              0.6666666666666666,
              "#ed7953"
             ],
             [
              0.7777777777777778,
              "#fb9f3a"
             ],
             [
              0.8888888888888888,
              "#fdca26"
             ],
             [
              1,
              "#f0f921"
             ]
            ],
            "type": "contour"
           }
          ],
          "contourcarpet": [
           {
            "colorbar": {
             "outlinewidth": 0,
             "ticks": ""
            },
            "type": "contourcarpet"
           }
          ],
          "heatmap": [
           {
            "colorbar": {
             "outlinewidth": 0,
             "ticks": ""
            },
            "colorscale": [
             [
              0,
              "#0d0887"
             ],
             [
              0.1111111111111111,
              "#46039f"
             ],
             [
              0.2222222222222222,
              "#7201a8"
             ],
             [
              0.3333333333333333,
              "#9c179e"
             ],
             [
              0.4444444444444444,
              "#bd3786"
             ],
             [
              0.5555555555555556,
              "#d8576b"
             ],
             [
              0.6666666666666666,
              "#ed7953"
             ],
             [
              0.7777777777777778,
              "#fb9f3a"
             ],
             [
              0.8888888888888888,
              "#fdca26"
             ],
             [
              1,
              "#f0f921"
             ]
            ],
            "type": "heatmap"
           }
          ],
          "heatmapgl": [
           {
            "colorbar": {
             "outlinewidth": 0,
             "ticks": ""
            },
            "colorscale": [
             [
              0,
              "#0d0887"
             ],
             [
              0.1111111111111111,
              "#46039f"
             ],
             [
              0.2222222222222222,
              "#7201a8"
             ],
             [
              0.3333333333333333,
              "#9c179e"
             ],
             [
              0.4444444444444444,
              "#bd3786"
             ],
             [
              0.5555555555555556,
              "#d8576b"
             ],
             [
              0.6666666666666666,
              "#ed7953"
             ],
             [
              0.7777777777777778,
              "#fb9f3a"
             ],
             [
              0.8888888888888888,
              "#fdca26"
             ],
             [
              1,
              "#f0f921"
             ]
            ],
            "type": "heatmapgl"
           }
          ],
          "histogram": [
           {
            "marker": {
             "pattern": {
              "fillmode": "overlay",
              "size": 10,
              "solidity": 0.2
             }
            },
            "type": "histogram"
           }
          ],
          "histogram2d": [
           {
            "colorbar": {
             "outlinewidth": 0,
             "ticks": ""
            },
            "colorscale": [
             [
              0,
              "#0d0887"
             ],
             [
              0.1111111111111111,
              "#46039f"
             ],
             [
              0.2222222222222222,
              "#7201a8"
             ],
             [
              0.3333333333333333,
              "#9c179e"
             ],
             [
              0.4444444444444444,
              "#bd3786"
             ],
             [
              0.5555555555555556,
              "#d8576b"
             ],
             [
              0.6666666666666666,
              "#ed7953"
             ],
             [
              0.7777777777777778,
              "#fb9f3a"
             ],
             [
              0.8888888888888888,
              "#fdca26"
             ],
             [
              1,
              "#f0f921"
             ]
            ],
            "type": "histogram2d"
           }
          ],
          "histogram2dcontour": [
           {
            "colorbar": {
             "outlinewidth": 0,
             "ticks": ""
            },
            "colorscale": [
             [
              0,
              "#0d0887"
             ],
             [
              0.1111111111111111,
              "#46039f"
             ],
             [
              0.2222222222222222,
              "#7201a8"
             ],
             [
              0.3333333333333333,
              "#9c179e"
             ],
             [
              0.4444444444444444,
              "#bd3786"
             ],
             [
              0.5555555555555556,
              "#d8576b"
             ],
             [
              0.6666666666666666,
              "#ed7953"
             ],
             [
              0.7777777777777778,
              "#fb9f3a"
             ],
             [
              0.8888888888888888,
              "#fdca26"
             ],
             [
              1,
              "#f0f921"
             ]
            ],
            "type": "histogram2dcontour"
           }
          ],
          "mesh3d": [
           {
            "colorbar": {
             "outlinewidth": 0,
             "ticks": ""
            },
            "type": "mesh3d"
           }
          ],
          "parcoords": [
           {
            "line": {
             "colorbar": {
              "outlinewidth": 0,
              "ticks": ""
             }
            },
            "type": "parcoords"
           }
          ],
          "pie": [
           {
            "automargin": true,
            "type": "pie"
           }
          ],
          "scatter": [
           {
            "fillpattern": {
             "fillmode": "overlay",
             "size": 10,
             "solidity": 0.2
            },
            "type": "scatter"
           }
          ],
          "scatter3d": [
           {
            "line": {
             "colorbar": {
              "outlinewidth": 0,
              "ticks": ""
             }
            },
            "marker": {
             "colorbar": {
              "outlinewidth": 0,
              "ticks": ""
             }
            },
            "type": "scatter3d"
           }
          ],
          "scattercarpet": [
           {
            "marker": {
             "colorbar": {
              "outlinewidth": 0,
              "ticks": ""
             }
            },
            "type": "scattercarpet"
           }
          ],
          "scattergeo": [
           {
            "marker": {
             "colorbar": {
              "outlinewidth": 0,
              "ticks": ""
             }
            },
            "type": "scattergeo"
           }
          ],
          "scattergl": [
           {
            "marker": {
             "colorbar": {
              "outlinewidth": 0,
              "ticks": ""
             }
            },
            "type": "scattergl"
           }
          ],
          "scattermapbox": [
           {
            "marker": {
             "colorbar": {
              "outlinewidth": 0,
              "ticks": ""
             }
            },
            "type": "scattermapbox"
           }
          ],
          "scatterpolar": [
           {
            "marker": {
             "colorbar": {
              "outlinewidth": 0,
              "ticks": ""
             }
            },
            "type": "scatterpolar"
           }
          ],
          "scatterpolargl": [
           {
            "marker": {
             "colorbar": {
              "outlinewidth": 0,
              "ticks": ""
             }
            },
            "type": "scatterpolargl"
           }
          ],
          "scatterternary": [
           {
            "marker": {
             "colorbar": {
              "outlinewidth": 0,
              "ticks": ""
             }
            },
            "type": "scatterternary"
           }
          ],
          "surface": [
           {
            "colorbar": {
             "outlinewidth": 0,
             "ticks": ""
            },
            "colorscale": [
             [
              0,
              "#0d0887"
             ],
             [
              0.1111111111111111,
              "#46039f"
             ],
             [
              0.2222222222222222,
              "#7201a8"
             ],
             [
              0.3333333333333333,
              "#9c179e"
             ],
             [
              0.4444444444444444,
              "#bd3786"
             ],
             [
              0.5555555555555556,
              "#d8576b"
             ],
             [
              0.6666666666666666,
              "#ed7953"
             ],
             [
              0.7777777777777778,
              "#fb9f3a"
             ],
             [
              0.8888888888888888,
              "#fdca26"
             ],
             [
              1,
              "#f0f921"
             ]
            ],
            "type": "surface"
           }
          ],
          "table": [
           {
            "cells": {
             "fill": {
              "color": "#EBF0F8"
             },
             "line": {
              "color": "white"
             }
            },
            "header": {
             "fill": {
              "color": "#C8D4E3"
             },
             "line": {
              "color": "white"
             }
            },
            "type": "table"
           }
          ]
         },
         "layout": {
          "annotationdefaults": {
           "arrowcolor": "#2a3f5f",
           "arrowhead": 0,
           "arrowwidth": 1
          },
          "autotypenumbers": "strict",
          "coloraxis": {
           "colorbar": {
            "outlinewidth": 0,
            "ticks": ""
           }
          },
          "colorscale": {
           "diverging": [
            [
             0,
             "#8e0152"
            ],
            [
             0.1,
             "#c51b7d"
            ],
            [
             0.2,
             "#de77ae"
            ],
            [
             0.3,
             "#f1b6da"
            ],
            [
             0.4,
             "#fde0ef"
            ],
            [
             0.5,
             "#f7f7f7"
            ],
            [
             0.6,
             "#e6f5d0"
            ],
            [
             0.7,
             "#b8e186"
            ],
            [
             0.8,
             "#7fbc41"
            ],
            [
             0.9,
             "#4d9221"
            ],
            [
             1,
             "#276419"
            ]
           ],
           "sequential": [
            [
             0,
             "#0d0887"
            ],
            [
             0.1111111111111111,
             "#46039f"
            ],
            [
             0.2222222222222222,
             "#7201a8"
            ],
            [
             0.3333333333333333,
             "#9c179e"
            ],
            [
             0.4444444444444444,
             "#bd3786"
            ],
            [
             0.5555555555555556,
             "#d8576b"
            ],
            [
             0.6666666666666666,
             "#ed7953"
            ],
            [
             0.7777777777777778,
             "#fb9f3a"
            ],
            [
             0.8888888888888888,
             "#fdca26"
            ],
            [
             1,
             "#f0f921"
            ]
           ],
           "sequentialminus": [
            [
             0,
             "#0d0887"
            ],
            [
             0.1111111111111111,
             "#46039f"
            ],
            [
             0.2222222222222222,
             "#7201a8"
            ],
            [
             0.3333333333333333,
             "#9c179e"
            ],
            [
             0.4444444444444444,
             "#bd3786"
            ],
            [
             0.5555555555555556,
             "#d8576b"
            ],
            [
             0.6666666666666666,
             "#ed7953"
            ],
            [
             0.7777777777777778,
             "#fb9f3a"
            ],
            [
             0.8888888888888888,
             "#fdca26"
            ],
            [
             1,
             "#f0f921"
            ]
           ]
          },
          "colorway": [
           "#636efa",
           "#EF553B",
           "#00cc96",
           "#ab63fa",
           "#FFA15A",
           "#19d3f3",
           "#FF6692",
           "#B6E880",
           "#FF97FF",
           "#FECB52"
          ],
          "font": {
           "color": "#2a3f5f"
          },
          "geo": {
           "bgcolor": "white",
           "lakecolor": "white",
           "landcolor": "#E5ECF6",
           "showlakes": true,
           "showland": true,
           "subunitcolor": "white"
          },
          "hoverlabel": {
           "align": "left"
          },
          "hovermode": "closest",
          "mapbox": {
           "style": "light"
          },
          "paper_bgcolor": "white",
          "plot_bgcolor": "#E5ECF6",
          "polar": {
           "angularaxis": {
            "gridcolor": "white",
            "linecolor": "white",
            "ticks": ""
           },
           "bgcolor": "#E5ECF6",
           "radialaxis": {
            "gridcolor": "white",
            "linecolor": "white",
            "ticks": ""
           }
          },
          "scene": {
           "xaxis": {
            "backgroundcolor": "#E5ECF6",
            "gridcolor": "white",
            "gridwidth": 2,
            "linecolor": "white",
            "showbackground": true,
            "ticks": "",
            "zerolinecolor": "white"
           },
           "yaxis": {
            "backgroundcolor": "#E5ECF6",
            "gridcolor": "white",
            "gridwidth": 2,
            "linecolor": "white",
            "showbackground": true,
            "ticks": "",
            "zerolinecolor": "white"
           },
           "zaxis": {
            "backgroundcolor": "#E5ECF6",
            "gridcolor": "white",
            "gridwidth": 2,
            "linecolor": "white",
            "showbackground": true,
            "ticks": "",
            "zerolinecolor": "white"
           }
          },
          "shapedefaults": {
           "line": {
            "color": "#2a3f5f"
           }
          },
          "ternary": {
           "aaxis": {
            "gridcolor": "white",
            "linecolor": "white",
            "ticks": ""
           },
           "baxis": {
            "gridcolor": "white",
            "linecolor": "white",
            "ticks": ""
           },
           "bgcolor": "#E5ECF6",
           "caxis": {
            "gridcolor": "white",
            "linecolor": "white",
            "ticks": ""
           }
          },
          "title": {
           "x": 0.05
          },
          "xaxis": {
           "automargin": true,
           "gridcolor": "white",
           "linecolor": "white",
           "ticks": "",
           "title": {
            "standoff": 15
           },
           "zerolinecolor": "white",
           "zerolinewidth": 2
          },
          "yaxis": {
           "automargin": true,
           "gridcolor": "white",
           "linecolor": "white",
           "ticks": "",
           "title": {
            "standoff": 15
           },
           "zerolinecolor": "white",
           "zerolinewidth": 2
          }
         }
        },
        "width": 700,
        "yaxis": {
         "ticklabelposition": "outside"
        }
       }
      },
      "image/png": "[encoded data removed]",
      "text/html": [
       "<div>                            <div id=\"92a03706-fcdb-4d2d-858b-3ded83dec8d4\" class=\"plotly-graph-div\" style=\"height:525px; width:700px;\"></div>            <script type=\"text/javascript\">                require([\"plotly\"], function(Plotly) {                    window.PLOTLYENV=window.PLOTLYENV || {};                                    if (document.getElementById(\"92a03706-fcdb-4d2d-858b-3ded83dec8d4\")) {                    Plotly.newPlot(                        \"92a03706-fcdb-4d2d-858b-3ded83dec8d4\",                        [{\"link\":{\"source\":[0,0,0,1,1,1,2,2,2,3,3,3],\"target\":[4,5,6,4,5,6,4,5,6,4,5,6],\"value\":[305,127,0,1,1931,98,10,139,416,1581,1931,2241]},\"node\":{\"label\":[\"Berendsen\",\"No temperature\",\"Nose-Hoover\",\"V-rescale\",\"Berendsen\",\"No pressure\",\"Parrinello-Rahman\"],\"pad\":20,\"thickness\":15},\"type\":\"sankey\"}],                        {\"template\":{\"data\":{\"histogram2dcontour\":[{\"type\":\"histogram2dcontour\",\"colorbar\":{\"outlinewidth\":0,\"ticks\":\"\"},\"colorscale\":[[0.0,\"#0d0887\"],[0.1111111111111111,\"#46039f\"],[0.2222222222222222,\"#7201a8\"],[0.3333333333333333,\"#9c179e\"],[0.4444444444444444,\"#bd3786\"],[0.5555555555555556,\"#d8576b\"],[0.6666666666666666,\"#ed7953\"],[0.7777777777777778,\"#fb9f3a\"],[0.8888888888888888,\"#fdca26\"],[1.0,\"#f0f921\"]]}],\"choropleth\":[{\"type\":\"choropleth\",\"colorbar\":{\"outlinewidth\":0,\"ticks\":\"\"}}],\"histogram2d\":[{\"type\":\"histogram2d\",\"colorbar\":{\"outlinewidth\":0,\"ticks\":\"\"},\"colorscale\":[[0.0,\"#0d0887\"],[0.1111111111111111,\"#46039f\"],[0.2222222222222222,\"#7201a8\"],[0.3333333333333333,\"#9c179e\"],[0.4444444444444444,\"#bd3786\"],[0.5555555555555556,\"#d8576b\"],[0.6666666666666666,\"#ed7953\"],[0.7777777777777778,\"#fb9f3a\"],[0.8888888888888888,\"#fdca26\"],[1.0,\"#f0f921\"]]}],\"heatmap\":[{\"type\":\"heatmap\",\"colorbar\":{\"outlinewidth\":0,\"ticks\":\"\"},\"colorscale\":[[0.0,\"#0d0887\"],[0.1111111111111111,\"#46039f\"],[0.2222222222222222,\"#7201a8\"],[0.3333333333333333,\"#9c179e\"],[0.4444444444444444,\"#bd3786\"],[0.5555555555555556,\"#d8576b\"],[0.6666666666666666,\"#ed7953\"],[0.7777777777777778,\"#fb9f3a\"],[0.8888888888888888,\"#fdca26\"],[1.0,\"#f0f921\"]]}],\"heatmapgl\":[{\"type\":\"heatmapgl\",\"colorbar\":{\"outlinewidth\":0,\"ticks\":\"\"},\"colorscale\":[[0.0,\"#0d0887\"],[0.1111111111111111,\"#46039f\"],[0.2222222222222222,\"#7201a8\"],[0.3333333333333333,\"#9c179e\"],[0.4444444444444444,\"#bd3786\"],[0.5555555555555556,\"#d8576b\"],[0.6666666666666666,\"#ed7953\"],[0.7777777777777778,\"#fb9f3a\"],[0.8888888888888888,\"#fdca26\"],[1.0,\"#f0f921\"]]}],\"contourcarpet\":[{\"type\":\"contourcarpet\",\"colorbar\":{\"outlinewidth\":0,\"ticks\":\"\"}}],\"contour\":[{\"type\":\"contour\",\"colorbar\":{\"outlinewidth\":0,\"ticks\":\"\"},\"colorscale\":[[0.0,\"#0d0887\"],[0.1111111111111111,\"#46039f\"],[0.2222222222222222,\"#7201a8\"],[0.3333333333333333,\"#9c179e\"],[0.4444444444444444,\"#bd3786\"],[0.5555555555555556,\"#d8576b\"],[0.6666666666666666,\"#ed7953\"],[0.7777777777777778,\"#fb9f3a\"],[0.8888888888888888,\"#fdca26\"],[1.0,\"#f0f921\"]]}],\"surface\":[{\"type\":\"surface\",\"colorbar\":{\"outlinewidth\":0,\"ticks\":\"\"},\"colorscale\":[[0.0,\"#0d0887\"],[0.1111111111111111,\"#46039f\"],[0.2222222222222222,\"#7201a8\"],[0.3333333333333333,\"#9c179e\"],[0.4444444444444444,\"#bd3786\"],[0.5555555555555556,\"#d8576b\"],[0.6666666666666666,\"#ed7953\"],[0.7777777777777778,\"#fb9f3a\"],[0.8888888888888888,\"#fdca26\"],[1.0,\"#f0f921\"]]}],\"mesh3d\":[{\"type\":\"mesh3d\",\"colorbar\":{\"outlinewidth\":0,\"ticks\":\"\"}}],\"scatter\":[{\"fillpattern\":{\"fillmode\":\"overlay\",\"size\":10,\"solidity\":0.2},\"type\":\"scatter\"}],\"parcoords\":[{\"type\":\"parcoords\",\"line\":{\"colorbar\":{\"outlinewidth\":0,\"ticks\":\"\"}}}],\"scatterpolargl\":[{\"type\":\"scatterpolargl\",\"marker\":{\"colorbar\":{\"outlinewidth\":0,\"ticks\":\"\"}}}],\"bar\":[{\"error_x\":{\"color\":\"#2a3f5f\"},\"error_y\":{\"color\":\"#2a3f5f\"},\"marker\":{\"line\":{\"color\":\"#E5ECF6\",\"width\":0.5},\"pattern\":{\"fillmode\":\"overlay\",\"size\":10,\"solidity\":0.2}},\"type\":\"bar\"}],\"scattergeo\":[{\"type\":\"scattergeo\",\"marker\":{\"colorbar\":{\"outlinewidth\":0,\"ticks\":\"\"}}}],\"scatterpolar\":[{\"type\":\"scatterpolar\",\"marker\":{\"colorbar\":{\"outlinewidth\":0,\"ticks\":\"\"}}}],\"histogram\":[{\"marker\":{\"pattern\":{\"fillmode\":\"overlay\",\"size\":10,\"solidity\":0.2}},\"type\":\"histogram\"}],\"scattergl\":[{\"type\":\"scattergl\",\"marker\":{\"colorbar\":{\"outlinewidth\":0,\"ticks\":\"\"}}}],\"scatter3d\":[{\"type\":\"scatter3d\",\"line\":{\"colorbar\":{\"outlinewidth\":0,\"ticks\":\"\"}},\"marker\":{\"colorbar\":{\"outlinewidth\":0,\"ticks\":\"\"}}}],\"scattermapbox\":[{\"type\":\"scattermapbox\",\"marker\":{\"colorbar\":{\"outlinewidth\":0,\"ticks\":\"\"}}}],\"scatterternary\":[{\"type\":\"scatterternary\",\"marker\":{\"colorbar\":{\"outlinewidth\":0,\"ticks\":\"\"}}}],\"scattercarpet\":[{\"type\":\"scattercarpet\",\"marker\":{\"colorbar\":{\"outlinewidth\":0,\"ticks\":\"\"}}}],\"carpet\":[{\"aaxis\":{\"endlinecolor\":\"#2a3f5f\",\"gridcolor\":\"white\",\"linecolor\":\"white\",\"minorgridcolor\":\"white\",\"startlinecolor\":\"#2a3f5f\"},\"baxis\":{\"endlinecolor\":\"#2a3f5f\",\"gridcolor\":\"white\",\"linecolor\":\"white\",\"minorgridcolor\":\"white\",\"startlinecolor\":\"#2a3f5f\"},\"type\":\"carpet\"}],\"table\":[{\"cells\":{\"fill\":{\"color\":\"#EBF0F8\"},\"line\":{\"color\":\"white\"}},\"header\":{\"fill\":{\"color\":\"#C8D4E3\"},\"line\":{\"color\":\"white\"}},\"type\":\"table\"}],\"barpolar\":[{\"marker\":{\"line\":{\"color\":\"#E5ECF6\",\"width\":0.5},\"pattern\":{\"fillmode\":\"overlay\",\"size\":10,\"solidity\":0.2}},\"type\":\"barpolar\"}],\"pie\":[{\"automargin\":true,\"type\":\"pie\"}]},\"layout\":{\"autotypenumbers\":\"strict\",\"colorway\":[\"#636efa\",\"#EF553B\",\"#00cc96\",\"#ab63fa\",\"#FFA15A\",\"#19d3f3\",\"#FF6692\",\"#B6E880\",\"#FF97FF\",\"#FECB52\"],\"font\":{\"color\":\"#2a3f5f\"},\"hovermode\":\"closest\",\"hoverlabel\":{\"align\":\"left\"},\"paper_bgcolor\":\"white\",\"plot_bgcolor\":\"#E5ECF6\",\"polar\":{\"bgcolor\":\"#E5ECF6\",\"angularaxis\":{\"gridcolor\":\"white\",\"linecolor\":\"white\",\"ticks\":\"\"},\"radialaxis\":{\"gridcolor\":\"white\",\"linecolor\":\"white\",\"ticks\":\"\"}},\"ternary\":{\"bgcolor\":\"#E5ECF6\",\"aaxis\":{\"gridcolor\":\"white\",\"linecolor\":\"white\",\"ticks\":\"\"},\"baxis\":{\"gridcolor\":\"white\",\"linecolor\":\"white\",\"ticks\":\"\"},\"caxis\":{\"gridcolor\":\"white\",\"linecolor\":\"white\",\"ticks\":\"\"}},\"coloraxis\":{\"colorbar\":{\"outlinewidth\":0,\"ticks\":\"\"}},\"colorscale\":{\"sequential\":[[0.0,\"#0d0887\"],[0.1111111111111111,\"#46039f\"],[0.2222222222222222,\"#7201a8\"],[0.3333333333333333,\"#9c179e\"],[0.4444444444444444,\"#bd3786\"],[0.5555555555555556,\"#d8576b\"],[0.6666666666666666,\"#ed7953\"],[0.7777777777777778,\"#fb9f3a\"],[0.8888888888888888,\"#fdca26\"],[1.0,\"#f0f921\"]],\"sequentialminus\":[[0.0,\"#0d0887\"],[0.1111111111111111,\"#46039f\"],[0.2222222222222222,\"#7201a8\"],[0.3333333333333333,\"#9c179e\"],[0.4444444444444444,\"#bd3786\"],[0.5555555555555556,\"#d8576b\"],[0.6666666666666666,\"#ed7953\"],[0.7777777777777778,\"#fb9f3a\"],[0.8888888888888888,\"#fdca26\"],[1.0,\"#f0f921\"]],\"diverging\":[[0,\"#8e0152\"],[0.1,\"#c51b7d\"],[0.2,\"#de77ae\"],[0.3,\"#f1b6da\"],[0.4,\"#fde0ef\"],[0.5,\"#f7f7f7\"],[0.6,\"#e6f5d0\"],[0.7,\"#b8e186\"],[0.8,\"#7fbc41\"],[0.9,\"#4d9221\"],[1,\"#276419\"]]},\"xaxis\":{\"gridcolor\":\"white\",\"linecolor\":\"white\",\"ticks\":\"\",\"title\":{\"standoff\":15},\"zerolinecolor\":\"white\",\"automargin\":true,\"zerolinewidth\":2},\"yaxis\":{\"gridcolor\":\"white\",\"linecolor\":\"white\",\"ticks\":\"\",\"title\":{\"standoff\":15},\"zerolinecolor\":\"white\",\"automargin\":true,\"zerolinewidth\":2},\"scene\":{\"xaxis\":{\"backgroundcolor\":\"#E5ECF6\",\"gridcolor\":\"white\",\"linecolor\":\"white\",\"showbackground\":true,\"ticks\":\"\",\"zerolinecolor\":\"white\",\"gridwidth\":2},\"yaxis\":{\"backgroundcolor\":\"#E5ECF6\",\"gridcolor\":\"white\",\"linecolor\":\"white\",\"showbackground\":true,\"ticks\":\"\",\"zerolinecolor\":\"white\",\"gridwidth\":2},\"zaxis\":{\"backgroundcolor\":\"#E5ECF6\",\"gridcolor\":\"white\",\"linecolor\":\"white\",\"showbackground\":true,\"ticks\":\"\",\"zerolinecolor\":\"white\",\"gridwidth\":2}},\"shapedefaults\":{\"line\":{\"color\":\"#2a3f5f\"}},\"annotationdefaults\":{\"arrowcolor\":\"#2a3f5f\",\"arrowhead\":0,\"arrowwidth\":1},\"geo\":{\"bgcolor\":\"white\",\"landcolor\":\"#E5ECF6\",\"subunitcolor\":\"white\",\"showland\":true,\"showlakes\":true,\"lakecolor\":\"white\"},\"title\":{\"x\":0.05},\"mapbox\":{\"style\":\"light\"}}},\"font\":{\"size\":15},\"autosize\":false,\"width\":700,\"yaxis\":{\"ticklabelposition\":\"outside\"}},                        {\"responsive\": true}                    ).then(function(){\n",
       "                            \n",
       "var gd = document.getElementById('92a03706-fcdb-4d2d-858b-3ded83dec8d4');\n",
       "var x = new MutationObserver(function (mutations, observer) {{\n",
       "        var display = window.getComputedStyle(gd).display;\n",
       "        if (!display || display === 'none') {{\n",
       "            console.log([gd, 'removed!']);\n",
       "            Plotly.purge(gd);\n",
       "            observer.disconnect();\n",
       "        }}\n",
       "}});\n",
       "\n",
       "// Listen for the removal of the full notebook cells\n",
       "var notebookContainer = gd.closest('#notebook-container');\n",
       "if (notebookContainer) {{\n",
       "    x.observe(notebookContainer, {childList: true});\n",
       "}}\n",
       "\n",
       "// Listen for the clearing of the current output cell\n",
       "var outputEl = gd.closest('.output');\n",
       "if (outputEl) {{\n",
       "    x.observe(outputEl, {childList: true});\n",
       "}}\n",
       "\n",
       "                        })                };                });            </script>        </div>"
      ]
     },
     "metadata": {},
     "output_type": "display_data"
    }
   ],
   "source": [
    "link = {\"source\": pairs[\"thermostat_index\"].to_list(),\n",
    "       \"target\": pairs[\"barostat_index\"].to_list(),\n",
    "       \"value\": pairs[\"value\"].to_list()}\n",
    "node = {\n",
    "    \"label\": [\"Berendsen\", \"No temperature\", \"Nose-Hoover\", \"V-rescale\", \"Berendsen\", \"No pressure\", \"Parrinello-Rahman\"],\n",
    "    \"pad\": 20,\n",
    "    \"thickness\": 15\n",
    "}\n",
    "data=go.Sankey(link=link, node=node)\n",
    "fig = go.Figure(data)\n",
    "fig.update_layout(font_size=15, autosize=False, width=700)\n",
    "fig.update_yaxes(ticklabelposition = \"outside\")\n",
    "fig.show()"
   ]
  },
  {
   "cell_type": "code",
   "execution_count": null,
   "id": "1d408b20-8d9f-45a0-aea6-31425e123aec",
   "metadata": {},
   "outputs": [],
   "source": []
  },
  {
   "cell_type": "markdown",
   "id": "725ec08d-769c-4fc3-a874-5846e58e47d8",
   "metadata": {},
   "source": [
    "## Watermark"
   ]
  },
  {
   "cell_type": "code",
   "execution_count": 185,
   "id": "fe6f995e-28f2-4335-b3d3-2cc0da977ca8",
   "metadata": {},
   "outputs": [
    {
     "name": "stdout",
     "output_type": "stream",
     "text": [
      "The watermark extension is already loaded. To reload it, use:\n",
      "  %reload_ext watermark\n",
      "Python implementation: CPython\n",
      "Python version       : 3.9.15\n",
      "IPython version      : 8.6.0\n",
      "\n",
      "Compiler    : GCC 11.2.0\n",
      "OS          : Linux\n",
      "Release     : 5.15.0-58-generic\n",
      "Machine     : x86_64\n",
      "Processor   : x86_64\n",
      "CPU cores   : 8\n",
      "Architecture: 64bit\n",
      "\n",
      "\n",
      "jupyterlab: 3.5.2\n",
      "upsetplot : 0.8.0\n",
      "\n",
      "numpy     : 1.24.1\n",
      "yaml      : 6.0\n",
      "pandas    : 1.5.2\n",
      "plotly    : 5.12.0\n",
      "matplotlib: 3.5.3\n",
      "\n",
      "Watermark: 2.3.1\n",
      "\n",
      "conda environment: mdda\n",
      "\n"
     ]
    }
   ],
   "source": [
    "%load_ext watermark\n",
    "%watermark --python --machine\n",
    "print(\"\")\n",
    "# Versions for jupyterlab, imported packages and watermark itself\n",
    "%watermark --packages jupyterlab,upsetplot --iversions --watermark\n",
    "# Name of conda environment\n",
    "%watermark --conda"
   ]
  },
  {
   "cell_type": "code",
   "execution_count": null,
   "id": "4b3a3497-f778-41c9-a560-0080d7fb6a06",
   "metadata": {},
   "outputs": [],
   "source": []
  }
 ],
 "metadata": {
  "kernelspec": {
   "display_name": "Python 3 (ipykernel)",
   "language": "python",
   "name": "python3"
  },
  "language_info": {
   "codemirror_mode": {
    "name": "ipython",
    "version": 3
   },
   "file_extension": ".py",
   "mimetype": "text/x-python",
   "name": "python",
   "nbconvert_exporter": "python",
   "pygments_lexer": "ipython3",
   "version": "3.9.15"
  },
  "toc-autonumbering": false,
  "toc-showcode": false,
  "toc-showmarkdowntxt": false,
  "toc-showtags": false
 },
 "nbformat": 4,
 "nbformat_minor": 5
}
