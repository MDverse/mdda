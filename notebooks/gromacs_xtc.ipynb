{
 "cells": [
  {
   "cell_type": "markdown",
   "id": "6bfc8d26-0e0f-487c-8ba4-e9b03cd67742",
   "metadata": {},
   "source": [
    "# Gromacs XTC files analysis\n",
    "\n",
    "## Import libraries"
   ]
  },
  {
   "cell_type": "code",
   "execution_count": 1,
   "id": "c3575c54-8cf5-4013-9703-44e51ebc6415",
   "metadata": {
    "tags": []
   },
   "outputs": [],
   "source": [
    "import numpy as np\n",
    "import matplotlib.pyplot as plt\n",
    "import matplotlib.ticker as mticker\n",
    "import pandas as pd"
   ]
  },
  {
   "cell_type": "code",
   "execution_count": 2,
   "id": "71379f6d-6986-4872-bd32-6282d91cb4d7",
   "metadata": {
    "tags": []
   },
   "outputs": [
    {
     "name": "stdout",
     "output_type": "stream",
     "text": [
      "Python implementation: CPython\n",
      "Python version       : 3.9.16\n",
      "IPython version      : 8.6.0\n",
      "\n",
      "Compiler    : GCC 11.3.0\n",
      "OS          : Linux\n",
      "Release     : 5.15.0-67-generic\n",
      "Machine     : x86_64\n",
      "Processor   : x86_64\n",
      "CPU cores   : 8\n",
      "Architecture: 64bit\n",
      "\n",
      "jupyterlab: 3.6.1\n",
      "\n",
      "numpy     : 1.24.2\n",
      "pandas    : 1.5.3\n",
      "matplotlib: 3.5.3\n",
      "\n",
      "Watermark: 2.3.1\n",
      "\n",
      "conda environment: mdda\n",
      "\n"
     ]
    }
   ],
   "source": [
    "%load_ext watermark\n",
    "%watermark --python --machine\n",
    "# Python packages versions\n",
    "%watermark --packages jupyterlab --iversions --watermark\n",
    "# conda environment name\n",
    "%watermark --conda"
   ]
  },
  {
   "cell_type": "code",
   "execution_count": 3,
   "id": "b121c3d6-60aa-4c0c-86a5-55de78dfe0ba",
   "metadata": {},
   "outputs": [],
   "source": [
    "pd.set_option(\"display.max_colwidth\", None)"
   ]
  },
  {
   "cell_type": "markdown",
   "id": "164261c7-ff00-4c9e-bb88-7dd5882dae72",
   "metadata": {
    "tags": []
   },
   "source": [
    "## Load data"
   ]
  },
  {
   "cell_type": "markdown",
   "id": "b68e0fed-f19a-4532-be67-e0409ebd7252",
   "metadata": {},
   "source": [
    "The last line of `gmxcheck_results.csv` contains `number of not complete xtc files :  1523` that needs to be ignored."
   ]
  },
  {
   "cell_type": "code",
   "execution_count": 4,
   "id": "8a75c37b-1328-487f-a2bb-6c5786eaeee1",
   "metadata": {
    "tags": []
   },
   "outputs": [
    {
     "name": "stdout",
     "output_type": "stream",
     "text": [
      "(1894, 7)\n"
     ]
    },
    {
     "data": {
      "text/html": [
       "<div>\n",
       "<style scoped>\n",
       "    .dataframe tbody tr th:only-of-type {\n",
       "        vertical-align: middle;\n",
       "    }\n",
       "\n",
       "    .dataframe tbody tr th {\n",
       "        vertical-align: top;\n",
       "    }\n",
       "\n",
       "    .dataframe thead th {\n",
       "        text-align: right;\n",
       "    }\n",
       "</style>\n",
       "<table border=\"1\" class=\"dataframe\">\n",
       "  <thead>\n",
       "    <tr style=\"text-align: right;\">\n",
       "      <th></th>\n",
       "      <th>nbatoms</th>\n",
       "      <th>nbframes</th>\n",
       "      <th>timestep</th>\n",
       "      <th>sim_time</th>\n",
       "      <th>database</th>\n",
       "      <th>ID</th>\n",
       "      <th>path</th>\n",
       "    </tr>\n",
       "  </thead>\n",
       "  <tbody>\n",
       "    <tr>\n",
       "      <th>0</th>\n",
       "      <td>3468.0</td>\n",
       "      <td>226.0</td>\n",
       "      <td>20000.0</td>\n",
       "      <td>NaN</td>\n",
       "      <td>osf</td>\n",
       "      <td>6fuqs</td>\n",
       "      <td>/data/project/mdws.git/data/downloads/osf/6fuqs/Trajectories/4_7byl.xtc\\n</td>\n",
       "    </tr>\n",
       "    <tr>\n",
       "      <th>1</th>\n",
       "      <td>51523.0</td>\n",
       "      <td>2001.0</td>\n",
       "      <td>100.0</td>\n",
       "      <td>200000.0</td>\n",
       "      <td>osf</td>\n",
       "      <td>8tbp2</td>\n",
       "      <td>/data/project/mdws.git/data/downloads/osf/8tbp2/traj98.xtc\\n</td>\n",
       "    </tr>\n",
       "    <tr>\n",
       "      <th>2</th>\n",
       "      <td>20324.0</td>\n",
       "      <td>5023.0</td>\n",
       "      <td>100.0</td>\n",
       "      <td>NaN</td>\n",
       "      <td>osf</td>\n",
       "      <td>wytg2</td>\n",
       "      <td>/data/project/mdws.git/data/downloads/osf/wytg2/amber_SH_dimer/traj_mol_ur_nojump_PROT.xtc\\n</td>\n",
       "    </tr>\n",
       "    <tr>\n",
       "      <th>3</th>\n",
       "      <td>319600.0</td>\n",
       "      <td>2001.0</td>\n",
       "      <td>500.0</td>\n",
       "      <td>1000000.0</td>\n",
       "      <td>osf</td>\n",
       "      <td>u8xrn</td>\n",
       "      <td>/data/project/mdws.git/data/downloads/osf/u8xrn/traj_all.xtc\\n</td>\n",
       "    </tr>\n",
       "    <tr>\n",
       "      <th>4</th>\n",
       "      <td>2410.0</td>\n",
       "      <td>8000.0</td>\n",
       "      <td>1.0</td>\n",
       "      <td>NaN</td>\n",
       "      <td>osf</td>\n",
       "      <td>7jqyz</td>\n",
       "      <td>/data/project/mdws.git/data/downloads/osf/7jqyz/Markov_model/center_structures_15dists_8kcenters.xtc\\n</td>\n",
       "    </tr>\n",
       "  </tbody>\n",
       "</table>\n",
       "</div>"
      ],
      "text/plain": [
       "    nbatoms  nbframes  timestep   sim_time database     ID  \\\n",
       "0    3468.0     226.0   20000.0        NaN      osf  6fuqs   \n",
       "1   51523.0    2001.0     100.0   200000.0      osf  8tbp2   \n",
       "2   20324.0    5023.0     100.0        NaN      osf  wytg2   \n",
       "3  319600.0    2001.0     500.0  1000000.0      osf  u8xrn   \n",
       "4    2410.0    8000.0       1.0        NaN      osf  7jqyz   \n",
       "\n",
       "                                                                                                     path  \n",
       "0                               /data/project/mdws.git/data/downloads/osf/6fuqs/Trajectories/4_7byl.xtc\\n  \n",
       "1                                            /data/project/mdws.git/data/downloads/osf/8tbp2/traj98.xtc\\n  \n",
       "2            /data/project/mdws.git/data/downloads/osf/wytg2/amber_SH_dimer/traj_mol_ur_nojump_PROT.xtc\\n  \n",
       "3                                          /data/project/mdws.git/data/downloads/osf/u8xrn/traj_all.xtc\\n  \n",
       "4  /data/project/mdws.git/data/downloads/osf/7jqyz/Markov_model/center_structures_15dists_8kcenters.xtc\\n  "
      ]
     },
     "execution_count": 4,
     "metadata": {},
     "output_type": "execute_result"
    }
   ],
   "source": [
    "xtc_df = pd.read_csv(\"../data/gmxcheck_results.csv\", skipfooter=1, engine=\"python\")\n",
    "print(xtc_df.shape)\n",
    "xtc_df.head()"
   ]
  },
  {
   "cell_type": "markdown",
   "id": "68a7675e-765e-4d3d-8138-1d1d36f26576",
   "metadata": {
    "tags": []
   },
   "source": [
    "## Create an extra column with dataset origin and ID"
   ]
  },
  {
   "cell_type": "code",
   "execution_count": 5,
   "id": "93114edb-b548-40f0-a961-16a1c22e4965",
   "metadata": {
    "tags": []
   },
   "outputs": [
    {
     "data": {
      "text/html": [
       "<div>\n",
       "<style scoped>\n",
       "    .dataframe tbody tr th:only-of-type {\n",
       "        vertical-align: middle;\n",
       "    }\n",
       "\n",
       "    .dataframe tbody tr th {\n",
       "        vertical-align: top;\n",
       "    }\n",
       "\n",
       "    .dataframe thead th {\n",
       "        text-align: right;\n",
       "    }\n",
       "</style>\n",
       "<table border=\"1\" class=\"dataframe\">\n",
       "  <thead>\n",
       "    <tr style=\"text-align: right;\">\n",
       "      <th></th>\n",
       "      <th>nbatoms</th>\n",
       "      <th>nbframes</th>\n",
       "      <th>timestep</th>\n",
       "      <th>sim_time</th>\n",
       "      <th>database</th>\n",
       "      <th>ID</th>\n",
       "      <th>path</th>\n",
       "      <th>dataset</th>\n",
       "    </tr>\n",
       "  </thead>\n",
       "  <tbody>\n",
       "    <tr>\n",
       "      <th>0</th>\n",
       "      <td>3468.0</td>\n",
       "      <td>226.0</td>\n",
       "      <td>20000.0</td>\n",
       "      <td>NaN</td>\n",
       "      <td>osf</td>\n",
       "      <td>6fuqs</td>\n",
       "      <td>/data/project/mdws.git/data/downloads/osf/6fuqs/Trajectories/4_7byl.xtc\\n</td>\n",
       "      <td>osf_6fuqs</td>\n",
       "    </tr>\n",
       "    <tr>\n",
       "      <th>1</th>\n",
       "      <td>51523.0</td>\n",
       "      <td>2001.0</td>\n",
       "      <td>100.0</td>\n",
       "      <td>200000.0</td>\n",
       "      <td>osf</td>\n",
       "      <td>8tbp2</td>\n",
       "      <td>/data/project/mdws.git/data/downloads/osf/8tbp2/traj98.xtc\\n</td>\n",
       "      <td>osf_8tbp2</td>\n",
       "    </tr>\n",
       "    <tr>\n",
       "      <th>2</th>\n",
       "      <td>20324.0</td>\n",
       "      <td>5023.0</td>\n",
       "      <td>100.0</td>\n",
       "      <td>NaN</td>\n",
       "      <td>osf</td>\n",
       "      <td>wytg2</td>\n",
       "      <td>/data/project/mdws.git/data/downloads/osf/wytg2/amber_SH_dimer/traj_mol_ur_nojump_PROT.xtc\\n</td>\n",
       "      <td>osf_wytg2</td>\n",
       "    </tr>\n",
       "    <tr>\n",
       "      <th>3</th>\n",
       "      <td>319600.0</td>\n",
       "      <td>2001.0</td>\n",
       "      <td>500.0</td>\n",
       "      <td>1000000.0</td>\n",
       "      <td>osf</td>\n",
       "      <td>u8xrn</td>\n",
       "      <td>/data/project/mdws.git/data/downloads/osf/u8xrn/traj_all.xtc\\n</td>\n",
       "      <td>osf_u8xrn</td>\n",
       "    </tr>\n",
       "    <tr>\n",
       "      <th>4</th>\n",
       "      <td>2410.0</td>\n",
       "      <td>8000.0</td>\n",
       "      <td>1.0</td>\n",
       "      <td>NaN</td>\n",
       "      <td>osf</td>\n",
       "      <td>7jqyz</td>\n",
       "      <td>/data/project/mdws.git/data/downloads/osf/7jqyz/Markov_model/center_structures_15dists_8kcenters.xtc\\n</td>\n",
       "      <td>osf_7jqyz</td>\n",
       "    </tr>\n",
       "  </tbody>\n",
       "</table>\n",
       "</div>"
      ],
      "text/plain": [
       "    nbatoms  nbframes  timestep   sim_time database     ID  \\\n",
       "0    3468.0     226.0   20000.0        NaN      osf  6fuqs   \n",
       "1   51523.0    2001.0     100.0   200000.0      osf  8tbp2   \n",
       "2   20324.0    5023.0     100.0        NaN      osf  wytg2   \n",
       "3  319600.0    2001.0     500.0  1000000.0      osf  u8xrn   \n",
       "4    2410.0    8000.0       1.0        NaN      osf  7jqyz   \n",
       "\n",
       "                                                                                                     path  \\\n",
       "0                               /data/project/mdws.git/data/downloads/osf/6fuqs/Trajectories/4_7byl.xtc\\n   \n",
       "1                                            /data/project/mdws.git/data/downloads/osf/8tbp2/traj98.xtc\\n   \n",
       "2            /data/project/mdws.git/data/downloads/osf/wytg2/amber_SH_dimer/traj_mol_ur_nojump_PROT.xtc\\n   \n",
       "3                                          /data/project/mdws.git/data/downloads/osf/u8xrn/traj_all.xtc\\n   \n",
       "4  /data/project/mdws.git/data/downloads/osf/7jqyz/Markov_model/center_structures_15dists_8kcenters.xtc\\n   \n",
       "\n",
       "     dataset  \n",
       "0  osf_6fuqs  \n",
       "1  osf_8tbp2  \n",
       "2  osf_wytg2  \n",
       "3  osf_u8xrn  \n",
       "4  osf_7jqyz  "
      ]
     },
     "execution_count": 5,
     "metadata": {},
     "output_type": "execute_result"
    }
   ],
   "source": [
    "def create_dataset_name(row):\n",
    "    return f\"{row['database']}_{row['ID']}\"\n",
    "\n",
    "xtc_df[\"dataset\"] = xtc_df.apply(create_dataset_name, axis=\"columns\")\n",
    "xtc_df.head()"
   ]
  },
  {
   "cell_type": "markdown",
   "id": "9058216d-5e94-437c-8837-0e4743944d3a",
   "metadata": {},
   "source": [
    "## Remove unwanted rows\n",
    "\n",
    "Remove:\n",
    "- missing values,\n",
    "- redundant datasets,\n",
    "- space in paths (that leads to Nan)."
   ]
  },
  {
   "cell_type": "code",
   "execution_count": 6,
   "id": "b4338950-0009-4f22-b1cd-90c6bf27241b",
   "metadata": {
    "tags": []
   },
   "outputs": [
    {
     "name": "stdout",
     "output_type": "stream",
     "text": [
      "(779, 8)\n"
     ]
    }
   ],
   "source": [
    "xtc_df = (xtc_df\n",
    " .dropna(subset=[\"nbatoms\", \"nbframes\"])\n",
    " .drop_duplicates(subset=\"dataset\", keep=\"first\")\n",
    " .query(\"path.str.contains(' ') == False\")\n",
    ")         \n",
    "print(xtc_df.shape)"
   ]
  },
  {
   "cell_type": "markdown",
   "id": "346cc0db-6b65-4ba7-9ab8-f5516083620f",
   "metadata": {
    "tags": []
   },
   "source": [
    "Remove `\\n` at the end of path"
   ]
  },
  {
   "cell_type": "code",
   "execution_count": 7,
   "id": "a6f5e787-697b-4d3f-8d3f-528d7c7c5444",
   "metadata": {
    "tags": []
   },
   "outputs": [],
   "source": [
    "xtc_df[\"path\"] = xtc_df[\"path\"].str[:-1]"
   ]
  },
  {
   "cell_type": "markdown",
   "id": "8f6191ea-e20a-4c17-aa08-30455c20d1c6",
   "metadata": {
    "tags": []
   },
   "source": [
    "Remove prefix `/data/project/mdws.git/data/downloads/`"
   ]
  },
  {
   "cell_type": "code",
   "execution_count": 8,
   "id": "37283eb1-7f1e-4630-b9a9-e87fd4bfd174",
   "metadata": {
    "tags": []
   },
   "outputs": [
    {
     "name": "stderr",
     "output_type": "stream",
     "text": [
      "/tmp/ipykernel_268106/3253067677.py:1: FutureWarning: The default value of regex will change from True to False in a future version.\n",
      "  xtc_df[\"path\"] = xtc_df[\"path\"].str.replace(\"/data/project/mdws.git/data/downloads/\", \"\")\n"
     ]
    }
   ],
   "source": [
    "xtc_df[\"path\"] = xtc_df[\"path\"].str.replace(\"/data/project/mdws.git/data/downloads/\", \"\")"
   ]
  },
  {
   "cell_type": "markdown",
   "id": "aeb29d41-5f05-4d59-bb66-d8480a079d39",
   "metadata": {},
   "source": [
    "## Plot system size and number of frames distribution"
   ]
  },
  {
   "cell_type": "code",
   "execution_count": 9,
   "id": "387f65e9-6b52-4a00-abaf-ea916b196238",
   "metadata": {},
   "outputs": [
    {
     "data": {
      "image/png": "[encoded data removed]",
      "text/plain": [
       "<Figure size 1000x700 with 2 Axes>"
      ]
     },
     "metadata": {},
     "output_type": "display_data"
    }
   ],
   "source": [
    "def plot_system_size_frames_distribution(df):\n",
    "    \"\"\"Plot system size and frames distribution\"\"\"\n",
    "    bins = 2_000\n",
    "    plt.rcParams.update({\"font.size\": 16})\n",
    "    fig, ax = plt.subplots(figsize=(10,7))\n",
    "    plt.gca().xaxis.set_major_formatter(mticker.ScalarFormatter())\n",
    "    plt.ticklabel_format(style='plain')\n",
    "    \n",
    "    # Convert system size to k-particles (1000) \n",
    "    df[\"k_particles\"] = df[\"nbatoms\"] / 1_000\n",
    "    logbins = np.geomspace(df[\"k_particles\"].min(), df[\"k_particles\"].max(), bins)\n",
    "    values, _, _ = ax.hist(\n",
    "        df[\"k_particles\"], \n",
    "        bins=logbins,\n",
    "        color=\"tab:orange\", linewidth=3,\n",
    "        histtype=\"step\", cumulative=True\n",
    "    )\n",
    "    ax.set_xlabel(r\"System size ($\\times$ 1000 atoms/particles)\", weight=\"bold\")\n",
    "    ax.set_ylabel(\"Cumulative number of files\", weight=\"bold\")\n",
    "    ax.set_xscale(\"log\")\n",
    "    ax.set_xlim(0.1, 0.99*df[\"k_particles\"].max())\n",
    "    ax.tick_params(axis=\"x\", colors=\"tab:orange\")\n",
    "    ax.xaxis.label.set_color(\"tab:orange\")\n",
    "    ax.xaxis.set_major_formatter(mticker.StrMethodFormatter('{x:,.0f}'))\n",
    "    \n",
    "    logbins = np.geomspace(df[\"nbframes\"].min(), df[\"nbframes\"].max(), bins)\n",
    "    ax2 = ax.twiny()\n",
    "    ax2.set_xlabel(r\"Number of frames\", weight=\"bold\")\n",
    "    values, _, _ = ax2.hist(\n",
    "        df[\"nbframes\"], \n",
    "        bins=logbins,\n",
    "        color=\"tab:green\", linewidth=3,\n",
    "        histtype=\"step\", cumulative=True\n",
    "    )\n",
    "    ax2.set_xscale(\"log\")\n",
    "    ax2.xaxis.label.set_color(\"tab:green\")\n",
    "    ax2.set_xlim(1, 0.97*df[\"nbframes\"].max())\n",
    "    ax2.tick_params(axis=\"x\", colors=\"tab:green\")\n",
    "    ax2.xaxis.set_major_formatter(mticker.StrMethodFormatter('{x:,.0f}'))\n",
    "\n",
    "\n",
    "    filename = \"fig/gromacs_xtc_system_size_frames_cumulative_distribution\"\n",
    "    plt.savefig(f\"{filename}.png\", dpi=300, bbox_inches=\"tight\")\n",
    "    plt.savefig(f\"{filename}.svg\", bbox_inches=\"tight\")\n",
    "\n",
    "plot_system_size_frames_distribution(xtc_df)"
   ]
  },
  {
   "cell_type": "markdown",
   "id": "e23d0b5a-bbbe-4560-bc8f-d3befdd50225",
   "metadata": {},
   "source": [
    "## xtc file with largest system size"
   ]
  },
  {
   "cell_type": "code",
   "execution_count": 10,
   "id": "2bbfe379-e4f7-4959-bedd-382fbe89c248",
   "metadata": {
    "tags": []
   },
   "outputs": [
    {
     "data": {
      "text/plain": [
       "nbatoms                                    1055753.0\n",
       "nbframes                                     10001.0\n",
       "timestep                                       100.0\n",
       "sim_time                                   1000000.0\n",
       "database                                      zenodo\n",
       "ID                                           3756664\n",
       "path           zenodo/3756664/micro_40mMNaClskip.xtc\n",
       "dataset                               zenodo_3756664\n",
       "k_particles                                 1055.753\n",
       "Name: 545, dtype: object"
      ]
     },
     "execution_count": 10,
     "metadata": {},
     "output_type": "execute_result"
    }
   ],
   "source": [
    "(xtc_df\n",
    " .sort_values(by=\"nbatoms\", ascending=False)\n",
    " .head(1)\n",
    " .squeeze()\n",
    ")"
   ]
  },
  {
   "cell_type": "markdown",
   "id": "c28957de-07bc-4aa2-b6f4-fc708a55d0cc",
   "metadata": {
    "tags": []
   },
   "source": [
    "Zenodo dataset [3756664](https://zenodo.org/record/3756664). Corresponding .gro file: `confEND.gro`"
   ]
  },
  {
   "cell_type": "markdown",
   "id": "7195a69e-43b2-4dad-89ba-adeebbcd114a",
   "metadata": {},
   "source": [
    "## xtc file with largest number of frames"
   ]
  },
  {
   "cell_type": "code",
   "execution_count": 11,
   "id": "18ed32cd-781f-4014-9b89-5a3ebf830126",
   "metadata": {
    "tags": []
   },
   "outputs": [
    {
     "data": {
      "text/plain": [
       "nbatoms                         2612.0\n",
       "nbframes                     5067122.0\n",
       "timestep                           1.0\n",
       "sim_time                           NaN\n",
       "database                        zenodo\n",
       "ID                             3989044\n",
       "path           zenodo/3989044/sim1.xtc\n",
       "dataset                 zenodo_3989044\n",
       "k_particles                      2.612\n",
       "Name: 337, dtype: object"
      ]
     },
     "execution_count": 11,
     "metadata": {},
     "output_type": "execute_result"
    }
   ],
   "source": [
    "(xtc_df\n",
    " .sort_values(by=\"nbframes\", ascending=False)\n",
    " .head(1)\n",
    " .squeeze()\n",
    ")"
   ]
  },
  {
   "cell_type": "markdown",
   "id": "55129de4-ea4e-4a58-bf48-30f786f777de",
   "metadata": {
    "tags": []
   },
   "source": [
    "Zenodo dataset [3989044](https://zenodo.org/record/3989044). Corresponding .gro (actually .tpr) file: `sim1.tpr`"
   ]
  }
 ],
 "metadata": {
  "kernelspec": {
   "display_name": "Python 3 (ipykernel)",
   "language": "python",
   "name": "python3"
  },
  "language_info": {
   "codemirror_mode": {
    "name": "ipython",
    "version": 3
   },
   "file_extension": ".py",
   "mimetype": "text/x-python",
   "name": "python",
   "nbconvert_exporter": "python",
   "pygments_lexer": "ipython3",
   "version": "3.9.16"
  }
 },
 "nbformat": 4,
 "nbformat_minor": 5
}
